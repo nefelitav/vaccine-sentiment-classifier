{
  "nbformat": 4,
  "nbformat_minor": 0,
  "metadata": {
    "colab": {
      "name": "1800190-Nefeli-Tavoulari.ipynb",
      "provenance": [],
      "collapsed_sections": []
    },
    "kernelspec": {
      "display_name": "Python 3",
      "name": "python3"
    },
    "language_info": {
      "name": "python"
    },
    "accelerator": "GPU"
  },
  "cells": [
    {
      "cell_type": "markdown",
      "metadata": {
        "id": "EW34__zUBaFL"
      },
      "source": [
        "# Vaccine Sentiment Classification\n",
        "*by Nefeli Tavoulari*"
      ]
    },
    {
      "cell_type": "markdown",
      "metadata": {
        "id": "Jnk1un7nBfNR"
      },
      "source": [
        "#### In this notebook I classify tweets as Neutral, Pro-vax or Anti-vax using two bidirectional stacked RNNs with LSTM/GRU cells."
      ]
    },
    {
      "cell_type": "markdown",
      "metadata": {
        "id": "kOXT2nsK1kOq"
      },
      "source": [
        "## Install Dependencies"
      ]
    },
    {
      "cell_type": "code",
      "metadata": {
        "colab": {
          "base_uri": "https://localhost:8080/"
        },
        "id": "jl8wlD1VRC3F",
        "outputId": "2abc4272-da69-41e2-f5a0-f88cd01000e4"
      },
      "source": [
        "!pip install -U torch==1.8.0 torchtext==0.9.0"
      ],
      "execution_count": 1,
      "outputs": [
        {
          "output_type": "stream",
          "name": "stdout",
          "text": [
            "Requirement already satisfied: torch==1.8.0 in /usr/local/lib/python3.7/dist-packages (1.8.0)\n",
            "Requirement already satisfied: torchtext==0.9.0 in /usr/local/lib/python3.7/dist-packages (0.9.0)\n",
            "Requirement already satisfied: typing-extensions in /usr/local/lib/python3.7/dist-packages (from torch==1.8.0) (3.10.0.2)\n",
            "Requirement already satisfied: numpy in /usr/local/lib/python3.7/dist-packages (from torch==1.8.0) (1.19.5)\n",
            "Requirement already satisfied: tqdm in /usr/local/lib/python3.7/dist-packages (from torchtext==0.9.0) (4.62.3)\n",
            "Requirement already satisfied: requests in /usr/local/lib/python3.7/dist-packages (from torchtext==0.9.0) (2.23.0)\n",
            "Requirement already satisfied: certifi>=2017.4.17 in /usr/local/lib/python3.7/dist-packages (from requests->torchtext==0.9.0) (2021.10.8)\n",
            "Requirement already satisfied: urllib3!=1.25.0,!=1.25.1,<1.26,>=1.21.1 in /usr/local/lib/python3.7/dist-packages (from requests->torchtext==0.9.0) (1.24.3)\n",
            "Requirement already satisfied: chardet<4,>=3.0.2 in /usr/local/lib/python3.7/dist-packages (from requests->torchtext==0.9.0) (3.0.4)\n",
            "Requirement already satisfied: idna<3,>=2.5 in /usr/local/lib/python3.7/dist-packages (from requests->torchtext==0.9.0) (2.10)\n"
          ]
        }
      ]
    },
    {
      "cell_type": "markdown",
      "metadata": {
        "id": "sYnNIsloBipg"
      },
      "source": [
        "## Import Packages"
      ]
    },
    {
      "cell_type": "code",
      "metadata": {
        "id": "sB8j3615BTwM"
      },
      "source": [
        "%matplotlib inline\n",
        "import io\n",
        "import re\n",
        "import csv\n",
        "\n",
        "import numpy as np\n",
        "import pandas as pd\n",
        "import matplotlib.pyplot as plt\n",
        "from google.colab import files\n",
        "import re\n",
        "import csv\n",
        "\n",
        "import torch\n",
        "import torch.nn as nn\n",
        "from torchtext.legacy import data   \n",
        "from torchtext.vocab import GloVe\n",
        "from torchtext.legacy.data import BucketIterator\n",
        "import torch.nn.functional as F\n",
        "import torch.optim as optim\n",
        "from torch.nn.utils.rnn import pack_padded_sequence, pad_packed_sequence\n",
        "\n",
        "from sklearn.metrics import precision_recall_fscore_support, confusion_matrix, ConfusionMatrixDisplay\n",
        "from sklearn.metrics import classification_report, roc_curve, roc_auc_score\n",
        "from sklearn.metrics import roc_curve, accuracy_score, mean_absolute_error\n",
        "\n",
        "SEED = 1234\n",
        "torch.manual_seed(SEED)\n",
        "torch.cuda.manual_seed(SEED)\n",
        "torch.backends.cudnn.deterministic = True"
      ],
      "execution_count": 2,
      "outputs": []
    },
    {
      "cell_type": "markdown",
      "source": [
        "## Use GPU for faster processing"
      ],
      "metadata": {
        "id": "EAyVZ0n9vIbG"
      }
    },
    {
      "cell_type": "code",
      "source": [
        "device = torch.device(\"cuda\" if torch.cuda.is_available() else \"cpu\")\n",
        "print(\"Device available for running: \")\n",
        "print(device)"
      ],
      "metadata": {
        "colab": {
          "base_uri": "https://localhost:8080/"
        },
        "id": "9zeJXsqMvFAo",
        "outputId": "8eae96d6-5a98-4fd4-9e63-d018925c5600"
      },
      "execution_count": 3,
      "outputs": [
        {
          "output_type": "stream",
          "name": "stdout",
          "text": [
            "Device available for running: \n",
            "cuda\n"
          ]
        }
      ]
    },
    {
      "cell_type": "markdown",
      "metadata": {
        "id": "SwQ1dAaDBrKg"
      },
      "source": [
        "## Upload dataset - Create and Clean dataframe"
      ]
    },
    {
      "cell_type": "code",
      "metadata": {
        "id": "1mBmlpIlBt84",
        "colab": {
          "resources": {
            "http://localhost:8080/nbextensions/google.colab/files.js": {
              "data": "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",
              "ok": true,
              "headers": [
                [
                  "content-type",
                  "application/javascript"
                ]
              ],
              "status": 200,
              "status_text": ""
            }
          },
          "base_uri": "https://localhost:8080/",
          "height": 73
        },
        "outputId": "d7ad66aa-4d18-4da5-9346-6d902e60d11f"
      },
      "source": [
        "upload_train = files.upload()"
      ],
      "execution_count": 4,
      "outputs": [
        {
          "output_type": "display_data",
          "data": {
            "text/html": [
              "\n",
              "     <input type=\"file\" id=\"files-5f17ff12-acf9-4d09-9654-c0473b483197\" name=\"files[]\" multiple disabled\n",
              "        style=\"border:none\" />\n",
              "     <output id=\"result-5f17ff12-acf9-4d09-9654-c0473b483197\">\n",
              "      Upload widget is only available when the cell has been executed in the\n",
              "      current browser session. Please rerun this cell to enable.\n",
              "      </output>\n",
              "      <script src=\"/nbextensions/google.colab/files.js\"></script> "
            ],
            "text/plain": [
              "<IPython.core.display.HTML object>"
            ]
          },
          "metadata": {}
        },
        {
          "output_type": "stream",
          "name": "stdout",
          "text": [
            "Saving vs_train.csv to vs_train (1).csv\n"
          ]
        }
      ]
    },
    {
      "cell_type": "code",
      "metadata": {
        "id": "gqzdiqaTBv_E",
        "colab": {
          "resources": {
            "http://localhost:8080/nbextensions/google.colab/files.js": {
              "data": "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",
              "ok": true,
              "headers": [
                [
                  "content-type",
                  "application/javascript"
                ]
              ],
              "status": 200,
              "status_text": ""
            }
          },
          "base_uri": "https://localhost:8080/",
          "height": 73
        },
        "outputId": "ce009eeb-7ce5-49c3-ea1f-5b1386c92a15"
      },
      "source": [
        "upload_dev = files.upload()"
      ],
      "execution_count": 5,
      "outputs": [
        {
          "output_type": "display_data",
          "data": {
            "text/html": [
              "\n",
              "     <input type=\"file\" id=\"files-5c0191f9-24b1-46c1-8e7a-f7f8c2f54952\" name=\"files[]\" multiple disabled\n",
              "        style=\"border:none\" />\n",
              "     <output id=\"result-5c0191f9-24b1-46c1-8e7a-f7f8c2f54952\">\n",
              "      Upload widget is only available when the cell has been executed in the\n",
              "      current browser session. Please rerun this cell to enable.\n",
              "      </output>\n",
              "      <script src=\"/nbextensions/google.colab/files.js\"></script> "
            ],
            "text/plain": [
              "<IPython.core.display.HTML object>"
            ]
          },
          "metadata": {}
        },
        {
          "output_type": "stream",
          "name": "stdout",
          "text": [
            "Saving vs_dev.csv to vs_dev (1).csv\n"
          ]
        }
      ]
    },
    {
      "cell_type": "code",
      "metadata": {
        "id": "crl8Sc9YByK9"
      },
      "source": [
        "train_df = pd.read_csv(io.BytesIO(upload_train['vs_train.csv']))\n",
        "dev_df = pd.read_csv(io.BytesIO(upload_dev['vs_dev.csv']))"
      ],
      "execution_count": 6,
      "outputs": []
    },
    {
      "cell_type": "code",
      "source": [
        "# remove empty instances / duplicates\n",
        "train_df.dropna(subset = [\"tweet\"], inplace=True)\n",
        "train_df.drop_duplicates(subset = [\"tweet\"], inplace=True)\n",
        "\n",
        "dev_df.dropna(subset = [\"tweet\"], inplace=True)\n",
        "\n",
        "# drop column with indices\n",
        "train_df.drop(['Unnamed: 0'], axis = 1, inplace = True) \n",
        "dev_df.drop(['Unnamed: 0'], axis = 1, inplace = True) "
      ],
      "metadata": {
        "id": "MLSekm-spl7O"
      },
      "execution_count": 7,
      "outputs": []
    },
    {
      "cell_type": "code",
      "source": [
        "# remove special characters, urls, emojis and lowercase tweets\n",
        "train_df[\"tweet\"] = train_df[\"tweet\"].apply(lambda line: re.sub('[^A-Za-z0-9]+', ' ', re.sub(r'http\\S+', ' ',line.lower().strip())))\n",
        "dev_df[\"tweet\"] = dev_df[\"tweet\"].apply(lambda line: re.sub('[^A-Za-z0-9]+', ' ', re.sub(r'http\\S+', ' ',line.lower().strip())))"
      ],
      "metadata": {
        "id": "5I70w9IaQ5ym"
      },
      "execution_count": 8,
      "outputs": []
    },
    {
      "cell_type": "code",
      "source": [
        "# remove empty instances again\n",
        "train_df.dropna(subset = [\"tweet\"], inplace=True)\n",
        "dev_df.dropna(subset = [\"tweet\"], inplace=True)"
      ],
      "metadata": {
        "id": "rPpv7zCNtia4"
      },
      "execution_count": 9,
      "outputs": []
    },
    {
      "cell_type": "code",
      "metadata": {
        "id": "OKStHo66Bz8t",
        "colab": {
          "base_uri": "https://localhost:8080/"
        },
        "outputId": "7842cf1b-aa01-4547-bffa-f3b895df265b"
      },
      "source": [
        "print(train_df) # training data"
      ],
      "execution_count": 10,
      "outputs": [
        {
          "output_type": "stream",
          "name": "stdout",
          "text": [
            "                                                   tweet  label\n",
            "0      sip n shop come thru right now marjais popular...      0\n",
            "1      i don t know about you but my family and i wil...      1\n",
            "2       msignorile immunizations should be mandatory ...      2\n",
            "3      president obama spoke in favor of vaccination ...      0\n",
            "4       myfoxla arizona monitoring hundreds for measl...      0\n",
            "...                                                  ...    ...\n",
            "15971   salon if u believe the anti vax nutcases caus...      1\n",
            "15972  how do you feel about parents who don t vaccin...      0\n",
            "15973  70 preschoolers tested for measles in simi val...      0\n",
            "15974  finance minister budget offers room to procure...      0\n",
            "15975  are you up to date on vaccines take cdc s vacc...      2\n",
            "\n",
            "[15881 rows x 2 columns]\n"
          ]
        }
      ]
    },
    {
      "cell_type": "code",
      "metadata": {
        "id": "2W3hygNmB05X",
        "colab": {
          "base_uri": "https://localhost:8080/"
        },
        "outputId": "663d3060-e7e7-4a25-d2e9-049b36622afd"
      },
      "source": [
        "print(dev_df) # validation data"
      ],
      "execution_count": 11,
      "outputs": [
        {
          "output_type": "stream",
          "name": "stdout",
          "text": [
            "                                                  tweet  label\n",
            "0      user they had a massive surge in with covid d...      1\n",
            "1     required vaccines for school parents and guard...      0\n",
            "2      kcstar two more johnson county children have ...      0\n",
            "3     nv can do better which states are the best and...      2\n",
            "4     nothing like killing ourselves w our own fear ...      2\n",
            "...                                                 ...    ...\n",
            "2277  rt abc7 number of measles cases reported in ca...      0\n",
            "2278  evidence points to the idea that measles affec...      0\n",
            "2279  where s savedyouaclick voxdotcom why you shoul...      2\n",
            "2280  some of my favorite people have autism if that...      2\n",
            "2281  coronavirus the married couple behind the succ...      0\n",
            "\n",
            "[2282 rows x 2 columns]\n"
          ]
        }
      ]
    },
    {
      "cell_type": "markdown",
      "metadata": {
        "id": "PrknN4jRbeN6"
      },
      "source": [
        "## Use Glove Embeddings"
      ]
    },
    {
      "cell_type": "code",
      "source": [
        "TEXT = data.Field(tokenize=\"spacy\", batch_first=True)\n",
        "LABEL = data.Field(sequential=False, use_vocab=False, is_target=True)"
      ],
      "metadata": {
        "id": "kzTe1JsAWaZn"
      },
      "execution_count": 12,
      "outputs": []
    },
    {
      "cell_type": "code",
      "source": [
        "train_df.to_csv(\"train.csv\", index=False)\n",
        "dev_df.to_csv(\"valid.csv\", index=False)\n",
        "\n",
        "train_data, valid_data = data.TabularDataset.splits(\n",
        "    path=\"\", train=\"train.csv\", \n",
        "    validation=\"valid.csv\",format=\"csv\", skip_header=True, \n",
        "    fields=[('tweet', TEXT), ('label', LABEL)]\n",
        ")\n",
        "\n",
        "print(f'Number of training examples: {len(train_data)}')\n",
        "print(f'Number of validation examples: {len(valid_data)}')"
      ],
      "metadata": {
        "id": "maMN_J5LoYVt",
        "colab": {
          "base_uri": "https://localhost:8080/"
        },
        "outputId": "e5aba701-b9cc-4338-974d-101cc44e9a64"
      },
      "execution_count": 13,
      "outputs": [
        {
          "output_type": "stream",
          "name": "stdout",
          "text": [
            "Number of training examples: 15881\n",
            "Number of validation examples: 2282\n"
          ]
        }
      ]
    },
    {
      "cell_type": "code",
      "source": [
        "# avoid words that dont offer any info\n",
        "TEXT.build_vocab(train_data, valid_data, vectors='glove.twitter.27B.100d', max_size=20000, min_freq=5)\n",
        "\n",
        "# get the vocab instance\n",
        "vocab = TEXT.vocab\n",
        "vocab.vectors"
      ],
      "metadata": {
        "id": "XgpUUassov5r",
        "colab": {
          "base_uri": "https://localhost:8080/"
        },
        "outputId": "c5462fa5-b9d3-461b-f82c-2c8951d1adc6"
      },
      "execution_count": 14,
      "outputs": [
        {
          "output_type": "execute_result",
          "data": {
            "text/plain": [
              "tensor([[ 0.0000,  0.0000,  0.0000,  ...,  0.0000,  0.0000,  0.0000],\n",
              "        [ 0.0000,  0.0000,  0.0000,  ...,  0.0000,  0.0000,  0.0000],\n",
              "        [ 0.0952,  0.3702,  0.5429,  ..., -0.5108,  0.4688,  0.3488],\n",
              "        ...,\n",
              "        [ 0.0000,  0.0000,  0.0000,  ...,  0.0000,  0.0000,  0.0000],\n",
              "        [ 0.2163,  0.1924,  0.3433,  ...,  0.1079,  0.0727,  0.4788],\n",
              "        [ 0.8071, -0.8602, -0.6612,  ..., -0.8826, -0.4987,  1.3513]])"
            ]
          },
          "metadata": {},
          "execution_count": 14
        }
      ]
    },
    {
      "cell_type": "code",
      "source": [
        "TEXT.vocab.freqs.most_common(10) # seems right since we see many stopwords or medical terms"
      ],
      "metadata": {
        "id": "Q3JSXRCyoRF-",
        "colab": {
          "base_uri": "https://localhost:8080/"
        },
        "outputId": "7db4902a-6fa2-4993-ad36-bcf46ab59779"
      },
      "execution_count": 15,
      "outputs": [
        {
          "output_type": "execute_result",
          "data": {
            "text/plain": [
              "[('the', 9936),\n",
              " ('to', 7894),\n",
              " (' ', 6059),\n",
              " ('vaccine', 5815),\n",
              " ('a', 5787),\n",
              " ('measles', 5075),\n",
              " ('of', 4966),\n",
              " ('and', 4559),\n",
              " ('i', 4488),\n",
              " ('in', 4301)]"
            ]
          },
          "metadata": {},
          "execution_count": 15
        }
      ]
    },
    {
      "cell_type": "code",
      "source": [
        "LABEL.build_vocab(train_data)\n",
        "vocab_label = LABEL.vocab\n",
        "print(\"Size of LABEL vocabulary:\",len(vocab_label))\n",
        "vocab_label.freqs"
      ],
      "metadata": {
        "id": "VKw9ZjuRt80S",
        "colab": {
          "base_uri": "https://localhost:8080/"
        },
        "outputId": "481cda3e-ff14-4aa6-ab37-4a037cd1b359"
      },
      "execution_count": 16,
      "outputs": [
        {
          "output_type": "stream",
          "name": "stdout",
          "text": [
            "Size of LABEL vocabulary: 4\n"
          ]
        },
        {
          "output_type": "execute_result",
          "data": {
            "text/plain": [
              "Counter({'0': 7385, '1': 2070, '2': 6426})"
            ]
          },
          "metadata": {},
          "execution_count": 16
        }
      ]
    },
    {
      "cell_type": "code",
      "source": [
        "print(f\"Unique tokens in TEXT vocabulary: {len(TEXT.vocab)}\")\n",
        "print(f\"Unique tokens in LABEL vocabulary: {len(LABEL.vocab)}\")"
      ],
      "metadata": {
        "id": "WxUsiH2NuK46",
        "colab": {
          "base_uri": "https://localhost:8080/"
        },
        "outputId": "8c5152f5-fddf-461a-a948-71254e4b0885"
      },
      "execution_count": 17,
      "outputs": [
        {
          "output_type": "stream",
          "name": "stdout",
          "text": [
            "Unique tokens in TEXT vocabulary: 4893\n",
            "Unique tokens in LABEL vocabulary: 4\n"
          ]
        }
      ]
    },
    {
      "cell_type": "markdown",
      "source": [
        "## Create Batch Iterator"
      ],
      "metadata": {
        "id": "1INLU0MPuOxb"
      }
    },
    {
      "cell_type": "code",
      "source": [
        "BATCH_SIZE = 32\n",
        "train_iterator, valid_iterator = data.BucketIterator.splits(\n",
        "    (train_data, valid_data), sort_key=lambda x: len(x.tweet),\n",
        "    batch_size=BATCH_SIZE, shuffle=True, device=device)\n",
        "\n",
        "LABEL.vocab.freqs"
      ],
      "metadata": {
        "id": "yPMosIgtZdXs",
        "colab": {
          "base_uri": "https://localhost:8080/"
        },
        "outputId": "a9aaa193-da78-44ec-d944-1606faf56525"
      },
      "execution_count": 18,
      "outputs": [
        {
          "output_type": "execute_result",
          "data": {
            "text/plain": [
              "Counter({'0': 7385, '1': 2070, '2': 6426})"
            ]
          },
          "metadata": {},
          "execution_count": 18
        }
      ]
    },
    {
      "cell_type": "code",
      "source": [
        "pretrained_embeddings = TEXT.vocab.vectors.to(device)\n",
        "pretrained_embeddings.shape"
      ],
      "metadata": {
        "id": "KVUxUElhvbJZ",
        "colab": {
          "base_uri": "https://localhost:8080/"
        },
        "outputId": "aaf37c46-26b0-4d02-9422-67dddffb9d39"
      },
      "execution_count": 19,
      "outputs": [
        {
          "output_type": "execute_result",
          "data": {
            "text/plain": [
              "torch.Size([4893, 100])"
            ]
          },
          "metadata": {},
          "execution_count": 19
        }
      ]
    },
    {
      "cell_type": "code",
      "source": [
        "pretrained_embeddings"
      ],
      "metadata": {
        "colab": {
          "base_uri": "https://localhost:8080/"
        },
        "id": "oK6vlfJgonll",
        "outputId": "f0853952-24d8-4445-ca05-4ff3034399ec"
      },
      "execution_count": 20,
      "outputs": [
        {
          "output_type": "execute_result",
          "data": {
            "text/plain": [
              "tensor([[ 0.0000,  0.0000,  0.0000,  ...,  0.0000,  0.0000,  0.0000],\n",
              "        [ 0.0000,  0.0000,  0.0000,  ...,  0.0000,  0.0000,  0.0000],\n",
              "        [ 0.0952,  0.3702,  0.5429,  ..., -0.5108,  0.4688,  0.3488],\n",
              "        ...,\n",
              "        [ 0.0000,  0.0000,  0.0000,  ...,  0.0000,  0.0000,  0.0000],\n",
              "        [ 0.2163,  0.1924,  0.3433,  ...,  0.1079,  0.0727,  0.4788],\n",
              "        [ 0.8071, -0.8602, -0.6612,  ..., -0.8826, -0.4987,  1.3513]],\n",
              "       device='cuda:0')"
            ]
          },
          "metadata": {},
          "execution_count": 20
        }
      ]
    },
    {
      "cell_type": "markdown",
      "source": [
        "## Attention Layer"
      ],
      "metadata": {
        "id": "98AOYRd8OIzH"
      }
    },
    {
      "cell_type": "code",
      "source": [
        "class Attention(nn.Module):\n",
        "    def __init__(self, hidden_size):\n",
        "        super(Attention, self).__init__()\n",
        "        self.hidden_size = hidden_size\n",
        "        self.concat_linear = nn.Linear(self.hidden_size * 2, self.hidden_size)\n",
        "        self.attn = nn.Linear(self.hidden_size, hidden_size)\n",
        "\n",
        "    def forward(self, rnn_outputs, final_hidden_state):\n",
        "        batch_size, seq_len, _ = rnn_outputs.shape\n",
        "        attn_weights = self.attn(rnn_outputs) # (batch_size, seq_len, hidden_dim)\n",
        "        attn_weights = torch.bmm(attn_weights, final_hidden_state.unsqueeze(2)) # product\n",
        "        attn_weights = F.softmax(attn_weights.squeeze(2), dim=1)\n",
        "        context = torch.bmm(rnn_outputs.transpose(1, 2), attn_weights.unsqueeze(2)).squeeze(2)\n",
        "        attn_hidden = torch.tanh(self.concat_linear(torch.cat((context, final_hidden_state), dim=1))) # attention vector is ready \n",
        "        return attn_hidden, attn_weights"
      ],
      "metadata": {
        "id": "J7uHk8VfRJkI"
      },
      "execution_count": 21,
      "outputs": []
    },
    {
      "cell_type": "markdown",
      "metadata": {
        "id": "pBYKnos9o6qR"
      },
      "source": [
        "## LSTM"
      ]
    },
    {
      "cell_type": "code",
      "source": [
        "class LSTM(nn.Module):\n",
        "    def __init__(self, vocab_size, hidden_size, num_layers, embedding_size, output_size, weights, bidirectional, skip_connections, attention):\n",
        "        super(LSTM, self).__init__()\n",
        "        self.vocab_size = vocab_size\n",
        "        self.embedding_size = embedding_size\n",
        "        self.hidden_size = hidden_size\n",
        "        self.num_layers = num_layers\n",
        "        self.output_size = output_size\n",
        "        self.bidirectional = bidirectional # bool   \n",
        "        self.skip_connections = skip_connections # bool\n",
        "        self.attn = attention # bool\n",
        "        if (self.skip_connections):\n",
        "          self.skip = nn.Identity()\n",
        "        \n",
        "        self.embedding = nn.Embedding.from_pretrained(weights)\n",
        "        self.lstm = nn.LSTM(input_size=self.embedding_size,\n",
        "                           hidden_size=self.hidden_size,\n",
        "                           #dropout=0.2,\n",
        "                           num_layers=self.num_layers, \n",
        "                           bidirectional=self.bidirectional,\n",
        "                           batch_first=True\n",
        "                           )\n",
        "\n",
        "        # self.rnns = nn.ModuleList()\n",
        "        # for i in range(self.num_layers):\n",
        "        #   if i == 0:\n",
        "        #     self.rnns.append(nn.LSTM(self.embedding_size, self.hidden_size, 1))\n",
        "        #   else:\n",
        "        #     self.rnns.append(nn.LSTM(self.hidden_size, self.hidden_size, 1))\n",
        "        \n",
        "        #self.tanh = nn.Tanh()\n",
        "        #self.relu = nn.ReLU()\n",
        "        #self.dropout = nn.Dropout(0.2)\n",
        "\n",
        "        if self.bidirectional: \n",
        "          self.fc = nn.Linear(self.hidden_size*2, self.output_size) # runs inputs from past to future and from future to past\n",
        "          if (attention):\n",
        "            self.attention = Attention(self.hidden_size * 2)\n",
        "        else:\n",
        "          self.fc = nn.Linear(hidden_size, self.output_size)\n",
        "          if (attention):\n",
        "            self.attention = Attention(self.hidden_size)\n",
        "\n",
        "    def forward(self, x):\n",
        "        x = self.embedding(x)\n",
        "\n",
        "        if self.bidirectional:\n",
        "            h = torch.zeros((self.num_layers*2, x.size(0), self.hidden_size)).to(device) # hidden state\n",
        "            c = torch.zeros((self.num_layers*2, x.size(0), self.hidden_size)).to(device) # cell state\n",
        "        else:\n",
        "            h = torch.zeros((self.num_layers, x.size(0), self.hidden_size)).to(device)\n",
        "            c = torch.zeros((self.num_layers, x.size(0), self.hidden_size)).to(device)\n",
        "\n",
        "        out, hidden = self.lstm(x, (h, c))\n",
        "\n",
        "        # LSTM Cells for skip connections\n",
        "        # outputs = []\n",
        "        # for i in range(self.num_layers):\n",
        "        #     #if i != 0:\n",
        "        #         #x = F.dropout(x, p=0.2, training=True)\n",
        "        #     out, hidden = self.rnns[i](x)\n",
        "        #     outputs.append(out)\n",
        "        #     if (self.skip_connections and out.shape == x.shape):\n",
        "        #       out = out + self.skip(x) \n",
        "        #     x = out\n",
        "            \n",
        "\n",
        "        final_hidden_state = None\n",
        "\n",
        "        if self.bidirectional: \n",
        "          if (self.attn):\n",
        "            final_state = hidden[0].view(self.num_layers, 2, x.size(0), self.hidden_size)[-1]\n",
        "            h_1, h_2 = final_state[0], final_state[1]\n",
        "            final_hidden_state = torch.cat((h_1, h_2), 1) # concatenate two hidden states\n",
        "          else:\n",
        "            out = out.contiguous().view(-1, self.hidden_size*2)  # results\n",
        "        else:\n",
        "          if (self.attn):\n",
        "            final_state = hidden[0].view(self.num_layers, 1, x.size(0), self.hidden_size)[-1]\n",
        "            final_hidden_state = final_state.squeeze(0)\n",
        "          else:\n",
        "            out = out.contiguous().view(-1, self.hidden_size)\n",
        "\n",
        "        #out = self.tanh(out)\n",
        "        #out = self.relu(out)\n",
        "        #out = self.dropout(out)\n",
        "\n",
        "        if (self.attn):\n",
        "          out, attn_weights = self.attention(out, final_hidden_state)\n",
        "        \n",
        "        out = self.fc(out)  \n",
        "\n",
        "        # batch first\n",
        "        out = out.view(x.size(0), -1, self.output_size)\n",
        "        # last batch\n",
        "        out = out[:, -1, :]\n",
        "\n",
        "        return out.to(device)"
      ],
      "metadata": {
        "id": "mIBXht8xCzSr"
      },
      "execution_count": 22,
      "outputs": []
    },
    {
      "cell_type": "markdown",
      "source": [
        "### Configurations"
      ],
      "metadata": {
        "id": "g_6cEAubLsEh"
      }
    },
    {
      "cell_type": "code",
      "execution_count": 23,
      "metadata": {
        "id": "bwsrdCGKb_j5"
      },
      "outputs": [],
      "source": [
        "#Define layer sizes, parameters\n",
        "vocab_size = pretrained_embeddings.shape[0]\n",
        "hidden_size = 64\n",
        "num_layers = 3\n",
        "embedding_size = pretrained_embeddings.shape[1]\n",
        "output_size = 3\n",
        "bidirectional = True\n",
        "skip_connections = False\n",
        "attention = False\n",
        "\n",
        "#Define Hyperparameters\n",
        "learning_rate = 1e-4\n",
        "\n",
        "#Initialize model, optimizer\n",
        "model = LSTM(vocab_size, hidden_size, num_layers, embedding_size, output_size, pretrained_embeddings, bidirectional, skip_connections, attention).to(device)\n",
        "model.embedding.weight.data = pretrained_embeddings\n",
        "criterion = nn.CrossEntropyLoss().to(device)\n",
        "optimizer = optim.Adam(model.parameters(), lr=learning_rate)#, weight_decay=0.001)\n",
        "\n",
        "clip = 2"
      ]
    },
    {
      "cell_type": "code",
      "execution_count": 24,
      "metadata": {
        "id": "E9gQg2lXb_kF",
        "colab": {
          "base_uri": "https://localhost:8080/"
        },
        "outputId": "83851ca8-7159-4664-8726-96b1b884c296"
      },
      "outputs": [
        {
          "output_type": "execute_result",
          "data": {
            "text/plain": [
              "LSTM(\n",
              "  (embedding): Embedding(4893, 100)\n",
              "  (lstm): LSTM(100, 64, num_layers=3, batch_first=True, bidirectional=True)\n",
              "  (fc): Linear(in_features=128, out_features=3, bias=True)\n",
              ")"
            ]
          },
          "metadata": {},
          "execution_count": 24
        }
      ],
      "source": [
        "model"
      ]
    },
    {
      "cell_type": "code",
      "execution_count": 25,
      "metadata": {
        "id": "0h9hsKHAb_kH",
        "colab": {
          "base_uri": "https://localhost:8080/"
        },
        "outputId": "0ef3ee70-670b-4d28-96c0-6518a151bc19"
      },
      "outputs": [
        {
          "output_type": "stream",
          "name": "stdout",
          "text": [
            "Epoch   0: | Train Loss = 0.98952 | Train Accuracy = 0.47083 | Validation Loss = 1.04791 | Validation Accuracy = 0.43926 \n",
            "Epoch   1: | Train Loss = 0.93829 | Train Accuracy = 0.52671 | Validation Loss = 0.96180 | Validation Accuracy = 0.47667 \n",
            "Epoch   2: | Train Loss = 0.82661 | Train Accuracy = 0.62802 | Validation Loss = 0.89488 | Validation Accuracy = 0.61972 \n",
            "Epoch   3: | Train Loss = 0.78942 | Train Accuracy = 0.65341 | Validation Loss = 0.87822 | Validation Accuracy = 0.62060 \n",
            "Epoch   4: | Train Loss = 0.77126 | Train Accuracy = 0.66545 | Validation Loss = 0.88320 | Validation Accuracy = 0.58627 \n",
            "Epoch   5: | Train Loss = 0.76192 | Train Accuracy = 0.66866 | Validation Loss = 0.82750 | Validation Accuracy = 0.62456 \n",
            "Epoch   6: | Train Loss = 0.75253 | Train Accuracy = 0.67534 | Validation Loss = 0.81868 | Validation Accuracy = 0.62764 \n",
            "Epoch   7: | Train Loss = 0.74529 | Train Accuracy = 0.67780 | Validation Loss = 0.81955 | Validation Accuracy = 0.61136 \n",
            "Epoch   8: | Train Loss = 0.73669 | Train Accuracy = 0.67988 | Validation Loss = 0.82785 | Validation Accuracy = 0.60079 \n",
            "Epoch   9: | Train Loss = 0.72506 | Train Accuracy = 0.68914 | Validation Loss = 0.78209 | Validation Accuracy = 0.64393 \n",
            "Epoch  10: | Train Loss = 0.71505 | Train Accuracy = 0.68901 | Validation Loss = 0.78707 | Validation Accuracy = 0.64129 \n",
            "Epoch  11: | Train Loss = 0.71039 | Train Accuracy = 0.69103 | Validation Loss = 0.78167 | Validation Accuracy = 0.64393 \n",
            "Epoch  12: | Train Loss = 0.70111 | Train Accuracy = 0.69361 | Validation Loss = 0.76691 | Validation Accuracy = 0.65933 \n",
            "Epoch  13: | Train Loss = 0.69334 | Train Accuracy = 0.69853 | Validation Loss = 0.75866 | Validation Accuracy = 0.66065 \n",
            "Epoch  14: | Train Loss = 0.68807 | Train Accuracy = 0.69966 | Validation Loss = 0.74906 | Validation Accuracy = 0.66373 \n",
            "Epoch  15: | Train Loss = 0.68154 | Train Accuracy = 0.70281 | Validation Loss = 0.73966 | Validation Accuracy = 0.67606 \n",
            "Epoch  16: | Train Loss = 0.67285 | Train Accuracy = 0.70854 | Validation Loss = 0.73813 | Validation Accuracy = 0.66373 \n",
            "Epoch  17: | Train Loss = 0.66835 | Train Accuracy = 0.71094 | Validation Loss = 0.73440 | Validation Accuracy = 0.68442 \n",
            "Epoch  18: | Train Loss = 0.66490 | Train Accuracy = 0.71119 | Validation Loss = 0.72211 | Validation Accuracy = 0.68266 \n",
            "Epoch  19: | Train Loss = 0.65805 | Train Accuracy = 0.71516 | Validation Loss = 0.71549 | Validation Accuracy = 0.67650 \n",
            "Epoch  20: | Train Loss = 0.65292 | Train Accuracy = 0.71913 | Validation Loss = 0.74005 | Validation Accuracy = 0.66241 \n",
            "Epoch  21: | Train Loss = 0.64857 | Train Accuracy = 0.72203 | Validation Loss = 0.71458 | Validation Accuracy = 0.69058 \n",
            "Epoch  22: | Train Loss = 0.64389 | Train Accuracy = 0.72240 | Validation Loss = 0.71529 | Validation Accuracy = 0.67386 \n",
            "Epoch  23: | Train Loss = 0.63854 | Train Accuracy = 0.72694 | Validation Loss = 0.70371 | Validation Accuracy = 0.69146 \n",
            "Epoch  24: | Train Loss = 0.63188 | Train Accuracy = 0.73041 | Validation Loss = 0.70690 | Validation Accuracy = 0.69322 \n",
            "Epoch  25: | Train Loss = 0.62528 | Train Accuracy = 0.73280 | Validation Loss = 0.71342 | Validation Accuracy = 0.67870 \n",
            "Epoch  26: | Train Loss = 0.62074 | Train Accuracy = 0.73690 | Validation Loss = 0.70184 | Validation Accuracy = 0.68882 \n",
            "Epoch  27: | Train Loss = 0.61619 | Train Accuracy = 0.73658 | Validation Loss = 0.70117 | Validation Accuracy = 0.69322 \n",
            "Epoch  28: | Train Loss = 0.61061 | Train Accuracy = 0.74225 | Validation Loss = 0.71279 | Validation Accuracy = 0.68926 \n",
            "Epoch  29: | Train Loss = 0.61013 | Train Accuracy = 0.74086 | Validation Loss = 0.69485 | Validation Accuracy = 0.69498 \n",
            "Epoch  30: | Train Loss = 0.60127 | Train Accuracy = 0.74729 | Validation Loss = 0.69400 | Validation Accuracy = 0.69058 \n",
            "Epoch  31: | Train Loss = 0.59798 | Train Accuracy = 0.74899 | Validation Loss = 0.69067 | Validation Accuracy = 0.70246 \n",
            "Epoch  32: | Train Loss = 0.59295 | Train Accuracy = 0.75044 | Validation Loss = 0.69423 | Validation Accuracy = 0.69498 \n",
            "Epoch  33: | Train Loss = 0.59037 | Train Accuracy = 0.74975 | Validation Loss = 0.69763 | Validation Accuracy = 0.69014 \n",
            "Epoch  34: | Train Loss = 0.58434 | Train Accuracy = 0.75403 | Validation Loss = 0.69094 | Validation Accuracy = 0.70246 \n",
            "Epoch  35: | Train Loss = 0.57891 | Train Accuracy = 0.75775 | Validation Loss = 0.69674 | Validation Accuracy = 0.68882 \n",
            "Epoch  36: | Train Loss = 0.57671 | Train Accuracy = 0.75939 | Validation Loss = 0.68345 | Validation Accuracy = 0.70467 \n",
            "Epoch  37: | Train Loss = 0.57297 | Train Accuracy = 0.76058 | Validation Loss = 0.69208 | Validation Accuracy = 0.69630 \n",
            "Epoch  38: | Train Loss = 0.56683 | Train Accuracy = 0.76607 | Validation Loss = 0.69109 | Validation Accuracy = 0.71215 \n",
            "Epoch  39: | Train Loss = 0.56202 | Train Accuracy = 0.76821 | Validation Loss = 0.69649 | Validation Accuracy = 0.70467 \n"
          ]
        }
      ],
      "source": [
        "epoch_loss = []\n",
        "epoch_loss_dev = []\n",
        "epoch_acc = []\n",
        "epoch_acc_dev = []\n",
        "\n",
        "\n",
        "for epoch in range(40):\n",
        "\n",
        "  batch_losses = []\n",
        "  batch_acc = 0\n",
        "  total = 0\n",
        "  total_dev = 0\n",
        "  loss = 0\n",
        "\n",
        "  # sets the mode to train\n",
        "  model.train()\n",
        "  for (tweet, label) in train_iterator:  # for every batch\n",
        "    if tweet.shape[0] == BATCH_SIZE:\n",
        "      tweet = tweet.to(device)\n",
        "      label = label.to(device)\n",
        "      y_pred = model(tweet)\n",
        "      loss = criterion(y_pred, label)\n",
        "      batch_losses.append(loss)\n",
        "      #Delete previously stored gradients\n",
        "      optimizer.zero_grad()\n",
        "      #Perform backpropagation starting from the loss calculated in this epoch\n",
        "      loss.backward()\n",
        "      #Perform gradient clipping to address exploding gradients\n",
        "      nn.utils.clip_grad_norm_(model.parameters(), clip)\n",
        "      #Update model's weights based on the gradients calculated during backprop\n",
        "      optimizer.step()\n",
        "\n",
        "      # Total number of labels\n",
        "      total += label.size(0)\n",
        "      # Total correct predictions\n",
        "      _,pred_label = torch.max(y_pred, dim = 1)\n",
        "      batch_acc += (pred_label == label).sum()\n",
        "\n",
        "  # validation    \n",
        "  with torch.no_grad():\n",
        "    batch_losses_dev = []\n",
        "    batch_acc_dev = 0\n",
        "    # sets the mode to testing\n",
        "    model.eval()\n",
        "    for (tweet, label) in valid_iterator:\n",
        "      if tweet.shape[0] == BATCH_SIZE:\n",
        "        tweet = tweet.to(device)\n",
        "        label = label.to(device)\n",
        "        y_dev_pred = model(tweet)\n",
        "        loss_dev = criterion(y_dev_pred, label)\n",
        "        batch_losses_dev.append(loss_dev)\n",
        "        # number of labels\n",
        "        total_dev += label.size(0)\n",
        "        # correct predictions\n",
        "        _,pred_label = torch.max(y_dev_pred, dim = 1)  # get max probability\n",
        "        #print(y_dev_pred, pred_label)\n",
        "        batch_acc_dev += (pred_label == label).sum()\n",
        "\n",
        "\n",
        "  accuracy = batch_acc/total\n",
        "  accuracy_dev = batch_acc_dev/total_dev\n",
        "\n",
        "  train_loss = sum(batch_losses)/len(train_iterator)\n",
        "  valid_loss = sum(batch_losses_dev)/len(valid_iterator)\n",
        "\n",
        "  epoch_loss.append(train_loss)\n",
        "  epoch_loss_dev.append(valid_loss)\n",
        "  epoch_acc.append(accuracy)\n",
        "  epoch_acc_dev.append(accuracy_dev)\n",
        "\n",
        "  print(f\"Epoch {epoch:3}: | Train Loss = {train_loss:.5f} | Train Accuracy = {accuracy:.5f} | Validation Loss = {valid_loss:.5f} | Validation Accuracy = {accuracy_dev:.5f} \")"
      ]
    },
    {
      "cell_type": "markdown",
      "metadata": {
        "id": "iB1TzI5D5kED"
      },
      "source": [
        "### Evaluation"
      ]
    },
    {
      "cell_type": "code",
      "source": [
        "valid = pd.read_csv(\"valid.csv\")"
      ],
      "metadata": {
        "id": "5iTCrzm5zlGT"
      },
      "execution_count": 26,
      "outputs": []
    },
    {
      "cell_type": "code",
      "source": [
        "# Get predictions\n",
        "def predict(sentence):\n",
        "    tokenized = [tok for tok in sentence.split()]\n",
        "    indexed = [TEXT.vocab.stoi[t] for t in tokenized]\n",
        "\n",
        "    tensor = torch.LongTensor(indexed)\n",
        "    tensor = tensor.unsqueeze(0)\n",
        "    prediction = model(tensor.to(device))\n",
        "\n",
        "    preds, ind = torch.max(F.softmax(prediction, dim=-1), 1)\n",
        "\n",
        "    return preds, ind, F.softmax(prediction, dim=-1)"
      ],
      "metadata": {
        "id": "wHEz6tcuzEz4"
      },
      "execution_count": 27,
      "outputs": []
    },
    {
      "cell_type": "code",
      "source": [
        "pred_proba = []\n",
        "pred = []\n",
        "for k in valid.tweet:\n",
        "  temp = predict(k)\n",
        "  pred.append(temp[1].cpu().numpy())\n",
        "  pred_proba.append(temp[2].cpu().detach().numpy())\n",
        "  \n",
        "# Compare predictions to actual labels\n",
        "print(classification_report(valid.label, pred))"
      ],
      "metadata": {
        "id": "7U4iNgwizca5",
        "colab": {
          "base_uri": "https://localhost:8080/"
        },
        "outputId": "5445126d-8259-4327-c295-5a34d8803880"
      },
      "execution_count": 28,
      "outputs": [
        {
          "output_type": "stream",
          "name": "stdout",
          "text": [
            "              precision    recall  f1-score   support\n",
            "\n",
            "           0       0.76      0.79      0.77      1065\n",
            "           1       0.56      0.45      0.50       296\n",
            "           2       0.68      0.68      0.68       921\n",
            "\n",
            "    accuracy                           0.71      2282\n",
            "   macro avg       0.67      0.64      0.65      2282\n",
            "weighted avg       0.70      0.71      0.70      2282\n",
            "\n"
          ]
        }
      ]
    },
    {
      "cell_type": "code",
      "metadata": {
        "id": "_iACQLKz_Xsw",
        "colab": {
          "base_uri": "https://localhost:8080/",
          "height": 279
        },
        "outputId": "0dae7109-142a-4d3b-881b-359a1fab0eb5"
      },
      "source": [
        "target_names = ['neutral', 'anti-vax', 'pro-vax']\n",
        "\n",
        "cm = confusion_matrix(valid.label, pred)\n",
        "disp = ConfusionMatrixDisplay(confusion_matrix=cm, display_labels=target_names)\n",
        "disp.plot()\n",
        "plt.show()"
      ],
      "execution_count": 29,
      "outputs": [
        {
          "output_type": "display_data",
          "data": {
            "image/png": "[encoded data removed]",
            "text/plain": [
              "<Figure size 432x288 with 2 Axes>"
            ]
          },
          "metadata": {
            "needs_background": "light"
          }
        }
      ]
    },
    {
      "cell_type": "code",
      "metadata": {
        "id": "DfX_7laH5kEL",
        "colab": {
          "base_uri": "https://localhost:8080/"
        },
        "outputId": "f5281158-29ac-4cf4-b630-f1cb11f41689"
      },
      "source": [
        "print(\"Precision-Recall-F1 - Training Data :\")\n",
        "print(precision_recall_fscore_support(valid.label, pred, average='micro'))"
      ],
      "execution_count": 30,
      "outputs": [
        {
          "output_type": "stream",
          "name": "stdout",
          "text": [
            "Precision-Recall-F1 - Training Data :\n",
            "(0.7050832602979842, 0.7050832602979842, 0.7050832602979842, None)\n"
          ]
        }
      ]
    },
    {
      "cell_type": "code",
      "source": [
        "proba_list = []\n",
        "for i in pred_proba:\n",
        "  proba_list.append(i.squeeze(0).tolist())\n",
        "#proba_list"
      ],
      "metadata": {
        "id": "W_6R-8SCMlNG"
      },
      "execution_count": 31,
      "outputs": []
    },
    {
      "cell_type": "code",
      "metadata": {
        "id": "vFeGfBw_5kEL",
        "colab": {
          "base_uri": "https://localhost:8080/"
        },
        "outputId": "bd98de90-5931-4558-d9ee-07ef6e1e4e5b"
      },
      "source": [
        "macro_roc_auc_ovo = roc_auc_score(valid.label.tolist(), proba_list, multi_class=\"ovo\", average=\"macro\")\n",
        "weighted_roc_auc_ovo = roc_auc_score(valid.label.tolist(), proba_list, multi_class=\"ovo\", average=\"weighted\")\n",
        "macro_roc_auc_ovr = roc_auc_score(valid.label.tolist(), proba_list, multi_class=\"ovr\", average=\"macro\")\n",
        "weighted_roc_auc_ovr = roc_auc_score(valid.label.tolist(), proba_list, multi_class=\"ovr\", average=\"weighted\")\n",
        "print(\n",
        "    \"One-vs-One ROC AUC scores:\\n{:.6f} (macro),\\n{:.6f} \"\n",
        "    \"(weighted by prevalence)\".format(macro_roc_auc_ovo, weighted_roc_auc_ovo)\n",
        ")\n",
        "print()\n",
        "print(\n",
        "    \"One-vs-Rest ROC AUC scores:\\n{:.6f} (macro),\\n{:.6f} \"\n",
        "    \"(weighted by prevalence)\".format(macro_roc_auc_ovr, weighted_roc_auc_ovr)\n",
        ")"
      ],
      "execution_count": 32,
      "outputs": [
        {
          "output_type": "stream",
          "name": "stdout",
          "text": [
            "One-vs-One ROC AUC scores:\n",
            "0.827906 (macro),\n",
            "0.832405 (weighted by prevalence)\n",
            "\n",
            "One-vs-Rest ROC AUC scores:\n",
            "0.836991 (macro),\n",
            "0.837574 (weighted by prevalence)\n"
          ]
        }
      ]
    },
    {
      "cell_type": "markdown",
      "metadata": {
        "id": "EB-wRTCU5kEL"
      },
      "source": [
        "### Plots"
      ]
    },
    {
      "cell_type": "code",
      "metadata": {
        "id": "cW9tuOZ55kEL",
        "colab": {
          "base_uri": "https://localhost:8080/",
          "height": 424
        },
        "outputId": "9455f0dd-16d9-4ee9-d01a-4b8f2dfff6c1"
      },
      "source": [
        "# probabilities\n",
        "df_prob = pd.DataFrame(proba_list)\n",
        "df_prob"
      ],
      "execution_count": 33,
      "outputs": [
        {
          "output_type": "execute_result",
          "data": {
            "text/html": [
              "\n",
              "  <div id=\"df-bd54bbcc-c1b3-4d58-a669-7f33c600273e\">\n",
              "    <div class=\"colab-df-container\">\n",
              "      <div>\n",
              "<style scoped>\n",
              "    .dataframe tbody tr th:only-of-type {\n",
              "        vertical-align: middle;\n",
              "    }\n",
              "\n",
              "    .dataframe tbody tr th {\n",
              "        vertical-align: top;\n",
              "    }\n",
              "\n",
              "    .dataframe thead th {\n",
              "        text-align: right;\n",
              "    }\n",
              "</style>\n",
              "<table border=\"1\" class=\"dataframe\">\n",
              "  <thead>\n",
              "    <tr style=\"text-align: right;\">\n",
              "      <th></th>\n",
              "      <th>0</th>\n",
              "      <th>1</th>\n",
              "      <th>2</th>\n",
              "    </tr>\n",
              "  </thead>\n",
              "  <tbody>\n",
              "    <tr>\n",
              "      <th>0</th>\n",
              "      <td>0.152111</td>\n",
              "      <td>0.705194</td>\n",
              "      <td>0.142695</td>\n",
              "    </tr>\n",
              "    <tr>\n",
              "      <th>1</th>\n",
              "      <td>0.377450</td>\n",
              "      <td>0.086261</td>\n",
              "      <td>0.536289</td>\n",
              "    </tr>\n",
              "    <tr>\n",
              "      <th>2</th>\n",
              "      <td>0.817987</td>\n",
              "      <td>0.016188</td>\n",
              "      <td>0.165825</td>\n",
              "    </tr>\n",
              "    <tr>\n",
              "      <th>3</th>\n",
              "      <td>0.494090</td>\n",
              "      <td>0.018945</td>\n",
              "      <td>0.486965</td>\n",
              "    </tr>\n",
              "    <tr>\n",
              "      <th>4</th>\n",
              "      <td>0.193482</td>\n",
              "      <td>0.043674</td>\n",
              "      <td>0.762844</td>\n",
              "    </tr>\n",
              "    <tr>\n",
              "      <th>...</th>\n",
              "      <td>...</td>\n",
              "      <td>...</td>\n",
              "      <td>...</td>\n",
              "    </tr>\n",
              "    <tr>\n",
              "      <th>2277</th>\n",
              "      <td>0.982069</td>\n",
              "      <td>0.003405</td>\n",
              "      <td>0.014526</td>\n",
              "    </tr>\n",
              "    <tr>\n",
              "      <th>2278</th>\n",
              "      <td>0.541877</td>\n",
              "      <td>0.270966</td>\n",
              "      <td>0.187158</td>\n",
              "    </tr>\n",
              "    <tr>\n",
              "      <th>2279</th>\n",
              "      <td>0.246266</td>\n",
              "      <td>0.046165</td>\n",
              "      <td>0.707569</td>\n",
              "    </tr>\n",
              "    <tr>\n",
              "      <th>2280</th>\n",
              "      <td>0.081102</td>\n",
              "      <td>0.072154</td>\n",
              "      <td>0.846744</td>\n",
              "    </tr>\n",
              "    <tr>\n",
              "      <th>2281</th>\n",
              "      <td>0.966764</td>\n",
              "      <td>0.003609</td>\n",
              "      <td>0.029626</td>\n",
              "    </tr>\n",
              "  </tbody>\n",
              "</table>\n",
              "<p>2282 rows × 3 columns</p>\n",
              "</div>\n",
              "      <button class=\"colab-df-convert\" onclick=\"convertToInteractive('df-bd54bbcc-c1b3-4d58-a669-7f33c600273e')\"\n",
              "              title=\"Convert this dataframe to an interactive table.\"\n",
              "              style=\"display:none;\">\n",
              "        \n",
              "  <svg xmlns=\"http://www.w3.org/2000/svg\" height=\"24px\"viewBox=\"0 0 24 24\"\n",
              "       width=\"24px\">\n",
              "    <path d=\"M0 0h24v24H0V0z\" fill=\"none\"/>\n",
              "    <path d=\"M18.56 5.44l.94 2.06.94-2.06 2.06-.94-2.06-.94-.94-2.06-.94 2.06-2.06.94zm-11 1L8.5 8.5l.94-2.06 2.06-.94-2.06-.94L8.5 2.5l-.94 2.06-2.06.94zm10 10l.94 2.06.94-2.06 2.06-.94-2.06-.94-.94-2.06-.94 2.06-2.06.94z\"/><path d=\"M17.41 7.96l-1.37-1.37c-.4-.4-.92-.59-1.43-.59-.52 0-1.04.2-1.43.59L10.3 9.45l-7.72 7.72c-.78.78-.78 2.05 0 2.83L4 21.41c.39.39.9.59 1.41.59.51 0 1.02-.2 1.41-.59l7.78-7.78 2.81-2.81c.8-.78.8-2.07 0-2.86zM5.41 20L4 18.59l7.72-7.72 1.47 1.35L5.41 20z\"/>\n",
              "  </svg>\n",
              "      </button>\n",
              "      \n",
              "  <style>\n",
              "    .colab-df-container {\n",
              "      display:flex;\n",
              "      flex-wrap:wrap;\n",
              "      gap: 12px;\n",
              "    }\n",
              "\n",
              "    .colab-df-convert {\n",
              "      background-color: #E8F0FE;\n",
              "      border: none;\n",
              "      border-radius: 50%;\n",
              "      cursor: pointer;\n",
              "      display: none;\n",
              "      fill: #1967D2;\n",
              "      height: 32px;\n",
              "      padding: 0 0 0 0;\n",
              "      width: 32px;\n",
              "    }\n",
              "\n",
              "    .colab-df-convert:hover {\n",
              "      background-color: #E2EBFA;\n",
              "      box-shadow: 0px 1px 2px rgba(60, 64, 67, 0.3), 0px 1px 3px 1px rgba(60, 64, 67, 0.15);\n",
              "      fill: #174EA6;\n",
              "    }\n",
              "\n",
              "    [theme=dark] .colab-df-convert {\n",
              "      background-color: #3B4455;\n",
              "      fill: #D2E3FC;\n",
              "    }\n",
              "\n",
              "    [theme=dark] .colab-df-convert:hover {\n",
              "      background-color: #434B5C;\n",
              "      box-shadow: 0px 1px 3px 1px rgba(0, 0, 0, 0.15);\n",
              "      filter: drop-shadow(0px 1px 2px rgba(0, 0, 0, 0.3));\n",
              "      fill: #FFFFFF;\n",
              "    }\n",
              "  </style>\n",
              "\n",
              "      <script>\n",
              "        const buttonEl =\n",
              "          document.querySelector('#df-bd54bbcc-c1b3-4d58-a669-7f33c600273e button.colab-df-convert');\n",
              "        buttonEl.style.display =\n",
              "          google.colab.kernel.accessAllowed ? 'block' : 'none';\n",
              "\n",
              "        async function convertToInteractive(key) {\n",
              "          const element = document.querySelector('#df-bd54bbcc-c1b3-4d58-a669-7f33c600273e');\n",
              "          const dataTable =\n",
              "            await google.colab.kernel.invokeFunction('convertToInteractive',\n",
              "                                                     [key], {});\n",
              "          if (!dataTable) return;\n",
              "\n",
              "          const docLinkHtml = 'Like what you see? Visit the ' +\n",
              "            '<a target=\"_blank\" href=https://colab.research.google.com/notebooks/data_table.ipynb>data table notebook</a>'\n",
              "            + ' to learn more about interactive tables.';\n",
              "          element.innerHTML = '';\n",
              "          dataTable['output_type'] = 'display_data';\n",
              "          await google.colab.output.renderOutput(dataTable, element);\n",
              "          const docLink = document.createElement('div');\n",
              "          docLink.innerHTML = docLinkHtml;\n",
              "          element.appendChild(docLink);\n",
              "        }\n",
              "      </script>\n",
              "    </div>\n",
              "  </div>\n",
              "  "
            ],
            "text/plain": [
              "             0         1         2\n",
              "0     0.152111  0.705194  0.142695\n",
              "1     0.377450  0.086261  0.536289\n",
              "2     0.817987  0.016188  0.165825\n",
              "3     0.494090  0.018945  0.486965\n",
              "4     0.193482  0.043674  0.762844\n",
              "...        ...       ...       ...\n",
              "2277  0.982069  0.003405  0.014526\n",
              "2278  0.541877  0.270966  0.187158\n",
              "2279  0.246266  0.046165  0.707569\n",
              "2280  0.081102  0.072154  0.846744\n",
              "2281  0.966764  0.003609  0.029626\n",
              "\n",
              "[2282 rows x 3 columns]"
            ]
          },
          "metadata": {},
          "execution_count": 33
        }
      ]
    },
    {
      "cell_type": "code",
      "metadata": {
        "id": "q9iyfkil5kEM",
        "colab": {
          "base_uri": "https://localhost:8080/",
          "height": 295
        },
        "outputId": "2362c92e-5723-4fa8-dd96-86d01495cbf1"
      },
      "source": [
        "# roc curve for classes\n",
        "fpr = {}\n",
        "tpr = {}\n",
        "thresh ={}\n",
        "\n",
        "n_class = 3\n",
        "\n",
        "for i in range(n_class):    \n",
        "    fpr[i], tpr[i], thresh[i] = roc_curve(valid.label, df_prob[i], pos_label=i)\n",
        "    \n",
        "# plotting    \n",
        "plt.plot(fpr[0], tpr[0], linestyle='--',color='orange', label='Class 0 vs Rest')\n",
        "plt.plot(fpr[1], tpr[1], linestyle='--',color='green', label='Class 1 vs Rest')\n",
        "plt.plot(fpr[2], tpr[2], linestyle='--',color='blue', label='Class 2 vs Rest')\n",
        "plt.title('Multiclass ROC curve')\n",
        "plt.xlabel('False Positive Rate')\n",
        "plt.ylabel('True Positive rate')\n",
        "plt.legend(loc='best')\n",
        "plt.savefig('Multiclass ROC',dpi=300);  "
      ],
      "execution_count": 34,
      "outputs": [
        {
          "output_type": "display_data",
          "data": {
            "image/png": "[encoded data removed]",
            "text/plain": [
              "<Figure size 432x288 with 1 Axes>"
            ]
          },
          "metadata": {
            "needs_background": "light"
          }
        }
      ]
    },
    {
      "cell_type": "code",
      "metadata": {
        "id": "lC9lv2G45kEM",
        "colab": {
          "base_uri": "https://localhost:8080/",
          "height": 733
        },
        "outputId": "3b40b4ba-57ab-474c-b76d-3f9dcb6cefe7"
      },
      "source": [
        "def plot_graph_loss(epochs):\n",
        "    fig = plt.figure(figsize=(12,12))\n",
        "    plt.title(\"Train/Validation Loss\")\n",
        "    plt.plot(list(np.arange(epochs) + 1) , epoch_loss, label='train')\n",
        "    plt.plot(list(np.arange(epochs) + 1), epoch_loss_dev, label='validation')\n",
        "    plt.xlabel('num_epochs', fontsize=12)\n",
        "    plt.ylabel('loss', fontsize=12)\n",
        "    plt.legend(['train', 'validation']);\n",
        "\n",
        "plot_graph_loss(40)"
      ],
      "execution_count": 35,
      "outputs": [
        {
          "output_type": "display_data",
          "data": {
            "image/png": "[encoded data removed]",
            "text/plain": [
              "<Figure size 864x864 with 1 Axes>"
            ]
          },
          "metadata": {
            "needs_background": "light"
          }
        }
      ]
    },
    {
      "cell_type": "code",
      "metadata": {
        "id": "Wq4J8TA45kEM",
        "colab": {
          "base_uri": "https://localhost:8080/",
          "height": 733
        },
        "outputId": "bd9269ad-c6c2-426c-d84c-bbd0ddfff1ef"
      },
      "source": [
        "def plot_graph_acc(epochs):\n",
        "    fig = plt.figure(figsize=(12,12))\n",
        "    plt.title(\"Train/Validation Accuracy\")\n",
        "    plt.plot(list(np.arange(epochs) + 1) , epoch_acc, label='train')\n",
        "    plt.plot(list(np.arange(epochs) + 1), epoch_acc_dev, label='validation')\n",
        "    plt.xlabel('num_epochs', fontsize=12)\n",
        "    plt.ylabel('accuracy', fontsize=12)\n",
        "    plt.legend(['train', 'validation']);\n",
        "\n",
        "plot_graph_acc(40)    "
      ],
      "execution_count": 36,
      "outputs": [
        {
          "output_type": "display_data",
          "data": {
            "image/png": "[encoded data removed]",
            "text/plain": [
              "<Figure size 864x864 with 1 Axes>"
            ]
          },
          "metadata": {
            "needs_background": "light"
          }
        }
      ]
    },
    {
      "cell_type": "markdown",
      "metadata": {
        "id": "yj70GFZLtbnv"
      },
      "source": [
        "## GRU"
      ]
    },
    {
      "cell_type": "code",
      "source": [
        "class GRU(nn.Module):\n",
        "    def __init__(self, vocab_size, hidden_size, num_layers, embedding_size, output_size, weights, bidirectional, skip_connections, attention):\n",
        "        super(GRU, self).__init__()\n",
        "\n",
        "        self.vocab_size = vocab_size\n",
        "        self.embedding_size = embedding_size\n",
        "        self.hidden_size = hidden_size\n",
        "        self.num_layers = num_layers\n",
        "        self.output_size = output_size\n",
        "        self.bidirectional = bidirectional\n",
        "\n",
        "        self.skip_connections = skip_connections\n",
        "        if (self.skip_connections):\n",
        "          self.skip = nn.Identity()\n",
        "        self.embedding = nn.Embedding.from_pretrained(weights)\n",
        "        self.GRU = nn.GRU(input_size=self.embedding_size,\n",
        "                           hidden_size=self.hidden_size,\n",
        "                           #dropout=0.2,\n",
        "                           num_layers=self.num_layers, \n",
        "                           bidirectional=self.bidirectional,\n",
        "                           batch_first=True\n",
        "                           )\n",
        "\n",
        "        # self.rnns = nn.ModuleList()\n",
        "        # for i in range(self.num_layers):\n",
        "        #   if i == 0:\n",
        "        #     self.rnns.append(nn.GRU(self.embedding_size, self.hidden_size, 1))\n",
        "        #   else:\n",
        "        #     self.rnns.append(nn.GRU(self.hidden_size, self.hidden_size, 1))\n",
        "\n",
        "        \n",
        "        if self.bidirectional: \n",
        "          self.fc = nn.Linear(self.hidden_size*2, self.output_size)\n",
        "          if (attention):\n",
        "            self.attention = Attention(self.hidden_size * 2)\n",
        "        else:\n",
        "          self.fc = nn.Linear(self.hidden_size, self.output_size)\n",
        "          if (attention):\n",
        "            self.attention = Attention(self.hidden_size)\n",
        "\n",
        "        self.attn = attention\n",
        "        #self.dropout = nn.Dropout(0.2)\n",
        "        #self.relu = nn.ReLU()\n",
        "        #self.tanh = nn.Tanh()\n",
        "\n",
        "    def forward(self, x):\n",
        "        x = self.embedding(x)\n",
        "        if self.bidirectional:\n",
        "            h = torch.zeros((self.num_layers*2, x.size(0), self.hidden_size)).to(device)\n",
        "        else:\n",
        "            h = torch.zeros((self.num_layers, x.size(0), self.hidden_size)).to(device)\n",
        "\n",
        "        out, hidden = self.GRU(x, h)\n",
        "\n",
        "        # GRU Cells for skip connections\n",
        "        # outputs = []\n",
        "        # for i in range(self.num_layers):\n",
        "        #     #if i != 0:\n",
        "        #         #x = F.dropout(x, p=0.2, training=True)\n",
        "        #     out, hidden = self.rnns[i](x)\n",
        "        #     outputs.append(out)\n",
        "        #     if (self.skip_connections and out.shape == x.shape):\n",
        "        #       out = out + self.skip(x) \n",
        "        #     x = out\n",
        "\n",
        "        final_hidden_state = None\n",
        "\n",
        "        if self.bidirectional: \n",
        "          if (self.attn):\n",
        "            final_state = hidden.view(self.num_layers, 2, x.size(0), self.hidden_size)[-1]\n",
        "            h_1, h_2 = final_state[0], final_state[1]\n",
        "            final_hidden_state = torch.cat((h_1, h_2), 1) \n",
        "          else:\n",
        "            out = out.contiguous().view(-1, self.hidden_size*2)\n",
        "        else:\n",
        "          if (self.attn):\n",
        "            final_state = hidden.view(self.num_layers, 1, x.size(0), self.hidden_size)[-1]\n",
        "            final_hidden_state = final_state.squeeze(0)\n",
        "          else:\n",
        "            out = out.contiguous().view(-1, self.hidden_size)\n",
        "\n",
        "        #out = self.dropout(out)\n",
        "        #out = self.tanh(out)\n",
        "        #out = self.relu(out)\n",
        "        if (self.attn):\n",
        "          out, attn_weights = self.attention(out, final_hidden_state)\n",
        "        \n",
        "        out = self.fc(out)   \n",
        "         \n",
        "        out = out.view(x.size(0), -1, self.output_size)\n",
        "        out = out[:, -1, :]\n",
        "        \n",
        "        return out.to(device)"
      ],
      "metadata": {
        "id": "YHj0QzVytyXE"
      },
      "execution_count": 37,
      "outputs": []
    },
    {
      "cell_type": "markdown",
      "source": [
        "### Configurations"
      ],
      "metadata": {
        "id": "xgss6pnWMrah"
      }
    },
    {
      "cell_type": "code",
      "execution_count": 38,
      "metadata": {
        "id": "PHIH2-z6tyXI"
      },
      "outputs": [],
      "source": [
        "#Define layer sizes, parameters\n",
        "vocab_size = pretrained_embeddings.shape[0]\n",
        "hidden_size = 128\n",
        "num_layers = 3\n",
        "embedding_size = pretrained_embeddings.shape[1]\n",
        "output_size = 3\n",
        "bidirectional = True\n",
        "skip_connections = False\n",
        "attention = False\n",
        "\n",
        "#Define Hyperparameters\n",
        "learning_rate = 1e-4\n",
        "\n",
        "#Initialize model, optimizer\n",
        "model = GRU(vocab_size, hidden_size, num_layers, embedding_size, output_size, pretrained_embeddings, bidirectional, skip_connections, attention).to(device)\n",
        "model.embedding.weight.data = pretrained_embeddings\n",
        "criterion = nn.CrossEntropyLoss().to(device)\n",
        "optimizer = optim.Adam(model.parameters(), lr=learning_rate)\n",
        "\n",
        "clip = 2"
      ]
    },
    {
      "cell_type": "code",
      "execution_count": 39,
      "metadata": {
        "id": "NP2j4KMetyXI",
        "colab": {
          "base_uri": "https://localhost:8080/"
        },
        "outputId": "4abd7e5f-d2e4-4528-b038-666126ba1f30"
      },
      "outputs": [
        {
          "output_type": "execute_result",
          "data": {
            "text/plain": [
              "GRU(\n",
              "  (embedding): Embedding(4893, 100)\n",
              "  (GRU): GRU(100, 128, num_layers=3, batch_first=True, bidirectional=True)\n",
              "  (fc): Linear(in_features=256, out_features=3, bias=True)\n",
              ")"
            ]
          },
          "metadata": {},
          "execution_count": 39
        }
      ],
      "source": [
        "model"
      ]
    },
    {
      "cell_type": "code",
      "execution_count": 40,
      "metadata": {
        "id": "Cd0aDrJVtyXI",
        "colab": {
          "base_uri": "https://localhost:8080/"
        },
        "outputId": "26afd3c9-e28b-4a9a-fabb-89bf3dbaa185"
      },
      "outputs": [
        {
          "output_type": "stream",
          "name": "stdout",
          "text": [
            "Epoch   0: | Train Loss = 0.98173 | Train Accuracy = 0.47222 | Validation Loss = 1.01315 | Validation Accuracy = 0.43178 \n",
            "Epoch   1: | Train Loss = 0.87981 | Train Accuracy = 0.57535 | Validation Loss = 0.84994 | Validation Accuracy = 0.62808 \n",
            "Epoch   2: | Train Loss = 0.77517 | Train Accuracy = 0.65801 | Validation Loss = 0.82456 | Validation Accuracy = 0.59683 \n",
            "Epoch   3: | Train Loss = 0.75484 | Train Accuracy = 0.66973 | Validation Loss = 0.79046 | Validation Accuracy = 0.66241 \n",
            "Epoch   4: | Train Loss = 0.73590 | Train Accuracy = 0.67704 | Validation Loss = 0.79195 | Validation Accuracy = 0.64525 \n",
            "Epoch   5: | Train Loss = 0.71711 | Train Accuracy = 0.68353 | Validation Loss = 0.77054 | Validation Accuracy = 0.66021 \n",
            "Epoch   6: | Train Loss = 0.70139 | Train Accuracy = 0.69008 | Validation Loss = 0.74688 | Validation Accuracy = 0.67254 \n",
            "Epoch   7: | Train Loss = 0.68729 | Train Accuracy = 0.69802 | Validation Loss = 0.74230 | Validation Accuracy = 0.67782 \n",
            "Epoch   8: | Train Loss = 0.67523 | Train Accuracy = 0.70407 | Validation Loss = 0.74039 | Validation Accuracy = 0.67165 \n",
            "Epoch   9: | Train Loss = 0.66408 | Train Accuracy = 0.71245 | Validation Loss = 0.71946 | Validation Accuracy = 0.68970 \n",
            "Epoch  10: | Train Loss = 0.65272 | Train Accuracy = 0.71642 | Validation Loss = 0.72023 | Validation Accuracy = 0.67121 \n",
            "Epoch  11: | Train Loss = 0.64195 | Train Accuracy = 0.72606 | Validation Loss = 0.70627 | Validation Accuracy = 0.68134 \n",
            "Epoch  12: | Train Loss = 0.63301 | Train Accuracy = 0.72744 | Validation Loss = 0.70001 | Validation Accuracy = 0.68618 \n",
            "Epoch  13: | Train Loss = 0.62317 | Train Accuracy = 0.73318 | Validation Loss = 0.69422 | Validation Accuracy = 0.69454 \n",
            "Epoch  14: | Train Loss = 0.61441 | Train Accuracy = 0.73746 | Validation Loss = 0.68392 | Validation Accuracy = 0.70379 \n",
            "Epoch  15: | Train Loss = 0.60534 | Train Accuracy = 0.74471 | Validation Loss = 0.69375 | Validation Accuracy = 0.69410 \n",
            "Epoch  16: | Train Loss = 0.59465 | Train Accuracy = 0.74559 | Validation Loss = 0.69884 | Validation Accuracy = 0.69454 \n",
            "Epoch  17: | Train Loss = 0.58604 | Train Accuracy = 0.75101 | Validation Loss = 0.69578 | Validation Accuracy = 0.69586 \n",
            "Epoch  18: | Train Loss = 0.57547 | Train Accuracy = 0.75769 | Validation Loss = 0.68985 | Validation Accuracy = 0.70070 \n",
            "Epoch  19: | Train Loss = 0.56886 | Train Accuracy = 0.76222 | Validation Loss = 0.69192 | Validation Accuracy = 0.69850 \n",
            "Epoch  20: | Train Loss = 0.56806 | Train Accuracy = 0.76531 | Validation Loss = 0.73212 | Validation Accuracy = 0.67738 \n",
            "Epoch  21: | Train Loss = 0.55506 | Train Accuracy = 0.76846 | Validation Loss = 0.71178 | Validation Accuracy = 0.69278 \n",
            "Epoch  22: | Train Loss = 0.54394 | Train Accuracy = 0.77419 | Validation Loss = 0.68937 | Validation Accuracy = 0.69498 \n",
            "Epoch  23: | Train Loss = 0.53505 | Train Accuracy = 0.77898 | Validation Loss = 0.70568 | Validation Accuracy = 0.69102 \n",
            "Epoch  24: | Train Loss = 0.52936 | Train Accuracy = 0.78213 | Validation Loss = 0.68727 | Validation Accuracy = 0.70555 \n",
            "Epoch  25: | Train Loss = 0.52124 | Train Accuracy = 0.78698 | Validation Loss = 0.74140 | Validation Accuracy = 0.68574 \n",
            "Epoch  26: | Train Loss = 0.50860 | Train Accuracy = 0.79398 | Validation Loss = 0.70633 | Validation Accuracy = 0.69454 \n",
            "Epoch  27: | Train Loss = 0.50313 | Train Accuracy = 0.79681 | Validation Loss = 0.70584 | Validation Accuracy = 0.70290 \n",
            "Epoch  28: | Train Loss = 0.49627 | Train Accuracy = 0.79895 | Validation Loss = 0.69616 | Validation Accuracy = 0.70379 \n",
            "Epoch  29: | Train Loss = 0.48830 | Train Accuracy = 0.80273 | Validation Loss = 0.70959 | Validation Accuracy = 0.70158 \n",
            "Epoch  30: | Train Loss = 0.47682 | Train Accuracy = 0.80847 | Validation Loss = 0.71102 | Validation Accuracy = 0.70599 \n",
            "Epoch  31: | Train Loss = 0.46729 | Train Accuracy = 0.81634 | Validation Loss = 0.72574 | Validation Accuracy = 0.70202 \n",
            "Epoch  32: | Train Loss = 0.46407 | Train Accuracy = 0.81584 | Validation Loss = 0.72982 | Validation Accuracy = 0.69366 \n",
            "Epoch  33: | Train Loss = 0.45269 | Train Accuracy = 0.81830 | Validation Loss = 0.74918 | Validation Accuracy = 0.69630 \n",
            "Epoch  34: | Train Loss = 0.43784 | Train Accuracy = 0.82863 | Validation Loss = 0.74819 | Validation Accuracy = 0.70114 \n",
            "Epoch  35: | Train Loss = 0.43522 | Train Accuracy = 0.83191 | Validation Loss = 0.75735 | Validation Accuracy = 0.68706 \n",
            "Epoch  36: | Train Loss = 0.42433 | Train Accuracy = 0.83657 | Validation Loss = 0.79010 | Validation Accuracy = 0.67298 \n",
            "Epoch  37: | Train Loss = 0.41786 | Train Accuracy = 0.83776 | Validation Loss = 0.74842 | Validation Accuracy = 0.70290 \n",
            "Epoch  38: | Train Loss = 0.40314 | Train Accuracy = 0.84791 | Validation Loss = 0.78132 | Validation Accuracy = 0.68266 \n",
            "Epoch  39: | Train Loss = 0.39915 | Train Accuracy = 0.85005 | Validation Loss = 0.77574 | Validation Accuracy = 0.69674 \n"
          ]
        }
      ],
      "source": [
        "epoch_loss = []\n",
        "epoch_loss_dev = []\n",
        "epoch_acc = []\n",
        "epoch_acc_dev = []\n",
        "\n",
        "\n",
        "for epoch in range(40):\n",
        "\n",
        "  batch_losses = []\n",
        "  batch_acc = 0\n",
        "  total = 0\n",
        "  total_dev = 0\n",
        "  loss = 0\n",
        "\n",
        "  # training\n",
        "  model.train()\n",
        "  for (tweet, label) in train_iterator:  # for every batch\n",
        "    if tweet.shape[0] == BATCH_SIZE:\n",
        "      tweet = tweet.to(device)\n",
        "      label = label.to(device)\n",
        "      y_pred = model(tweet)\n",
        "      loss = criterion(y_pred, label)\n",
        "      batch_losses.append(loss)\n",
        "      #Delete previously stored gradients\n",
        "      optimizer.zero_grad()\n",
        "      #Perform backpropagation starting from the loss calculated in this epoch\n",
        "      loss.backward()\n",
        "      nn.utils.clip_grad_norm_(model.parameters(), clip)\n",
        "      #Update model's weights based on the gradients calculated during backprop\n",
        "      optimizer.step()\n",
        "\n",
        "      # Total number of labels\n",
        "      total += label.size(0)\n",
        "      # Total correct predictions\n",
        "      _,pred_label = torch.max(y_pred, dim = 1)\n",
        "      batch_acc += (pred_label == label).sum()\n",
        "\n",
        "  # validation    \n",
        "  with torch.no_grad():\n",
        "    batch_losses_dev = []\n",
        "    batch_acc_dev = 0\n",
        "    model.eval()\n",
        "    for (tweet, label) in valid_iterator:\n",
        "      if tweet.shape[0] == BATCH_SIZE:\n",
        "        tweet = tweet.to(device)\n",
        "        label = label.to(device)\n",
        "        y_dev_pred = model(tweet)\n",
        "        loss_dev = criterion(y_dev_pred, label)\n",
        "        batch_losses_dev.append(loss_dev)\n",
        "        # number of labels\n",
        "        total_dev += label.size(0)\n",
        "        # correct predictions\n",
        "        _,pred_label = torch.max(y_dev_pred, dim = 1)  # get max probability\n",
        "        batch_acc_dev += (pred_label == label).sum()\n",
        "\n",
        "\n",
        "  accuracy = batch_acc/total\n",
        "  accuracy_dev = batch_acc_dev/total_dev\n",
        "\n",
        "  train_loss = sum(batch_losses)/len(train_iterator)\n",
        "  valid_loss = sum(batch_losses_dev)/len(valid_iterator)\n",
        "\n",
        "  epoch_loss.append(train_loss)\n",
        "  epoch_loss_dev.append(valid_loss)\n",
        "  epoch_acc.append(accuracy)\n",
        "  epoch_acc_dev.append(accuracy_dev)\n",
        "\n",
        "  print(f\"Epoch {epoch:3}: | Train Loss = {train_loss:.5f} | Train Accuracy = {accuracy:.5f} | Validation Loss = {valid_loss:.5f} | Validation Accuracy = {accuracy_dev:.5f} \")"
      ]
    },
    {
      "cell_type": "code",
      "source": [
        "valid = pd.read_csv(\"valid.csv\")"
      ],
      "metadata": {
        "id": "9GvbnBFqRANr"
      },
      "execution_count": 41,
      "outputs": []
    },
    {
      "cell_type": "code",
      "source": [
        "def predict(sentence):\n",
        "    tokenized = [tok for tok in sentence.split()]\n",
        "    indexed = [TEXT.vocab.stoi[t] for t in tokenized]\n",
        "\n",
        "    tensor = torch.LongTensor(indexed)\n",
        "    tensor = tensor.unsqueeze(0)\n",
        "    prediction = model(tensor.to(device))\n",
        "\n",
        "    preds, ind = torch.max(F.softmax(prediction, dim=-1), 1)\n",
        "    return preds, ind, F.softmax(prediction, dim=-1)\n"
      ],
      "metadata": {
        "id": "Zy3hhgEBRANx"
      },
      "execution_count": 42,
      "outputs": []
    },
    {
      "cell_type": "code",
      "source": [
        "pred_proba = []\n",
        "pred = []\n",
        "for k in valid.tweet:\n",
        "  temp = predict(k)\n",
        "  pred.append(temp[1].cpu().numpy())\n",
        "  pred_proba.append(temp[2].cpu().detach().numpy())\n",
        "  \n",
        "# Compare predictions to actual labels\n",
        "print(classification_report(valid.label, pred))"
      ],
      "metadata": {
        "id": "wedtiyKrze2D",
        "colab": {
          "base_uri": "https://localhost:8080/"
        },
        "outputId": "b07dcdca-c084-4fa9-85f8-1d2d9ca922d8"
      },
      "execution_count": 43,
      "outputs": [
        {
          "output_type": "stream",
          "name": "stdout",
          "text": [
            "              precision    recall  f1-score   support\n",
            "\n",
            "           0       0.75      0.79      0.77      1065\n",
            "           1       0.48      0.43      0.45       296\n",
            "           2       0.69      0.67      0.68       921\n",
            "\n",
            "    accuracy                           0.70      2282\n",
            "   macro avg       0.64      0.63      0.63      2282\n",
            "weighted avg       0.69      0.70      0.69      2282\n",
            "\n"
          ]
        }
      ]
    },
    {
      "cell_type": "code",
      "metadata": {
        "id": "woQb6IxPRANx",
        "colab": {
          "base_uri": "https://localhost:8080/",
          "height": 279
        },
        "outputId": "1c0eff0c-e3f2-4d62-aa1d-c10174d9985c"
      },
      "source": [
        "target_names = ['neutral', 'anti-vax', 'pro-vax']\n",
        "\n",
        "cm = confusion_matrix(valid.label, pred)\n",
        "disp = ConfusionMatrixDisplay(confusion_matrix=cm, display_labels=target_names)\n",
        "disp.plot()\n",
        "plt.show()"
      ],
      "execution_count": 44,
      "outputs": [
        {
          "output_type": "display_data",
          "data": {
            "image/png": "[encoded data removed]",
            "text/plain": [
              "<Figure size 432x288 with 2 Axes>"
            ]
          },
          "metadata": {
            "needs_background": "light"
          }
        }
      ]
    },
    {
      "cell_type": "code",
      "metadata": {
        "id": "QdNq_4AkRANx",
        "colab": {
          "base_uri": "https://localhost:8080/"
        },
        "outputId": "43d0574c-f842-4484-83ca-1e44af463fdb"
      },
      "source": [
        "print(\"Precision-Recall-F1 - Training Data :\")\n",
        "print(precision_recall_fscore_support(valid.label, pred, average='micro'))"
      ],
      "execution_count": 45,
      "outputs": [
        {
          "output_type": "stream",
          "name": "stdout",
          "text": [
            "Precision-Recall-F1 - Training Data :\n",
            "(0.6950043821209465, 0.6950043821209465, 0.6950043821209465, None)\n"
          ]
        }
      ]
    },
    {
      "cell_type": "code",
      "source": [
        "proba_list = []\n",
        "for i in pred_proba:\n",
        "  proba_list.append(i.squeeze(0).tolist())\n",
        "#proba_list"
      ],
      "metadata": {
        "id": "hEn7KEISRANx"
      },
      "execution_count": 46,
      "outputs": []
    },
    {
      "cell_type": "code",
      "metadata": {
        "id": "8NJsJMMTRANy",
        "colab": {
          "base_uri": "https://localhost:8080/"
        },
        "outputId": "5942c367-7a33-45cb-db77-3efc1856e29c"
      },
      "source": [
        "macro_roc_auc_ovo = roc_auc_score(valid.label.tolist(), proba_list, multi_class=\"ovo\", average=\"macro\")\n",
        "weighted_roc_auc_ovo = roc_auc_score(valid.label.tolist(), proba_list, multi_class=\"ovo\", average=\"weighted\")\n",
        "macro_roc_auc_ovr = roc_auc_score(valid.label.tolist(), proba_list, multi_class=\"ovr\", average=\"macro\")\n",
        "weighted_roc_auc_ovr = roc_auc_score(valid.label.tolist(), proba_list, multi_class=\"ovr\", average=\"weighted\")\n",
        "print(\n",
        "    \"One-vs-One ROC AUC scores:\\n{:.6f} (macro),\\n{:.6f} \"\n",
        "    \"(weighted by prevalence)\".format(macro_roc_auc_ovo, weighted_roc_auc_ovo)\n",
        ")\n",
        "print()\n",
        "print(\n",
        "    \"One-vs-Rest ROC AUC scores:\\n{:.6f} (macro),\\n{:.6f} \"\n",
        "    \"(weighted by prevalence)\".format(macro_roc_auc_ovr, weighted_roc_auc_ovr)\n",
        ")"
      ],
      "execution_count": 47,
      "outputs": [
        {
          "output_type": "stream",
          "name": "stdout",
          "text": [
            "One-vs-One ROC AUC scores:\n",
            "0.802266 (macro),\n",
            "0.809256 (weighted by prevalence)\n",
            "\n",
            "One-vs-Rest ROC AUC scores:\n",
            "0.813007 (macro),\n",
            "0.821714 (weighted by prevalence)\n"
          ]
        }
      ]
    },
    {
      "cell_type": "markdown",
      "metadata": {
        "id": "wFRoDDsURANy"
      },
      "source": [
        "### Plots"
      ]
    },
    {
      "cell_type": "code",
      "metadata": {
        "id": "ShaI_EGDRANy",
        "colab": {
          "base_uri": "https://localhost:8080/",
          "height": 424
        },
        "outputId": "69afc8c2-ce90-4fb9-c96c-4590f74a3676"
      },
      "source": [
        "# probabilities\n",
        "df_prob = pd.DataFrame(proba_list)\n",
        "df_prob"
      ],
      "execution_count": 48,
      "outputs": [
        {
          "output_type": "execute_result",
          "data": {
            "text/html": [
              "\n",
              "  <div id=\"df-606756cd-8066-4a7d-944a-1fafd74e943b\">\n",
              "    <div class=\"colab-df-container\">\n",
              "      <div>\n",
              "<style scoped>\n",
              "    .dataframe tbody tr th:only-of-type {\n",
              "        vertical-align: middle;\n",
              "    }\n",
              "\n",
              "    .dataframe tbody tr th {\n",
              "        vertical-align: top;\n",
              "    }\n",
              "\n",
              "    .dataframe thead th {\n",
              "        text-align: right;\n",
              "    }\n",
              "</style>\n",
              "<table border=\"1\" class=\"dataframe\">\n",
              "  <thead>\n",
              "    <tr style=\"text-align: right;\">\n",
              "      <th></th>\n",
              "      <th>0</th>\n",
              "      <th>1</th>\n",
              "      <th>2</th>\n",
              "    </tr>\n",
              "  </thead>\n",
              "  <tbody>\n",
              "    <tr>\n",
              "      <th>0</th>\n",
              "      <td>0.695779</td>\n",
              "      <td>0.157493</td>\n",
              "      <td>0.146728</td>\n",
              "    </tr>\n",
              "    <tr>\n",
              "      <th>1</th>\n",
              "      <td>0.675035</td>\n",
              "      <td>0.056557</td>\n",
              "      <td>0.268408</td>\n",
              "    </tr>\n",
              "    <tr>\n",
              "      <th>2</th>\n",
              "      <td>0.679936</td>\n",
              "      <td>0.163700</td>\n",
              "      <td>0.156365</td>\n",
              "    </tr>\n",
              "    <tr>\n",
              "      <th>3</th>\n",
              "      <td>0.327079</td>\n",
              "      <td>0.269561</td>\n",
              "      <td>0.403360</td>\n",
              "    </tr>\n",
              "    <tr>\n",
              "      <th>4</th>\n",
              "      <td>0.021811</td>\n",
              "      <td>0.023256</td>\n",
              "      <td>0.954933</td>\n",
              "    </tr>\n",
              "    <tr>\n",
              "      <th>...</th>\n",
              "      <td>...</td>\n",
              "      <td>...</td>\n",
              "      <td>...</td>\n",
              "    </tr>\n",
              "    <tr>\n",
              "      <th>2277</th>\n",
              "      <td>0.977712</td>\n",
              "      <td>0.006610</td>\n",
              "      <td>0.015678</td>\n",
              "    </tr>\n",
              "    <tr>\n",
              "      <th>2278</th>\n",
              "      <td>0.824667</td>\n",
              "      <td>0.096298</td>\n",
              "      <td>0.079036</td>\n",
              "    </tr>\n",
              "    <tr>\n",
              "      <th>2279</th>\n",
              "      <td>0.166252</td>\n",
              "      <td>0.063931</td>\n",
              "      <td>0.769817</td>\n",
              "    </tr>\n",
              "    <tr>\n",
              "      <th>2280</th>\n",
              "      <td>0.012646</td>\n",
              "      <td>0.022916</td>\n",
              "      <td>0.964437</td>\n",
              "    </tr>\n",
              "    <tr>\n",
              "      <th>2281</th>\n",
              "      <td>0.963721</td>\n",
              "      <td>0.015363</td>\n",
              "      <td>0.020916</td>\n",
              "    </tr>\n",
              "  </tbody>\n",
              "</table>\n",
              "<p>2282 rows × 3 columns</p>\n",
              "</div>\n",
              "      <button class=\"colab-df-convert\" onclick=\"convertToInteractive('df-606756cd-8066-4a7d-944a-1fafd74e943b')\"\n",
              "              title=\"Convert this dataframe to an interactive table.\"\n",
              "              style=\"display:none;\">\n",
              "        \n",
              "  <svg xmlns=\"http://www.w3.org/2000/svg\" height=\"24px\"viewBox=\"0 0 24 24\"\n",
              "       width=\"24px\">\n",
              "    <path d=\"M0 0h24v24H0V0z\" fill=\"none\"/>\n",
              "    <path d=\"M18.56 5.44l.94 2.06.94-2.06 2.06-.94-2.06-.94-.94-2.06-.94 2.06-2.06.94zm-11 1L8.5 8.5l.94-2.06 2.06-.94-2.06-.94L8.5 2.5l-.94 2.06-2.06.94zm10 10l.94 2.06.94-2.06 2.06-.94-2.06-.94-.94-2.06-.94 2.06-2.06.94z\"/><path d=\"M17.41 7.96l-1.37-1.37c-.4-.4-.92-.59-1.43-.59-.52 0-1.04.2-1.43.59L10.3 9.45l-7.72 7.72c-.78.78-.78 2.05 0 2.83L4 21.41c.39.39.9.59 1.41.59.51 0 1.02-.2 1.41-.59l7.78-7.78 2.81-2.81c.8-.78.8-2.07 0-2.86zM5.41 20L4 18.59l7.72-7.72 1.47 1.35L5.41 20z\"/>\n",
              "  </svg>\n",
              "      </button>\n",
              "      \n",
              "  <style>\n",
              "    .colab-df-container {\n",
              "      display:flex;\n",
              "      flex-wrap:wrap;\n",
              "      gap: 12px;\n",
              "    }\n",
              "\n",
              "    .colab-df-convert {\n",
              "      background-color: #E8F0FE;\n",
              "      border: none;\n",
              "      border-radius: 50%;\n",
              "      cursor: pointer;\n",
              "      display: none;\n",
              "      fill: #1967D2;\n",
              "      height: 32px;\n",
              "      padding: 0 0 0 0;\n",
              "      width: 32px;\n",
              "    }\n",
              "\n",
              "    .colab-df-convert:hover {\n",
              "      background-color: #E2EBFA;\n",
              "      box-shadow: 0px 1px 2px rgba(60, 64, 67, 0.3), 0px 1px 3px 1px rgba(60, 64, 67, 0.15);\n",
              "      fill: #174EA6;\n",
              "    }\n",
              "\n",
              "    [theme=dark] .colab-df-convert {\n",
              "      background-color: #3B4455;\n",
              "      fill: #D2E3FC;\n",
              "    }\n",
              "\n",
              "    [theme=dark] .colab-df-convert:hover {\n",
              "      background-color: #434B5C;\n",
              "      box-shadow: 0px 1px 3px 1px rgba(0, 0, 0, 0.15);\n",
              "      filter: drop-shadow(0px 1px 2px rgba(0, 0, 0, 0.3));\n",
              "      fill: #FFFFFF;\n",
              "    }\n",
              "  </style>\n",
              "\n",
              "      <script>\n",
              "        const buttonEl =\n",
              "          document.querySelector('#df-606756cd-8066-4a7d-944a-1fafd74e943b button.colab-df-convert');\n",
              "        buttonEl.style.display =\n",
              "          google.colab.kernel.accessAllowed ? 'block' : 'none';\n",
              "\n",
              "        async function convertToInteractive(key) {\n",
              "          const element = document.querySelector('#df-606756cd-8066-4a7d-944a-1fafd74e943b');\n",
              "          const dataTable =\n",
              "            await google.colab.kernel.invokeFunction('convertToInteractive',\n",
              "                                                     [key], {});\n",
              "          if (!dataTable) return;\n",
              "\n",
              "          const docLinkHtml = 'Like what you see? Visit the ' +\n",
              "            '<a target=\"_blank\" href=https://colab.research.google.com/notebooks/data_table.ipynb>data table notebook</a>'\n",
              "            + ' to learn more about interactive tables.';\n",
              "          element.innerHTML = '';\n",
              "          dataTable['output_type'] = 'display_data';\n",
              "          await google.colab.output.renderOutput(dataTable, element);\n",
              "          const docLink = document.createElement('div');\n",
              "          docLink.innerHTML = docLinkHtml;\n",
              "          element.appendChild(docLink);\n",
              "        }\n",
              "      </script>\n",
              "    </div>\n",
              "  </div>\n",
              "  "
            ],
            "text/plain": [
              "             0         1         2\n",
              "0     0.695779  0.157493  0.146728\n",
              "1     0.675035  0.056557  0.268408\n",
              "2     0.679936  0.163700  0.156365\n",
              "3     0.327079  0.269561  0.403360\n",
              "4     0.021811  0.023256  0.954933\n",
              "...        ...       ...       ...\n",
              "2277  0.977712  0.006610  0.015678\n",
              "2278  0.824667  0.096298  0.079036\n",
              "2279  0.166252  0.063931  0.769817\n",
              "2280  0.012646  0.022916  0.964437\n",
              "2281  0.963721  0.015363  0.020916\n",
              "\n",
              "[2282 rows x 3 columns]"
            ]
          },
          "metadata": {},
          "execution_count": 48
        }
      ]
    },
    {
      "cell_type": "code",
      "metadata": {
        "id": "p8llmmzHRANz",
        "colab": {
          "base_uri": "https://localhost:8080/",
          "height": 295
        },
        "outputId": "534469d7-6aad-4b1e-e043-b3fb4bfd169e"
      },
      "source": [
        "# roc curve for classes\n",
        "fpr = {}\n",
        "tpr = {}\n",
        "thresh ={}\n",
        "\n",
        "n_class = 3\n",
        "\n",
        "for i in range(n_class):    \n",
        "    fpr[i], tpr[i], thresh[i] = roc_curve(valid.label, df_prob[i], pos_label=i)\n",
        "    \n",
        "# plotting    \n",
        "plt.plot(fpr[0], tpr[0], linestyle='--',color='orange', label='Class 0 vs Rest')\n",
        "plt.plot(fpr[1], tpr[1], linestyle='--',color='green', label='Class 1 vs Rest')\n",
        "plt.plot(fpr[2], tpr[2], linestyle='--',color='blue', label='Class 2 vs Rest')\n",
        "plt.title('Multiclass ROC curve')\n",
        "plt.xlabel('False Positive Rate')\n",
        "plt.ylabel('True Positive rate')\n",
        "plt.legend(loc='best')\n",
        "plt.savefig('Multiclass ROC',dpi=300);  "
      ],
      "execution_count": 49,
      "outputs": [
        {
          "output_type": "display_data",
          "data": {
            "image/png": "[encoded data removed]",
            "text/plain": [
              "<Figure size 432x288 with 1 Axes>"
            ]
          },
          "metadata": {
            "needs_background": "light"
          }
        }
      ]
    },
    {
      "cell_type": "code",
      "metadata": {
        "id": "d0JJCyNERANz",
        "colab": {
          "base_uri": "https://localhost:8080/",
          "height": 733
        },
        "outputId": "e208543c-ea1d-4bbf-ac85-1fa01dd8ee36"
      },
      "source": [
        "def plot_graph_loss(epochs):\n",
        "    fig = plt.figure(figsize=(12,12))\n",
        "    plt.title(\"Train/Validation Loss\")\n",
        "    plt.plot(list(np.arange(epochs) + 1) , epoch_loss, label='train')\n",
        "    plt.plot(list(np.arange(epochs) + 1), epoch_loss_dev, label='validation')\n",
        "    plt.xlabel('num_epochs', fontsize=12)\n",
        "    plt.ylabel('loss', fontsize=12)\n",
        "    plt.legend(['train', 'validation']);\n",
        "\n",
        "plot_graph_loss(40)"
      ],
      "execution_count": 50,
      "outputs": [
        {
          "output_type": "display_data",
          "data": {
            "image/png": "[encoded data removed]",
            "text/plain": [
              "<Figure size 864x864 with 1 Axes>"
            ]
          },
          "metadata": {
            "needs_background": "light"
          }
        }
      ]
    },
    {
      "cell_type": "code",
      "metadata": {
        "id": "2TGZ7To7RANz",
        "colab": {
          "base_uri": "https://localhost:8080/",
          "height": 733
        },
        "outputId": "02531ccd-25cc-4826-da05-d9841cbb6500"
      },
      "source": [
        "def plot_graph_acc(epochs):\n",
        "    fig = plt.figure(figsize=(12,12))\n",
        "    plt.title(\"Train/Validation Accuracy\")\n",
        "    plt.plot(list(np.arange(epochs) + 1) , epoch_acc, label='train')\n",
        "    plt.plot(list(np.arange(epochs) + 1), epoch_acc_dev, label='validation')\n",
        "    plt.xlabel('num_epochs', fontsize=12)\n",
        "    plt.ylabel('accuracy', fontsize=12)\n",
        "    plt.legend(['train', 'validation']);\n",
        "\n",
        "plot_graph_acc(40)    "
      ],
      "execution_count": 51,
      "outputs": [
        {
          "output_type": "display_data",
          "data": {
            "image/png": "[encoded data removed]",
            "text/plain": [
              "<Figure size 864x864 with 1 Axes>"
            ]
          },
          "metadata": {
            "needs_background": "light"
          }
        }
      ]
    }
  ]
}
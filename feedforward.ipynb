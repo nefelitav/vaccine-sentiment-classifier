{
  "cells": [
    {
      "cell_type": "markdown",
      "metadata": {
        "id": "EW34__zUBaFL"
      },
      "source": [
        "# Vaccine Sentiment Classification\n",
        "*by Nefeli Tavoulari*"
      ]
    },
    {
      "cell_type": "markdown",
      "metadata": {
        "id": "Jnk1un7nBfNR"
      },
      "source": [
        "#### In this notebook I classify tweets as Neutral, Pro-vax or Anti-vax."
      ]
    },
    {
      "cell_type": "markdown",
      "metadata": {
        "id": "kOXT2nsK1kOq"
      },
      "source": [
        "## Install Dependencies"
      ]
    },
    {
      "cell_type": "code",
      "execution_count": 1,
      "metadata": {
        "colab": {
          "base_uri": "https://localhost:8080/"
        },
        "id": "jl8wlD1VRC3F",
        "outputId": "c156ed1d-7bfe-4e7b-8c9f-573770bb6735"
      },
      "outputs": [
        {
          "name": "stdout",
          "output_type": "stream",
          "text": [
            "Collecting torch==1.8.0\n",
            "  Downloading torch-1.8.0-cp37-cp37m-manylinux1_x86_64.whl (735.5 MB)\n",
            "\u001b[K     |████████████████████████████████| 735.5 MB 12 kB/s \n",
            "\u001b[?25hCollecting torchtext==0.9.0\n",
            "  Downloading torchtext-0.9.0-cp37-cp37m-manylinux1_x86_64.whl (7.1 MB)\n",
            "\u001b[K     |████████████████████████████████| 7.1 MB 25.3 MB/s \n",
            "\u001b[?25hRequirement already satisfied: numpy in /usr/local/lib/python3.7/dist-packages (from torch==1.8.0) (1.19.5)\n",
            "Requirement already satisfied: typing-extensions in /usr/local/lib/python3.7/dist-packages (from torch==1.8.0) (3.10.0.2)\n",
            "Requirement already satisfied: requests in /usr/local/lib/python3.7/dist-packages (from torchtext==0.9.0) (2.23.0)\n",
            "Requirement already satisfied: tqdm in /usr/local/lib/python3.7/dist-packages (from torchtext==0.9.0) (4.62.3)\n",
            "Requirement already satisfied: chardet<4,>=3.0.2 in /usr/local/lib/python3.7/dist-packages (from requests->torchtext==0.9.0) (3.0.4)\n",
            "Requirement already satisfied: urllib3!=1.25.0,!=1.25.1,<1.26,>=1.21.1 in /usr/local/lib/python3.7/dist-packages (from requests->torchtext==0.9.0) (1.24.3)\n",
            "Requirement already satisfied: idna<3,>=2.5 in /usr/local/lib/python3.7/dist-packages (from requests->torchtext==0.9.0) (2.10)\n",
            "Requirement already satisfied: certifi>=2017.4.17 in /usr/local/lib/python3.7/dist-packages (from requests->torchtext==0.9.0) (2021.10.8)\n",
            "Installing collected packages: torch, torchtext\n",
            "  Attempting uninstall: torch\n",
            "    Found existing installation: torch 1.10.0+cu111\n",
            "    Uninstalling torch-1.10.0+cu111:\n",
            "      Successfully uninstalled torch-1.10.0+cu111\n",
            "  Attempting uninstall: torchtext\n",
            "    Found existing installation: torchtext 0.11.0\n",
            "    Uninstalling torchtext-0.11.0:\n",
            "      Successfully uninstalled torchtext-0.11.0\n",
            "\u001b[31mERROR: pip's dependency resolver does not currently take into account all the packages that are installed. This behaviour is the source of the following dependency conflicts.\n",
            "torchvision 0.11.1+cu111 requires torch==1.10.0, but you have torch 1.8.0 which is incompatible.\n",
            "torchaudio 0.10.0+cu111 requires torch==1.10.0, but you have torch 1.8.0 which is incompatible.\u001b[0m\n",
            "Successfully installed torch-1.8.0 torchtext-0.9.0\n",
            "\u001b[31mERROR: You must give at least one requirement to install (see \"pip help install\")\u001b[0m\n"
          ]
        }
      ],
      "source": [
        "!pip install -U torch==1.8.0 torchtext==0.9.0"
      ]
    },
    {
      "cell_type": "markdown",
      "metadata": {
        "id": "sYnNIsloBipg"
      },
      "source": [
        "## Import Packages"
      ]
    },
    {
      "cell_type": "code",
      "execution_count": 2,
      "metadata": {
        "colab": {
          "base_uri": "https://localhost:8080/"
        },
        "id": "sB8j3615BTwM",
        "outputId": "68ef7b9e-8b8a-4da4-c065-cf0903bbda6f"
      },
      "outputs": [
        {
          "name": "stdout",
          "output_type": "stream",
          "text": [
            "[nltk_data] Downloading package stopwords to /root/nltk_data...\n",
            "[nltk_data]   Unzipping corpora/stopwords.zip.\n",
            "[nltk_data] Downloading package wordnet to /root/nltk_data...\n",
            "[nltk_data]   Unzipping corpora/wordnet.zip.\n"
          ]
        }
      ],
      "source": [
        "%matplotlib inline\n",
        "import io\n",
        "import re\n",
        "import csv\n",
        "\n",
        "import numpy as np\n",
        "import pandas as pd\n",
        "import matplotlib.pyplot as plt\n",
        "from google.colab import files\n",
        "from wordcloud import WordCloud\n",
        "import nltk\n",
        "import re\n",
        "import csv\n",
        "from nltk.stem import WordNetLemmatizer\n",
        "from nltk.corpus import stopwords \n",
        "\n",
        "import torch\n",
        "import torch.nn as nn\n",
        "from torchtext.legacy import data   \n",
        "from torchtext.vocab import GloVe\n",
        "from torchtext.legacy.data import BucketIterator\n",
        "from torch.utils.data import Dataset, DataLoader, TensorDataset\n",
        "import torch.nn.functional as F\n",
        "import torch.optim as optim\n",
        "\n",
        "import torchvision.transforms as transforms\n",
        "import torchvision.datasets as dsets\n",
        "\n",
        "from sklearn.metrics import precision_recall_fscore_support, confusion_matrix, ConfusionMatrixDisplay\n",
        "from sklearn.metrics import classification_report, roc_curve, roc_auc_score\n",
        "from sklearn.metrics import roc_curve, accuracy_score, mean_absolute_error\n",
        "\n",
        "SEED = 1234\n",
        "torch.manual_seed(SEED)\n",
        "torch.cuda.manual_seed(SEED)\n",
        "torch.backends.cudnn.deterministic = True\n",
        "nltk.download('stopwords')\n",
        "nltk.download('wordnet')\n",
        "stop_words = set(stopwords.words('english'))\n",
        "lemmatizer = WordNetLemmatizer()"
      ]
    },
    {
      "cell_type": "markdown",
      "metadata": {
        "id": "SwQ1dAaDBrKg"
      },
      "source": [
        "## Upload dataset - Create dataframe"
      ]
    },
    {
      "cell_type": "code",
      "execution_count": 3,
      "metadata": {
        "colab": {
          "base_uri": "https://localhost:8080/",
          "height": 73,
          "resources": {
            "http://localhost:8080/nbextensions/google.colab/files.js": {
              "data": "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",
              "headers": [
                [
                  "content-type",
                  "application/javascript"
                ]
              ],
              "ok": true,
              "status": 200,
              "status_text": ""
            }
          }
        },
        "id": "1mBmlpIlBt84",
        "outputId": "6f6ed477-019e-4982-ac7d-9363f01f2b6c"
      },
      "outputs": [
        {
          "data": {
            "text/html": [
              "\n",
              "     <input type=\"file\" id=\"files-cfe93050-f9c5-470b-b513-241d51e6651e\" name=\"files[]\" multiple disabled\n",
              "        style=\"border:none\" />\n",
              "     <output id=\"result-cfe93050-f9c5-470b-b513-241d51e6651e\">\n",
              "      Upload widget is only available when the cell has been executed in the\n",
              "      current browser session. Please rerun this cell to enable.\n",
              "      </output>\n",
              "      <script src=\"/nbextensions/google.colab/files.js\"></script> "
            ],
            "text/plain": [
              "<IPython.core.display.HTML object>"
            ]
          },
          "metadata": {},
          "output_type": "display_data"
        },
        {
          "name": "stdout",
          "output_type": "stream",
          "text": [
            "Saving vs_train.csv to vs_train.csv\n"
          ]
        }
      ],
      "source": [
        "upload_train = files.upload()"
      ]
    },
    {
      "cell_type": "code",
      "execution_count": 4,
      "metadata": {
        "colab": {
          "base_uri": "https://localhost:8080/",
          "height": 73,
          "resources": {
            "http://localhost:8080/nbextensions/google.colab/files.js": {
              "data": "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",
              "headers": [
                [
                  "content-type",
                  "application/javascript"
                ]
              ],
              "ok": true,
              "status": 200,
              "status_text": ""
            }
          }
        },
        "id": "gqzdiqaTBv_E",
        "outputId": "727a33d6-1774-42b4-fe68-049ed6959bf8"
      },
      "outputs": [
        {
          "data": {
            "text/html": [
              "\n",
              "     <input type=\"file\" id=\"files-eea343ab-8714-489b-b70a-a6fbe3500b02\" name=\"files[]\" multiple disabled\n",
              "        style=\"border:none\" />\n",
              "     <output id=\"result-eea343ab-8714-489b-b70a-a6fbe3500b02\">\n",
              "      Upload widget is only available when the cell has been executed in the\n",
              "      current browser session. Please rerun this cell to enable.\n",
              "      </output>\n",
              "      <script src=\"/nbextensions/google.colab/files.js\"></script> "
            ],
            "text/plain": [
              "<IPython.core.display.HTML object>"
            ]
          },
          "metadata": {},
          "output_type": "display_data"
        },
        {
          "name": "stdout",
          "output_type": "stream",
          "text": [
            "Saving vs_dev.csv to vs_dev.csv\n"
          ]
        }
      ],
      "source": [
        "upload_dev = files.upload()"
      ]
    },
    {
      "cell_type": "markdown",
      "metadata": {
        "id": "PrknN4jRbeN6"
      },
      "source": [
        "## Upload Glove Embeddings"
      ]
    },
    {
      "cell_type": "code",
      "execution_count": 5,
      "metadata": {
        "id": "A8v30jvy8JOx"
      },
      "outputs": [],
      "source": [
        "def load_glove_model(File):\n",
        "    print(\"Loading Glove Model\")\n",
        "    glove_model = {}\n",
        "    with open(File,'r') as f:\n",
        "        for line in f:\n",
        "            split_line = line.split()\n",
        "            word = split_line[0]\n",
        "            embedding = np.array(split_line[1:], dtype=np.float64)\n",
        "            glove_model[word] = embedding\n",
        "    print(f\"{len(glove_model)} words loaded!\")\n",
        "    return glove_model"
      ]
    },
    {
      "cell_type": "code",
      "execution_count": 6,
      "metadata": {
        "colab": {
          "base_uri": "https://localhost:8080/"
        },
        "id": "xukjiAFj86dI",
        "outputId": "db7eb856-dc13-4066-f063-fbf13f1b2995"
      },
      "outputs": [
        {
          "name": "stdout",
          "output_type": "stream",
          "text": [
            "--2021-12-19 19:37:35--  https://nlp.stanford.edu/data/glove.twitter.27B.zip\n",
            "Resolving nlp.stanford.edu (nlp.stanford.edu)... 171.64.67.140\n",
            "Connecting to nlp.stanford.edu (nlp.stanford.edu)|171.64.67.140|:443... connected.\n",
            "HTTP request sent, awaiting response... 301 Moved Permanently\n",
            "Location: http://downloads.cs.stanford.edu/nlp/data/glove.twitter.27B.zip [following]\n",
            "--2021-12-19 19:37:36--  http://downloads.cs.stanford.edu/nlp/data/glove.twitter.27B.zip\n",
            "Resolving downloads.cs.stanford.edu (downloads.cs.stanford.edu)... 171.64.64.22\n",
            "Connecting to downloads.cs.stanford.edu (downloads.cs.stanford.edu)|171.64.64.22|:80... connected.\n",
            "HTTP request sent, awaiting response... 200 OK\n",
            "Length: 1520408563 (1.4G) [application/zip]\n",
            "Saving to: ‘glove.twitter.27B.zip’\n",
            "\n",
            "glove.twitter.27B.z 100%[===================>]   1.42G  5.00MB/s    in 4m 47s  \n",
            "\n",
            "2021-12-19 19:42:24 (5.05 MB/s) - ‘glove.twitter.27B.zip’ saved [1520408563/1520408563]\n",
            "\n",
            "Archive:  glove.twitter.27B.zip\n",
            "  inflating: glove.twitter.27B.25d.txt  \n",
            "  inflating: glove.twitter.27B.50d.txt  \n",
            "  inflating: glove.twitter.27B.100d.txt  \n",
            "  inflating: glove.twitter.27B.200d.txt  \n"
          ]
        }
      ],
      "source": [
        "!wget https://nlp.stanford.edu/data/glove.twitter.27B.zip\n",
        "!unzip glove.twitter.27B.zip\n",
        "# free some space\n",
        "!rm glove.twitter.27B.zip"
      ]
    },
    {
      "cell_type": "code",
      "execution_count": 690,
      "metadata": {
        "colab": {
          "base_uri": "https://localhost:8080/"
        },
        "id": "OLj-OVw0mFuv",
        "outputId": "47a2c742-ab30-4911-8049-ae2d02996f04"
      },
      "outputs": [
        {
          "name": "stdout",
          "output_type": "stream",
          "text": [
            "Loading Glove Model\n",
            "1193514 words loaded!\n"
          ]
        }
      ],
      "source": [
        "gloveModel = load_glove_model(\"glove.twitter.27B.25d.txt\")\n",
        "dim = 25\n",
        "#\n",
        "#gloveModel = load_glove_model(\"glove.twitter.27B.50d.txt\")\n",
        "#dim = 50\n",
        "#\n",
        "#gloveModel = load_glove_model(\"glove.twitter.27B.100d.txt\")\n",
        "#dim = 100\n",
        "#\n",
        "#gloveModel = load_glove_model(\"glove.twitter.27B.200d.txt\")\n",
        "#dim = 200\n"
      ]
    },
    {
      "cell_type": "code",
      "execution_count": 691,
      "metadata": {
        "id": "crl8Sc9YByK9"
      },
      "outputs": [],
      "source": [
        "train_df = pd.read_csv(io.BytesIO(upload_train['vs_train.csv']))\n",
        "dev_df = pd.read_csv(io.BytesIO(upload_dev['vs_dev.csv']))"
      ]
    },
    {
      "cell_type": "code",
      "execution_count": 692,
      "metadata": {
        "colab": {
          "base_uri": "https://localhost:8080/"
        },
        "id": "OKStHo66Bz8t",
        "outputId": "f86c6203-0c20-4108-c019-67cbe5e43603"
      },
      "outputs": [
        {
          "name": "stdout",
          "output_type": "stream",
          "text": [
            "       Unnamed: 0                                              tweet  label\n",
            "0               0  Sip N Shop Come thru right now #Marjais #Popul...      0\n",
            "1               1  I don't know about you but My family and I wil...      1\n",
            "2               2  @MSignorile Immunizations should be mandatory....      2\n",
            "3               3  President Obama spoke in favor of vaccination ...      0\n",
            "4               4  \"@myfoxla: Arizona monitoring hundreds for mea...      0\n",
            "...           ...                                                ...    ...\n",
            "15971       15971  @Salon if u believe the anti-vax nutcases caus...      1\n",
            "15972       15972  How do you feel about parents who don't #vacci...      0\n",
            "15973       15973  70 Preschoolers Tested for Measles in Simi Val...      0\n",
            "15974       15974  Finance Minister: Budget offers room to procur...      0\n",
            "15975       15975  Are you up to date on vaccines? Take CDC’s vac...      2\n",
            "\n",
            "[15976 rows x 3 columns]\n"
          ]
        }
      ],
      "source": [
        "print(train_df) # training data"
      ]
    },
    {
      "cell_type": "code",
      "execution_count": 693,
      "metadata": {
        "colab": {
          "base_uri": "https://localhost:8080/"
        },
        "id": "2W3hygNmB05X",
        "outputId": "cb4e6ee2-295e-4ed2-ad49-2d3bf0077cdc"
      },
      "outputs": [
        {
          "name": "stdout",
          "output_type": "stream",
          "text": [
            "      Unnamed: 0                                              tweet  label\n",
            "0              0  @user They had a massive surge in with covid d...      1\n",
            "1              1  Required vaccines for school: Parents and guar...      0\n",
            "2              2  “@KCStar: Two more Johnson County children hav...      0\n",
            "3              3  NV can do better. Which states are the best (a...      2\n",
            "4              4  Nothing like killing ourselves w/ our own fear...      2\n",
            "...          ...                                                ...    ...\n",
            "2277        2277  RT @abc7: Number of measles cases reported in ...      0\n",
            "2278        2278  Evidence points to the idea that \"measles affe...      0\n",
            "2279        2279  Where's @SavedYouAClick \"@voxdotcom: Why you s...      2\n",
            "2280        2280  Some of my favorite people have autism. If tha...      2\n",
            "2281        2281  Coronavirus: The married couple behind the suc...      0\n",
            "\n",
            "[2282 rows x 3 columns]\n"
          ]
        }
      ],
      "source": [
        "print(dev_df) # validation data"
      ]
    },
    {
      "cell_type": "markdown",
      "metadata": {
        "id": "ztXIRmkHGXVN"
      },
      "source": [
        "## Remove empty / duplicate tweets"
      ]
    },
    {
      "cell_type": "code",
      "execution_count": 694,
      "metadata": {
        "colab": {
          "base_uri": "https://localhost:8080/"
        },
        "id": "m_A522pkGZLn",
        "outputId": "1444b845-09c2-44d8-c0f0-2010c1dc8aaf"
      },
      "outputs": [
        {
          "name": "stdout",
          "output_type": "stream",
          "text": [
            "(15881, 2)\n",
            "(2282, 2)\n"
          ]
        }
      ],
      "source": [
        "train_df.dropna(subset = [\"tweet\"], inplace=True)\n",
        "train_df.drop_duplicates(subset = [\"tweet\"], inplace=True)\n",
        "\n",
        "dev_df.dropna(subset = [\"tweet\"], inplace=True)\n",
        "\n",
        "train_df.drop(['Unnamed: 0'], axis=1, inplace = True) \n",
        "dev_df.drop(['Unnamed: 0'], axis=1, inplace = True) \n",
        "\n",
        "print(train_df.shape)\n",
        "print(dev_df.shape)"
      ]
    },
    {
      "cell_type": "markdown",
      "metadata": {
        "id": "fK5Qud3-cAYm"
      },
      "source": [
        "## Clean text"
      ]
    },
    {
      "cell_type": "code",
      "execution_count": 695,
      "metadata": {
        "id": "Gco1RADEpk1w"
      },
      "outputs": [],
      "source": [
        "def clean_text(text):\n",
        "  text = text.lower()                                           # lowercase\n",
        "  text = text.strip()                                           # remove white spaces\n",
        "  #text = ' '.join(re.sub(\"(@[A-Za-z0-9]+)\",\" \",text).split())   # remove twitter user accounts\n",
        "  text = re.sub(r'http\\S+', ' ', text)                          # remove urls\n",
        "  text = re.sub('[^A-Za-z0-9]+', ' ', text)                     # remove special characters\n",
        "  # perform lemmatization\n",
        "  cleaned_text = \"\"\n",
        "  for word in text.split() :\n",
        "    if word in stop_words:                                      # remove stopwords\n",
        "      continue\n",
        "    temp = lemmatizer.lemmatize(word)                           # lemmatize\n",
        "    #temp = snowball.stem(word)\n",
        "    #temp = lancaster.stem(word)\n",
        "    #temp = porter.stem(word)\n",
        "    cleaned_text += (temp + \" \")\n",
        "  return cleaned_text"
      ]
    },
    {
      "cell_type": "code",
      "execution_count": 696,
      "metadata": {
        "id": "yvL7F6BKcT5c"
      },
      "outputs": [],
      "source": [
        "cleaned_text = []                                  # clean training data\n",
        "for line in train_df[\"tweet\"]:\n",
        "  cleaned_text.append(clean_text(line))\n",
        "cleaned_text_val = []                              # clean validation data\n",
        "for line in dev_df[\"tweet\"]:\n",
        "  cleaned_text_val.append(clean_text(line))\n",
        "\n",
        "train_df = train_df.assign(clean_tweet = lambda x: cleaned_text)\n",
        "dev_df = dev_df.assign(clean_tweet = lambda x: cleaned_text_val)\n",
        "\n",
        "train_df.drop(['tweet'], axis=1, inplace = True) \n",
        "dev_df.drop(['tweet'], axis=1, inplace = True) "
      ]
    },
    {
      "cell_type": "code",
      "execution_count": 697,
      "metadata": {
        "colab": {
          "base_uri": "https://localhost:8080/"
        },
        "id": "4up9Sn_dYHIZ",
        "outputId": "5d255e5d-8d57-4a38-eaf8-76be3c7faaa2"
      },
      "outputs": [
        {
          "data": {
            "text/plain": [
              "(18163, 2)"
            ]
          },
          "execution_count": 697,
          "metadata": {},
          "output_type": "execute_result"
        }
      ],
      "source": [
        "total_df = train_df.append(dev_df)\n",
        "total_df.shape"
      ]
    },
    {
      "cell_type": "markdown",
      "metadata": {
        "id": "rs10h234cr4V"
      },
      "source": [
        "### Use Word Embeddings"
      ]
    },
    {
      "cell_type": "code",
      "execution_count": 698,
      "metadata": {
        "id": "dQrnaHErAf9I"
      },
      "outputs": [],
      "source": [
        "vocab = {}\n",
        "for row in range(0, total_df.shape[0]):\n",
        "  vocab[row] = []\n",
        "i = 0\n",
        "for tweet in total_df[\"clean_tweet\"]: # each tweet\n",
        "  count = np.zeros(dim)  \n",
        "  for word in tweet.split():\n",
        "    if (word in gloveModel):\n",
        "      count += gloveModel[word]\n",
        "  for num in count/dim:\n",
        "    vocab[i].append(num)\n",
        "  i += 1"
      ]
    },
    {
      "cell_type": "code",
      "execution_count": 699,
      "metadata": {
        "colab": {
          "base_uri": "https://localhost:8080/",
          "height": 488
        },
        "id": "sD9rqxzcFCZj",
        "outputId": "24d30225-498d-4585-e6d6-62fa53c4ef3f"
      },
      "outputs": [
        {
          "data": {
            "text/html": [
              "\n",
              "  <div id=\"df-d678a658-965c-4a9c-8634-aa8fdb973247\">\n",
              "    <div class=\"colab-df-container\">\n",
              "      <div>\n",
              "<style scoped>\n",
              "    .dataframe tbody tr th:only-of-type {\n",
              "        vertical-align: middle;\n",
              "    }\n",
              "\n",
              "    .dataframe tbody tr th {\n",
              "        vertical-align: top;\n",
              "    }\n",
              "\n",
              "    .dataframe thead th {\n",
              "        text-align: right;\n",
              "    }\n",
              "</style>\n",
              "<table border=\"1\" class=\"dataframe\">\n",
              "  <thead>\n",
              "    <tr style=\"text-align: right;\">\n",
              "      <th></th>\n",
              "      <th>0</th>\n",
              "      <th>1</th>\n",
              "      <th>2</th>\n",
              "      <th>3</th>\n",
              "      <th>4</th>\n",
              "      <th>5</th>\n",
              "      <th>6</th>\n",
              "      <th>7</th>\n",
              "      <th>8</th>\n",
              "      <th>9</th>\n",
              "      <th>10</th>\n",
              "      <th>11</th>\n",
              "      <th>12</th>\n",
              "      <th>13</th>\n",
              "      <th>14</th>\n",
              "      <th>15</th>\n",
              "      <th>16</th>\n",
              "      <th>17</th>\n",
              "      <th>18</th>\n",
              "      <th>19</th>\n",
              "      <th>20</th>\n",
              "      <th>21</th>\n",
              "      <th>22</th>\n",
              "      <th>23</th>\n",
              "      <th>24</th>\n",
              "    </tr>\n",
              "  </thead>\n",
              "  <tbody>\n",
              "    <tr>\n",
              "      <th>0</th>\n",
              "      <td>-0.074209</td>\n",
              "      <td>0.174633</td>\n",
              "      <td>-0.018545</td>\n",
              "      <td>-0.030889</td>\n",
              "      <td>-0.051354</td>\n",
              "      <td>-0.050267</td>\n",
              "      <td>0.174427</td>\n",
              "      <td>0.031691</td>\n",
              "      <td>-0.011138</td>\n",
              "      <td>0.126046</td>\n",
              "      <td>-0.059712</td>\n",
              "      <td>-0.051399</td>\n",
              "      <td>-0.903162</td>\n",
              "      <td>-0.034106</td>\n",
              "      <td>-0.020152</td>\n",
              "      <td>-0.055038</td>\n",
              "      <td>0.026370</td>\n",
              "      <td>-0.129461</td>\n",
              "      <td>-0.080249</td>\n",
              "      <td>-0.004640</td>\n",
              "      <td>-0.054612</td>\n",
              "      <td>-0.052254</td>\n",
              "      <td>0.154567</td>\n",
              "      <td>0.132431</td>\n",
              "      <td>0.081430</td>\n",
              "    </tr>\n",
              "    <tr>\n",
              "      <th>1</th>\n",
              "      <td>-0.096885</td>\n",
              "      <td>0.198095</td>\n",
              "      <td>-0.036882</td>\n",
              "      <td>-0.027684</td>\n",
              "      <td>-0.064159</td>\n",
              "      <td>-0.100399</td>\n",
              "      <td>0.301494</td>\n",
              "      <td>-0.063744</td>\n",
              "      <td>-0.024514</td>\n",
              "      <td>0.023850</td>\n",
              "      <td>-0.076308</td>\n",
              "      <td>0.067945</td>\n",
              "      <td>-0.922091</td>\n",
              "      <td>0.012661</td>\n",
              "      <td>0.092259</td>\n",
              "      <td>0.003399</td>\n",
              "      <td>0.080930</td>\n",
              "      <td>-0.173531</td>\n",
              "      <td>0.035397</td>\n",
              "      <td>-0.089007</td>\n",
              "      <td>-0.018312</td>\n",
              "      <td>0.031987</td>\n",
              "      <td>-0.018892</td>\n",
              "      <td>0.075888</td>\n",
              "      <td>-0.009154</td>\n",
              "    </tr>\n",
              "    <tr>\n",
              "      <th>2</th>\n",
              "      <td>-0.040021</td>\n",
              "      <td>0.258818</td>\n",
              "      <td>-0.079311</td>\n",
              "      <td>-0.117769</td>\n",
              "      <td>-0.042948</td>\n",
              "      <td>-0.029355</td>\n",
              "      <td>0.461787</td>\n",
              "      <td>-0.403149</td>\n",
              "      <td>-0.017695</td>\n",
              "      <td>0.054543</td>\n",
              "      <td>-0.156850</td>\n",
              "      <td>0.092332</td>\n",
              "      <td>-1.501643</td>\n",
              "      <td>0.117023</td>\n",
              "      <td>0.250349</td>\n",
              "      <td>0.064133</td>\n",
              "      <td>0.097205</td>\n",
              "      <td>-0.161577</td>\n",
              "      <td>0.073152</td>\n",
              "      <td>-0.167225</td>\n",
              "      <td>-0.092468</td>\n",
              "      <td>0.156980</td>\n",
              "      <td>0.077036</td>\n",
              "      <td>-0.134057</td>\n",
              "      <td>-0.034076</td>\n",
              "    </tr>\n",
              "    <tr>\n",
              "      <th>3</th>\n",
              "      <td>0.035770</td>\n",
              "      <td>0.332920</td>\n",
              "      <td>-0.080705</td>\n",
              "      <td>-0.037391</td>\n",
              "      <td>0.115634</td>\n",
              "      <td>-0.350312</td>\n",
              "      <td>0.212475</td>\n",
              "      <td>-0.222832</td>\n",
              "      <td>0.052082</td>\n",
              "      <td>-0.137239</td>\n",
              "      <td>0.060121</td>\n",
              "      <td>0.017058</td>\n",
              "      <td>-1.428052</td>\n",
              "      <td>0.010468</td>\n",
              "      <td>0.194881</td>\n",
              "      <td>-0.033724</td>\n",
              "      <td>-0.066033</td>\n",
              "      <td>-0.011467</td>\n",
              "      <td>0.148273</td>\n",
              "      <td>-0.270828</td>\n",
              "      <td>0.099840</td>\n",
              "      <td>0.127823</td>\n",
              "      <td>-0.090725</td>\n",
              "      <td>-0.291199</td>\n",
              "      <td>-0.178715</td>\n",
              "    </tr>\n",
              "    <tr>\n",
              "      <th>4</th>\n",
              "      <td>0.010700</td>\n",
              "      <td>0.106362</td>\n",
              "      <td>-0.045609</td>\n",
              "      <td>-0.027944</td>\n",
              "      <td>-0.061994</td>\n",
              "      <td>-0.040095</td>\n",
              "      <td>0.175118</td>\n",
              "      <td>-0.341968</td>\n",
              "      <td>-0.027564</td>\n",
              "      <td>0.030356</td>\n",
              "      <td>0.145610</td>\n",
              "      <td>0.041177</td>\n",
              "      <td>-0.824256</td>\n",
              "      <td>0.154942</td>\n",
              "      <td>0.065042</td>\n",
              "      <td>-0.105719</td>\n",
              "      <td>0.084132</td>\n",
              "      <td>0.015968</td>\n",
              "      <td>0.198163</td>\n",
              "      <td>-0.051885</td>\n",
              "      <td>-0.170522</td>\n",
              "      <td>-0.036614</td>\n",
              "      <td>-0.022403</td>\n",
              "      <td>-0.270810</td>\n",
              "      <td>-0.051687</td>\n",
              "    </tr>\n",
              "    <tr>\n",
              "      <th>...</th>\n",
              "      <td>...</td>\n",
              "      <td>...</td>\n",
              "      <td>...</td>\n",
              "      <td>...</td>\n",
              "      <td>...</td>\n",
              "      <td>...</td>\n",
              "      <td>...</td>\n",
              "      <td>...</td>\n",
              "      <td>...</td>\n",
              "      <td>...</td>\n",
              "      <td>...</td>\n",
              "      <td>...</td>\n",
              "      <td>...</td>\n",
              "      <td>...</td>\n",
              "      <td>...</td>\n",
              "      <td>...</td>\n",
              "      <td>...</td>\n",
              "      <td>...</td>\n",
              "      <td>...</td>\n",
              "      <td>...</td>\n",
              "      <td>...</td>\n",
              "      <td>...</td>\n",
              "      <td>...</td>\n",
              "      <td>...</td>\n",
              "      <td>...</td>\n",
              "    </tr>\n",
              "    <tr>\n",
              "      <th>18158</th>\n",
              "      <td>0.068196</td>\n",
              "      <td>0.232128</td>\n",
              "      <td>0.084904</td>\n",
              "      <td>-0.170493</td>\n",
              "      <td>0.003719</td>\n",
              "      <td>-0.088877</td>\n",
              "      <td>0.527260</td>\n",
              "      <td>0.026907</td>\n",
              "      <td>-0.020015</td>\n",
              "      <td>0.118675</td>\n",
              "      <td>-0.070675</td>\n",
              "      <td>0.160058</td>\n",
              "      <td>-1.776028</td>\n",
              "      <td>0.137248</td>\n",
              "      <td>0.220457</td>\n",
              "      <td>-0.129746</td>\n",
              "      <td>0.188813</td>\n",
              "      <td>-0.176381</td>\n",
              "      <td>0.013349</td>\n",
              "      <td>-0.074251</td>\n",
              "      <td>-0.018184</td>\n",
              "      <td>0.080001</td>\n",
              "      <td>0.130804</td>\n",
              "      <td>-0.048743</td>\n",
              "      <td>-0.079874</td>\n",
              "    </tr>\n",
              "    <tr>\n",
              "      <th>18159</th>\n",
              "      <td>0.135183</td>\n",
              "      <td>0.103666</td>\n",
              "      <td>-0.183617</td>\n",
              "      <td>0.069301</td>\n",
              "      <td>0.194723</td>\n",
              "      <td>-0.035908</td>\n",
              "      <td>0.397737</td>\n",
              "      <td>-0.391050</td>\n",
              "      <td>0.025930</td>\n",
              "      <td>0.104589</td>\n",
              "      <td>0.088990</td>\n",
              "      <td>0.076809</td>\n",
              "      <td>-1.422444</td>\n",
              "      <td>0.272032</td>\n",
              "      <td>0.283920</td>\n",
              "      <td>0.007851</td>\n",
              "      <td>0.152214</td>\n",
              "      <td>0.103808</td>\n",
              "      <td>0.302962</td>\n",
              "      <td>-0.237584</td>\n",
              "      <td>-0.146742</td>\n",
              "      <td>0.087779</td>\n",
              "      <td>0.016166</td>\n",
              "      <td>-0.096209</td>\n",
              "      <td>-0.205875</td>\n",
              "    </tr>\n",
              "    <tr>\n",
              "      <th>18160</th>\n",
              "      <td>0.012991</td>\n",
              "      <td>0.094557</td>\n",
              "      <td>0.045770</td>\n",
              "      <td>0.002997</td>\n",
              "      <td>-0.000554</td>\n",
              "      <td>-0.057806</td>\n",
              "      <td>0.143313</td>\n",
              "      <td>-0.167676</td>\n",
              "      <td>-0.063106</td>\n",
              "      <td>-0.008966</td>\n",
              "      <td>-0.018790</td>\n",
              "      <td>0.015629</td>\n",
              "      <td>-0.523774</td>\n",
              "      <td>0.007312</td>\n",
              "      <td>0.009046</td>\n",
              "      <td>-0.010261</td>\n",
              "      <td>0.048903</td>\n",
              "      <td>-0.101382</td>\n",
              "      <td>0.002362</td>\n",
              "      <td>-0.044212</td>\n",
              "      <td>-0.071073</td>\n",
              "      <td>0.078687</td>\n",
              "      <td>0.016030</td>\n",
              "      <td>-0.094016</td>\n",
              "      <td>-0.049905</td>\n",
              "    </tr>\n",
              "    <tr>\n",
              "      <th>18161</th>\n",
              "      <td>-0.094936</td>\n",
              "      <td>0.232104</td>\n",
              "      <td>-0.101476</td>\n",
              "      <td>0.067977</td>\n",
              "      <td>0.059048</td>\n",
              "      <td>-0.099540</td>\n",
              "      <td>0.410378</td>\n",
              "      <td>-0.217557</td>\n",
              "      <td>-0.181291</td>\n",
              "      <td>0.041748</td>\n",
              "      <td>-0.102457</td>\n",
              "      <td>0.161872</td>\n",
              "      <td>-1.260708</td>\n",
              "      <td>-0.074044</td>\n",
              "      <td>0.073398</td>\n",
              "      <td>0.053315</td>\n",
              "      <td>0.095231</td>\n",
              "      <td>-0.091243</td>\n",
              "      <td>0.197620</td>\n",
              "      <td>-0.116799</td>\n",
              "      <td>0.012127</td>\n",
              "      <td>0.090565</td>\n",
              "      <td>-0.012347</td>\n",
              "      <td>-0.159820</td>\n",
              "      <td>-0.066846</td>\n",
              "    </tr>\n",
              "    <tr>\n",
              "      <th>18162</th>\n",
              "      <td>-0.215949</td>\n",
              "      <td>0.276299</td>\n",
              "      <td>-0.063673</td>\n",
              "      <td>-0.081093</td>\n",
              "      <td>0.109579</td>\n",
              "      <td>-0.254964</td>\n",
              "      <td>0.326560</td>\n",
              "      <td>-0.403375</td>\n",
              "      <td>0.059703</td>\n",
              "      <td>-0.071088</td>\n",
              "      <td>0.176514</td>\n",
              "      <td>0.187138</td>\n",
              "      <td>-1.594836</td>\n",
              "      <td>0.096895</td>\n",
              "      <td>0.039772</td>\n",
              "      <td>0.060045</td>\n",
              "      <td>0.172573</td>\n",
              "      <td>-0.128602</td>\n",
              "      <td>0.081719</td>\n",
              "      <td>-0.102285</td>\n",
              "      <td>-0.036974</td>\n",
              "      <td>0.163457</td>\n",
              "      <td>-0.324558</td>\n",
              "      <td>-0.501477</td>\n",
              "      <td>-0.139040</td>\n",
              "    </tr>\n",
              "  </tbody>\n",
              "</table>\n",
              "<p>18163 rows × 25 columns</p>\n",
              "</div>\n",
              "      <button class=\"colab-df-convert\" onclick=\"convertToInteractive('df-d678a658-965c-4a9c-8634-aa8fdb973247')\"\n",
              "              title=\"Convert this dataframe to an interactive table.\"\n",
              "              style=\"display:none;\">\n",
              "        \n",
              "  <svg xmlns=\"http://www.w3.org/2000/svg\" height=\"24px\"viewBox=\"0 0 24 24\"\n",
              "       width=\"24px\">\n",
              "    <path d=\"M0 0h24v24H0V0z\" fill=\"none\"/>\n",
              "    <path d=\"M18.56 5.44l.94 2.06.94-2.06 2.06-.94-2.06-.94-.94-2.06-.94 2.06-2.06.94zm-11 1L8.5 8.5l.94-2.06 2.06-.94-2.06-.94L8.5 2.5l-.94 2.06-2.06.94zm10 10l.94 2.06.94-2.06 2.06-.94-2.06-.94-.94-2.06-.94 2.06-2.06.94z\"/><path d=\"M17.41 7.96l-1.37-1.37c-.4-.4-.92-.59-1.43-.59-.52 0-1.04.2-1.43.59L10.3 9.45l-7.72 7.72c-.78.78-.78 2.05 0 2.83L4 21.41c.39.39.9.59 1.41.59.51 0 1.02-.2 1.41-.59l7.78-7.78 2.81-2.81c.8-.78.8-2.07 0-2.86zM5.41 20L4 18.59l7.72-7.72 1.47 1.35L5.41 20z\"/>\n",
              "  </svg>\n",
              "      </button>\n",
              "      \n",
              "  <style>\n",
              "    .colab-df-container {\n",
              "      display:flex;\n",
              "      flex-wrap:wrap;\n",
              "      gap: 12px;\n",
              "    }\n",
              "\n",
              "    .colab-df-convert {\n",
              "      background-color: #E8F0FE;\n",
              "      border: none;\n",
              "      border-radius: 50%;\n",
              "      cursor: pointer;\n",
              "      display: none;\n",
              "      fill: #1967D2;\n",
              "      height: 32px;\n",
              "      padding: 0 0 0 0;\n",
              "      width: 32px;\n",
              "    }\n",
              "\n",
              "    .colab-df-convert:hover {\n",
              "      background-color: #E2EBFA;\n",
              "      box-shadow: 0px 1px 2px rgba(60, 64, 67, 0.3), 0px 1px 3px 1px rgba(60, 64, 67, 0.15);\n",
              "      fill: #174EA6;\n",
              "    }\n",
              "\n",
              "    [theme=dark] .colab-df-convert {\n",
              "      background-color: #3B4455;\n",
              "      fill: #D2E3FC;\n",
              "    }\n",
              "\n",
              "    [theme=dark] .colab-df-convert:hover {\n",
              "      background-color: #434B5C;\n",
              "      box-shadow: 0px 1px 3px 1px rgba(0, 0, 0, 0.15);\n",
              "      filter: drop-shadow(0px 1px 2px rgba(0, 0, 0, 0.3));\n",
              "      fill: #FFFFFF;\n",
              "    }\n",
              "  </style>\n",
              "\n",
              "      <script>\n",
              "        const buttonEl =\n",
              "          document.querySelector('#df-d678a658-965c-4a9c-8634-aa8fdb973247 button.colab-df-convert');\n",
              "        buttonEl.style.display =\n",
              "          google.colab.kernel.accessAllowed ? 'block' : 'none';\n",
              "\n",
              "        async function convertToInteractive(key) {\n",
              "          const element = document.querySelector('#df-d678a658-965c-4a9c-8634-aa8fdb973247');\n",
              "          const dataTable =\n",
              "            await google.colab.kernel.invokeFunction('convertToInteractive',\n",
              "                                                     [key], {});\n",
              "          if (!dataTable) return;\n",
              "\n",
              "          const docLinkHtml = 'Like what you see? Visit the ' +\n",
              "            '<a target=\"_blank\" href=https://colab.research.google.com/notebooks/data_table.ipynb>data table notebook</a>'\n",
              "            + ' to learn more about interactive tables.';\n",
              "          element.innerHTML = '';\n",
              "          dataTable['output_type'] = 'display_data';\n",
              "          await google.colab.output.renderOutput(dataTable, element);\n",
              "          const docLink = document.createElement('div');\n",
              "          docLink.innerHTML = docLinkHtml;\n",
              "          element.appendChild(docLink);\n",
              "        }\n",
              "      </script>\n",
              "    </div>\n",
              "  </div>\n",
              "  "
            ],
            "text/plain": [
              "             0         1         2   ...        22        23        24\n",
              "0     -0.074209  0.174633 -0.018545  ...  0.154567  0.132431  0.081430\n",
              "1     -0.096885  0.198095 -0.036882  ... -0.018892  0.075888 -0.009154\n",
              "2     -0.040021  0.258818 -0.079311  ...  0.077036 -0.134057 -0.034076\n",
              "3      0.035770  0.332920 -0.080705  ... -0.090725 -0.291199 -0.178715\n",
              "4      0.010700  0.106362 -0.045609  ... -0.022403 -0.270810 -0.051687\n",
              "...         ...       ...       ...  ...       ...       ...       ...\n",
              "18158  0.068196  0.232128  0.084904  ...  0.130804 -0.048743 -0.079874\n",
              "18159  0.135183  0.103666 -0.183617  ...  0.016166 -0.096209 -0.205875\n",
              "18160  0.012991  0.094557  0.045770  ...  0.016030 -0.094016 -0.049905\n",
              "18161 -0.094936  0.232104 -0.101476  ... -0.012347 -0.159820 -0.066846\n",
              "18162 -0.215949  0.276299 -0.063673  ... -0.324558 -0.501477 -0.139040\n",
              "\n",
              "[18163 rows x 25 columns]"
            ]
          },
          "execution_count": 699,
          "metadata": {},
          "output_type": "execute_result"
        }
      ],
      "source": [
        "df = pd.DataFrame.from_dict(vocab, orient='index')\n",
        "#df = df.transpose()\n",
        "df"
      ]
    },
    {
      "cell_type": "code",
      "execution_count": 700,
      "metadata": {
        "id": "jKSYQD9YMcHd"
      },
      "outputs": [],
      "source": [
        "train = df.iloc[:train_df.shape[0], :]\n",
        "dev = df.iloc[train_df.shape[0]:, :]\n",
        "\n",
        "x = torch.tensor(df.values, dtype=torch.float)\n",
        "y = torch.tensor(total_df['label'].values)\n",
        "\n",
        "x_train = torch.tensor(train.values, dtype=torch.float)\n",
        "y_train = torch.tensor(train_df['label'].values)\n",
        "\n",
        "x_dev = torch.tensor(dev.values, dtype=torch.float)\n",
        "y_dev = torch.tensor(dev_df['label'].values)\n",
        "\n",
        "# Initialize dataloaders\n",
        "train_dataset = TensorDataset(x_train, y_train)\n",
        "train_dataloader = DataLoader(train_dataset, batch_size=64, shuffle=True)\n",
        "\n",
        "dev_dataset = TensorDataset(x_dev, y_dev)\n",
        "dev_dataloader = DataLoader(dev_dataset, batch_size=64, shuffle=True)"
      ]
    },
    {
      "cell_type": "markdown",
      "metadata": {
        "id": "pBYKnos9o6qR"
      },
      "source": [
        "## Model"
      ]
    },
    {
      "cell_type": "code",
      "execution_count": 701,
      "metadata": {
        "id": "AkBnnj16ZTC5"
      },
      "outputs": [],
      "source": [
        "class Net(nn.Module):\n",
        "    def __init__(self, D_in, H1, H2, D_out):\n",
        "        super(Net, self).__init__()\n",
        "        self.linear1 = nn.Linear(D_in, H1)\n",
        "        self.batchnorm1 = nn.BatchNorm1d(H1)\n",
        "        self.relu = nn.ReLU()\n",
        "        self.linear2 = nn.Linear(H1, H2)\n",
        "        self.sigmoid = nn.Sigmoid()\n",
        "        self.linear3 = nn.Linear(H2, D_out)\n",
        "        \n",
        "        #self.batchnorm2 = nn.BatchNorm1d(H2)\n",
        "        #self.batchnorm3 = nn.BatchNorm1d(D_out)\n",
        "        #self.linear4 = nn.Linear(H3, D_out)\n",
        "        #self.linear5 = nn.Linear(H4, D_out)\n",
        "        #self.dropout = nn.Dropout(p=0.2)\n",
        "        #self.softmax = nn.Softmax(dim=1)\n",
        "        #self.logsoftmax = nn.LogSoftmax()\n",
        "        #self.softmin = nn.Softmin()\n",
        "        \n",
        "    def forward(self, x):\n",
        "        out = self.linear1(x)\n",
        "        out = self.batchnorm1(out)\n",
        "        out = self.relu(out)\n",
        "        #out = self.dropout(out)\n",
        "        out = self.linear2(out)\n",
        "        out = self.sigmoid(out)\n",
        "        #out = self.dropout(out)\n",
        "        out = self.linear3(out)\n",
        "\n",
        "        # out = self.relu(out)\n",
        "        # out = self.linear4(out)\n",
        "        #out = self.batchnorm3(out)\n",
        "        #out = self.relu(out)\n",
        "        #out = self.batchnorm2(out)\n",
        "        #out = self.relu(out)    \n",
        "        #out = self.softmax(out)\n",
        "        #out = self.softmin(out)\n",
        "        return out"
      ]
    },
    {
      "cell_type": "code",
      "execution_count": 702,
      "metadata": {
        "id": "ZW7kkrK-ZZ3e"
      },
      "outputs": [],
      "source": [
        "#Define layer sizes\n",
        "D_in = x.shape[1]\n",
        "H1 = 64\n",
        "H2 = 32\n",
        "D_out = 3\n",
        "\n",
        "#Define Hyperparameters\n",
        "learning_rate = 1e-4\n",
        "\n",
        "#Initialize model, optimizer\n",
        "model = Net(D_in, H1, H2, D_out)\n",
        "criterion = nn.CrossEntropyLoss()\n",
        "optimizer = optim.Adam(model.parameters(), lr=learning_rate)\n",
        "#optimizer = optim.SGD(model.parameters(), lr=learning_rate, momentum=0.2, weight_decay=0.01)\n",
        "#optimizer = optim.Adagrad(model.parameters(), lr=learning_rate)"
      ]
    },
    {
      "cell_type": "code",
      "execution_count": 703,
      "metadata": {
        "colab": {
          "base_uri": "https://localhost:8080/"
        },
        "id": "VvAyCpStZ3j1",
        "outputId": "fccada35-0102-42b3-f0c8-7ea1878d5a58"
      },
      "outputs": [
        {
          "data": {
            "text/plain": [
              "Net(\n",
              "  (linear1): Linear(in_features=25, out_features=64, bias=True)\n",
              "  (batchnorm1): BatchNorm1d(64, eps=1e-05, momentum=0.1, affine=True, track_running_stats=True)\n",
              "  (relu): ReLU()\n",
              "  (linear2): Linear(in_features=64, out_features=32, bias=True)\n",
              "  (sigmoid): Sigmoid()\n",
              "  (linear3): Linear(in_features=32, out_features=3, bias=True)\n",
              ")"
            ]
          },
          "execution_count": 703,
          "metadata": {},
          "output_type": "execute_result"
        }
      ],
      "source": [
        "model"
      ]
    },
    {
      "cell_type": "code",
      "execution_count": 704,
      "metadata": {
        "colab": {
          "base_uri": "https://localhost:8080/"
        },
        "id": "vtP2ZPiMZ5-A",
        "outputId": "4ce3dcf6-c217-4e26-88be-679acd0e9a84"
      },
      "outputs": [
        {
          "name": "stdout",
          "output_type": "stream",
          "text": [
            "Epoch   0: | Train Loss = 1.04129 | Train Accuracy = 0.45772 | Validation Loss = 0.98827 | Validation Accuracy = 0.54119 \n",
            "Epoch   1: | Train Loss = 0.96499 | Train Accuracy = 0.55230 | Validation Loss = 0.94382 | Validation Accuracy = 0.56442 \n",
            "Epoch   2: | Train Loss = 0.93312 | Train Accuracy = 0.56898 | Validation Loss = 0.91702 | Validation Accuracy = 0.58282 \n",
            "Epoch   3: | Train Loss = 0.90973 | Train Accuracy = 0.58183 | Validation Loss = 0.89897 | Validation Accuracy = 0.59378 \n",
            "Epoch   4: | Train Loss = 0.89113 | Train Accuracy = 0.59341 | Validation Loss = 0.87897 | Validation Accuracy = 0.59465 \n",
            "Epoch   5: | Train Loss = 0.87481 | Train Accuracy = 0.59820 | Validation Loss = 0.86704 | Validation Accuracy = 0.60473 \n",
            "Epoch   6: | Train Loss = 0.86499 | Train Accuracy = 0.60588 | Validation Loss = 0.85483 | Validation Accuracy = 0.61043 \n",
            "Epoch   7: | Train Loss = 0.85676 | Train Accuracy = 0.60720 | Validation Loss = 0.84690 | Validation Accuracy = 0.60649 \n",
            "Epoch   8: | Train Loss = 0.85012 | Train Accuracy = 0.60985 | Validation Loss = 0.83899 | Validation Accuracy = 0.61087 \n",
            "Epoch   9: | Train Loss = 0.84406 | Train Accuracy = 0.61123 | Validation Loss = 0.83513 | Validation Accuracy = 0.61394 \n",
            "Epoch  10: | Train Loss = 0.83933 | Train Accuracy = 0.61577 | Validation Loss = 0.83082 | Validation Accuracy = 0.61437 \n",
            "Epoch  11: | Train Loss = 0.83496 | Train Accuracy = 0.61677 | Validation Loss = 0.82539 | Validation Accuracy = 0.61525 \n",
            "Epoch  12: | Train Loss = 0.83108 | Train Accuracy = 0.61703 | Validation Loss = 0.82180 | Validation Accuracy = 0.61613 \n",
            "Epoch  13: | Train Loss = 0.82878 | Train Accuracy = 0.61923 | Validation Loss = 0.81803 | Validation Accuracy = 0.61437 \n",
            "Epoch  14: | Train Loss = 0.82393 | Train Accuracy = 0.62005 | Validation Loss = 0.81593 | Validation Accuracy = 0.62138 \n",
            "Epoch  15: | Train Loss = 0.82408 | Train Accuracy = 0.62131 | Validation Loss = 0.81585 | Validation Accuracy = 0.61656 \n",
            "Epoch  16: | Train Loss = 0.82104 | Train Accuracy = 0.62414 | Validation Loss = 0.81027 | Validation Accuracy = 0.62051 \n",
            "Epoch  17: | Train Loss = 0.81703 | Train Accuracy = 0.62502 | Validation Loss = 0.80932 | Validation Accuracy = 0.61700 \n",
            "Epoch  18: | Train Loss = 0.81447 | Train Accuracy = 0.62364 | Validation Loss = 0.80751 | Validation Accuracy = 0.62533 \n",
            "Epoch  19: | Train Loss = 0.81139 | Train Accuracy = 0.62609 | Validation Loss = 0.80576 | Validation Accuracy = 0.62752 \n",
            "Epoch  20: | Train Loss = 0.81097 | Train Accuracy = 0.62452 | Validation Loss = 0.80294 | Validation Accuracy = 0.62664 \n",
            "Epoch  21: | Train Loss = 0.80828 | Train Accuracy = 0.62471 | Validation Loss = 0.80222 | Validation Accuracy = 0.62533 \n",
            "Epoch  22: | Train Loss = 0.80870 | Train Accuracy = 0.62698 | Validation Loss = 0.80125 | Validation Accuracy = 0.62927 \n",
            "Epoch  23: | Train Loss = 0.80673 | Train Accuracy = 0.62691 | Validation Loss = 0.80332 | Validation Accuracy = 0.62621 \n",
            "Epoch  24: | Train Loss = 0.80561 | Train Accuracy = 0.62666 | Validation Loss = 0.79907 | Validation Accuracy = 0.62445 \n",
            "Epoch  25: | Train Loss = 0.80250 | Train Accuracy = 0.62956 | Validation Loss = 0.79811 | Validation Accuracy = 0.62489 \n",
            "Epoch  26: | Train Loss = 0.80126 | Train Accuracy = 0.63119 | Validation Loss = 0.79940 | Validation Accuracy = 0.62401 \n",
            "Epoch  27: | Train Loss = 0.80209 | Train Accuracy = 0.63346 | Validation Loss = 0.79713 | Validation Accuracy = 0.62533 \n",
            "Epoch  28: | Train Loss = 0.80271 | Train Accuracy = 0.63012 | Validation Loss = 0.79571 | Validation Accuracy = 0.62883 \n",
            "Epoch  29: | Train Loss = 0.80212 | Train Accuracy = 0.62836 | Validation Loss = 0.79779 | Validation Accuracy = 0.62927 \n",
            "Epoch  30: | Train Loss = 0.79792 | Train Accuracy = 0.63038 | Validation Loss = 0.79397 | Validation Accuracy = 0.62927 \n",
            "Epoch  31: | Train Loss = 0.79589 | Train Accuracy = 0.63699 | Validation Loss = 0.79417 | Validation Accuracy = 0.62927 \n",
            "Epoch  32: | Train Loss = 0.79922 | Train Accuracy = 0.63296 | Validation Loss = 0.79067 | Validation Accuracy = 0.62840 \n",
            "Epoch  33: | Train Loss = 0.79519 | Train Accuracy = 0.63441 | Validation Loss = 0.79096 | Validation Accuracy = 0.63015 \n",
            "Epoch  34: | Train Loss = 0.79431 | Train Accuracy = 0.63459 | Validation Loss = 0.79464 | Validation Accuracy = 0.62621 \n",
            "Epoch  35: | Train Loss = 0.79240 | Train Accuracy = 0.63655 | Validation Loss = 0.79134 | Validation Accuracy = 0.63146 \n",
            "Epoch  36: | Train Loss = 0.79132 | Train Accuracy = 0.63554 | Validation Loss = 0.79126 | Validation Accuracy = 0.63322 \n",
            "Epoch  37: | Train Loss = 0.79196 | Train Accuracy = 0.63724 | Validation Loss = 0.79150 | Validation Accuracy = 0.63190 \n",
            "Epoch  38: | Train Loss = 0.79071 | Train Accuracy = 0.63768 | Validation Loss = 0.78888 | Validation Accuracy = 0.63146 \n",
            "Epoch  39: | Train Loss = 0.78766 | Train Accuracy = 0.63856 | Validation Loss = 0.78776 | Validation Accuracy = 0.63146 \n",
            "Epoch  40: | Train Loss = 0.78928 | Train Accuracy = 0.63768 | Validation Loss = 0.78995 | Validation Accuracy = 0.63365 \n",
            "Epoch  41: | Train Loss = 0.78856 | Train Accuracy = 0.63774 | Validation Loss = 0.78641 | Validation Accuracy = 0.63541 \n",
            "Epoch  42: | Train Loss = 0.78767 | Train Accuracy = 0.63629 | Validation Loss = 0.78712 | Validation Accuracy = 0.63497 \n",
            "Epoch  43: | Train Loss = 0.78761 | Train Accuracy = 0.63774 | Validation Loss = 0.78766 | Validation Accuracy = 0.63628 \n",
            "Epoch  44: | Train Loss = 0.78485 | Train Accuracy = 0.64045 | Validation Loss = 0.78739 | Validation Accuracy = 0.63585 \n",
            "Epoch  45: | Train Loss = 0.78485 | Train Accuracy = 0.63680 | Validation Loss = 0.78623 | Validation Accuracy = 0.63628 \n",
            "Epoch  46: | Train Loss = 0.78501 | Train Accuracy = 0.64322 | Validation Loss = 0.78454 | Validation Accuracy = 0.63453 \n",
            "Epoch  47: | Train Loss = 0.78288 | Train Accuracy = 0.64032 | Validation Loss = 0.78536 | Validation Accuracy = 0.63409 \n",
            "Epoch  48: | Train Loss = 0.78216 | Train Accuracy = 0.64328 | Validation Loss = 0.78274 | Validation Accuracy = 0.63716 \n",
            "Epoch  49: | Train Loss = 0.78485 | Train Accuracy = 0.64158 | Validation Loss = 0.78191 | Validation Accuracy = 0.63628 \n",
            "Epoch  50: | Train Loss = 0.78103 | Train Accuracy = 0.64215 | Validation Loss = 0.78230 | Validation Accuracy = 0.63935 \n",
            "Epoch  51: | Train Loss = 0.78076 | Train Accuracy = 0.64058 | Validation Loss = 0.78315 | Validation Accuracy = 0.63541 \n",
            "Epoch  52: | Train Loss = 0.77795 | Train Accuracy = 0.64140 | Validation Loss = 0.78497 | Validation Accuracy = 0.63891 \n",
            "Epoch  53: | Train Loss = 0.77880 | Train Accuracy = 0.64272 | Validation Loss = 0.78256 | Validation Accuracy = 0.64198 \n",
            "Epoch  54: | Train Loss = 0.77804 | Train Accuracy = 0.64196 | Validation Loss = 0.78354 | Validation Accuracy = 0.63716 \n",
            "Epoch  55: | Train Loss = 0.77704 | Train Accuracy = 0.64221 | Validation Loss = 0.77879 | Validation Accuracy = 0.63585 \n",
            "Epoch  56: | Train Loss = 0.77782 | Train Accuracy = 0.64549 | Validation Loss = 0.78089 | Validation Accuracy = 0.63541 \n",
            "Epoch  57: | Train Loss = 0.77487 | Train Accuracy = 0.64524 | Validation Loss = 0.78070 | Validation Accuracy = 0.63979 \n",
            "Epoch  58: | Train Loss = 0.77711 | Train Accuracy = 0.64435 | Validation Loss = 0.77855 | Validation Accuracy = 0.64154 \n",
            "Epoch  59: | Train Loss = 0.77537 | Train Accuracy = 0.64668 | Validation Loss = 0.77997 | Validation Accuracy = 0.64023 \n",
            "Epoch  60: | Train Loss = 0.77483 | Train Accuracy = 0.64549 | Validation Loss = 0.78196 | Validation Accuracy = 0.64373 \n",
            "Epoch  61: | Train Loss = 0.77584 | Train Accuracy = 0.64643 | Validation Loss = 0.78073 | Validation Accuracy = 0.63103 \n",
            "Epoch  62: | Train Loss = 0.77432 | Train Accuracy = 0.64694 | Validation Loss = 0.77953 | Validation Accuracy = 0.63672 \n",
            "Epoch  63: | Train Loss = 0.77640 | Train Accuracy = 0.64631 | Validation Loss = 0.77881 | Validation Accuracy = 0.64110 \n",
            "Epoch  64: | Train Loss = 0.77422 | Train Accuracy = 0.64498 | Validation Loss = 0.77594 | Validation Accuracy = 0.64154 \n",
            "Epoch  65: | Train Loss = 0.77184 | Train Accuracy = 0.64807 | Validation Loss = 0.77641 | Validation Accuracy = 0.64286 \n",
            "Epoch  66: | Train Loss = 0.77170 | Train Accuracy = 0.64612 | Validation Loss = 0.77700 | Validation Accuracy = 0.64110 \n",
            "Epoch  67: | Train Loss = 0.77071 | Train Accuracy = 0.64990 | Validation Loss = 0.77854 | Validation Accuracy = 0.64154 \n",
            "Epoch  68: | Train Loss = 0.77065 | Train Accuracy = 0.64901 | Validation Loss = 0.77509 | Validation Accuracy = 0.63935 \n",
            "Epoch  69: | Train Loss = 0.76984 | Train Accuracy = 0.64769 | Validation Loss = 0.77648 | Validation Accuracy = 0.63979 \n",
            "Epoch  70: | Train Loss = 0.77019 | Train Accuracy = 0.64801 | Validation Loss = 0.77641 | Validation Accuracy = 0.64198 \n",
            "Epoch  71: | Train Loss = 0.76991 | Train Accuracy = 0.64801 | Validation Loss = 0.77595 | Validation Accuracy = 0.64198 \n",
            "Epoch  72: | Train Loss = 0.76880 | Train Accuracy = 0.64983 | Validation Loss = 0.77481 | Validation Accuracy = 0.64154 \n",
            "Epoch  73: | Train Loss = 0.76961 | Train Accuracy = 0.65141 | Validation Loss = 0.77554 | Validation Accuracy = 0.63804 \n",
            "Epoch  74: | Train Loss = 0.76902 | Train Accuracy = 0.64826 | Validation Loss = 0.77645 | Validation Accuracy = 0.64373 \n",
            "Epoch  75: | Train Loss = 0.76788 | Train Accuracy = 0.65040 | Validation Loss = 0.77554 | Validation Accuracy = 0.64023 \n",
            "Epoch  76: | Train Loss = 0.76777 | Train Accuracy = 0.65405 | Validation Loss = 0.77602 | Validation Accuracy = 0.63935 \n",
            "Epoch  77: | Train Loss = 0.76660 | Train Accuracy = 0.64895 | Validation Loss = 0.77521 | Validation Accuracy = 0.64110 \n",
            "Epoch  78: | Train Loss = 0.76625 | Train Accuracy = 0.65197 | Validation Loss = 0.77602 | Validation Accuracy = 0.63628 \n",
            "Epoch  79: | Train Loss = 0.76599 | Train Accuracy = 0.65273 | Validation Loss = 0.77539 | Validation Accuracy = 0.63979 \n",
            "Epoch  80: | Train Loss = 0.76842 | Train Accuracy = 0.64971 | Validation Loss = 0.77476 | Validation Accuracy = 0.63891 \n",
            "Epoch  81: | Train Loss = 0.76411 | Train Accuracy = 0.65122 | Validation Loss = 0.77513 | Validation Accuracy = 0.63979 \n",
            "Epoch  82: | Train Loss = 0.76490 | Train Accuracy = 0.65374 | Validation Loss = 0.77628 | Validation Accuracy = 0.63541 \n",
            "Epoch  83: | Train Loss = 0.76403 | Train Accuracy = 0.65172 | Validation Loss = 0.77351 | Validation Accuracy = 0.63628 \n",
            "Epoch  84: | Train Loss = 0.76545 | Train Accuracy = 0.65399 | Validation Loss = 0.77138 | Validation Accuracy = 0.64242 \n",
            "Epoch  85: | Train Loss = 0.76439 | Train Accuracy = 0.65374 | Validation Loss = 0.77418 | Validation Accuracy = 0.64549 \n",
            "Epoch  86: | Train Loss = 0.76660 | Train Accuracy = 0.65109 | Validation Loss = 0.76991 | Validation Accuracy = 0.64154 \n",
            "Epoch  87: | Train Loss = 0.76405 | Train Accuracy = 0.65147 | Validation Loss = 0.77245 | Validation Accuracy = 0.64110 \n",
            "Epoch  88: | Train Loss = 0.76586 | Train Accuracy = 0.65317 | Validation Loss = 0.77462 | Validation Accuracy = 0.63848 \n",
            "Epoch  89: | Train Loss = 0.76195 | Train Accuracy = 0.65380 | Validation Loss = 0.77269 | Validation Accuracy = 0.64198 \n",
            "Epoch  90: | Train Loss = 0.76246 | Train Accuracy = 0.65254 | Validation Loss = 0.77353 | Validation Accuracy = 0.63848 \n",
            "Epoch  91: | Train Loss = 0.76315 | Train Accuracy = 0.65223 | Validation Loss = 0.77235 | Validation Accuracy = 0.64067 \n",
            "Epoch  92: | Train Loss = 0.76247 | Train Accuracy = 0.65519 | Validation Loss = 0.77373 | Validation Accuracy = 0.63891 \n",
            "Epoch  93: | Train Loss = 0.76058 | Train Accuracy = 0.65355 | Validation Loss = 0.77233 | Validation Accuracy = 0.64286 \n",
            "Epoch  94: | Train Loss = 0.76082 | Train Accuracy = 0.65342 | Validation Loss = 0.77436 | Validation Accuracy = 0.64198 \n",
            "Epoch  95: | Train Loss = 0.75926 | Train Accuracy = 0.65537 | Validation Loss = 0.77226 | Validation Accuracy = 0.64286 \n",
            "Epoch  96: | Train Loss = 0.76041 | Train Accuracy = 0.65600 | Validation Loss = 0.77123 | Validation Accuracy = 0.64023 \n",
            "Epoch  97: | Train Loss = 0.76051 | Train Accuracy = 0.65355 | Validation Loss = 0.77103 | Validation Accuracy = 0.64023 \n",
            "Epoch  98: | Train Loss = 0.75919 | Train Accuracy = 0.65462 | Validation Loss = 0.77160 | Validation Accuracy = 0.64242 \n",
            "Epoch  99: | Train Loss = 0.75953 | Train Accuracy = 0.65563 | Validation Loss = 0.77120 | Validation Accuracy = 0.64154 \n"
          ]
        }
      ],
      "source": [
        "epoch_loss = []\n",
        "epoch_loss_dev = []\n",
        "epoch_acc = []\n",
        "epoch_acc_dev = []\n",
        "\n",
        "for epoch in range(100):\n",
        "\n",
        "  batch_losses = []\n",
        "  batch_acc = 0\n",
        "  total = 0\n",
        "  total_dev = 0\n",
        "  loss = 0\n",
        "  pred_proba = []\n",
        "\n",
        "  # training\n",
        "  model.train()\n",
        "  for x_batch, y_batch in train_dataloader:  # for every batch\n",
        "    y_pred = model(x_batch).squeeze(1)\n",
        "    loss = criterion(y_pred, y_batch)\n",
        "    batch_losses.append(loss)\n",
        "    #Delete previously stored gradients\n",
        "    optimizer.zero_grad()\n",
        "    #Perform backpropagation starting from the loss calculated in this epoch\n",
        "    loss.backward()\n",
        "    #Update model's weights based on the gradients calculated during backprop\n",
        "    optimizer.step()\n",
        "\n",
        "    # Total number of labels\n",
        "    total += y_batch.size(0)\n",
        "    # Total correct predictions\n",
        "    _,pred_label = torch.max(y_pred, dim = 1)\n",
        "    batch_acc += (pred_label == y_batch).sum()\n",
        "\n",
        "  # validation    \n",
        "  with torch.no_grad():\n",
        "    batch_losses_dev = []\n",
        "    batch_acc_dev = 0\n",
        "    model.eval()\n",
        "    for x_batch, y_batch in dev_dataloader:\n",
        "        y_dev_pred = model(x_batch).squeeze(1)\n",
        "        prob = F.softmax(y_dev_pred, dim=1)   # probability that an instance belogs to each class\n",
        "        #print(prob.shape)\n",
        "        for i in prob:\n",
        "          pred_proba.append(i.tolist())\n",
        "        loss_dev = criterion(y_dev_pred, y_batch)\n",
        "        batch_losses_dev.append(loss_dev)\n",
        "        # number of labels\n",
        "        total_dev += y_batch.size(0)\n",
        "        # correct predictions\n",
        "        _,pred_label = torch.max(y_dev_pred, dim = 1)  # get max probability\n",
        "        batch_acc_dev += (pred_label == y_batch).sum()\n",
        "\n",
        "\n",
        "  accuracy = batch_acc/total\n",
        "  accuracy_dev = batch_acc_dev/total_dev\n",
        "\n",
        "  train_loss = sum(batch_losses)/len(train_dataloader)\n",
        "  valid_loss = sum(batch_losses_dev)/len(dev_dataloader)\n",
        "\n",
        "  epoch_loss.append(train_loss)\n",
        "  epoch_loss_dev.append(valid_loss)\n",
        "  epoch_acc.append(accuracy)\n",
        "  epoch_acc_dev.append(accuracy_dev)\n",
        "\n",
        "  print(f\"Epoch {epoch:3}: | Train Loss = {train_loss:.5f} | Train Accuracy = {accuracy:.5f} | Validation Loss = {valid_loss:.5f} | Validation Accuracy = {accuracy_dev:.5f} \")"
      ]
    },
    {
      "cell_type": "markdown",
      "metadata": {
        "id": "uHPPRYbdkTLJ"
      },
      "source": [
        "### Evaluation"
      ]
    },
    {
      "cell_type": "code",
      "execution_count": 705,
      "metadata": {
        "colab": {
          "base_uri": "https://localhost:8080/"
        },
        "id": "_VhYsUjBKHGV",
        "outputId": "c5524ba8-5b93-48a3-b785-e2f3fe1d2fe7"
      },
      "outputs": [
        {
          "name": "stdout",
          "output_type": "stream",
          "text": [
            "Test loss after Training 0.772049069404602\n"
          ]
        }
      ],
      "source": [
        "model.eval()\n",
        "true = y_dev\n",
        "pred = model(x_dev).squeeze(1)\n",
        "after_train = criterion(pred, true) \n",
        "print('Test loss after Training' , after_train.item())"
      ]
    },
    {
      "cell_type": "code",
      "execution_count": 706,
      "metadata": {
        "id": "ax-feOgBT2GE"
      },
      "outputs": [],
      "source": [
        "_,pred_label = torch.max(pred, dim = 1)"
      ]
    },
    {
      "cell_type": "code",
      "execution_count": 707,
      "metadata": {
        "colab": {
          "base_uri": "https://localhost:8080/",
          "height": 279
        },
        "id": "xyaNtxfgn2fj",
        "outputId": "c9b0e9d4-cd6e-4e67-9860-c9b9426fb613"
      },
      "outputs": [
        {
          "data": {
            "image/png": "[encoded data removed]",
            "text/plain": [
              "<Figure size 432x288 with 2 Axes>"
            ]
          },
          "metadata": {
            "needs_background": "light"
          },
          "output_type": "display_data"
        }
      ],
      "source": [
        "target_names = ['neutral', 'anti-vax', 'pro-vax']\n",
        "df = pd.DataFrame({'true':true.numpy()})\n",
        "df2 = pd.DataFrame({'pred':pred_label.numpy()})\n",
        "cm = confusion_matrix(true.numpy(), pred_label.numpy())\n",
        "disp = ConfusionMatrixDisplay(confusion_matrix=cm, display_labels=target_names)\n",
        "disp.plot()\n",
        "plt.show()"
      ]
    },
    {
      "cell_type": "code",
      "execution_count": 708,
      "metadata": {
        "colab": {
          "base_uri": "https://localhost:8080/"
        },
        "id": "7pR4Ze3Mn9lj",
        "outputId": "5938ea48-2170-4a91-f5a2-5be3894c3da7"
      },
      "outputs": [
        {
          "name": "stdout",
          "output_type": "stream",
          "text": [
            "Precision-Recall-F1 - Test Data :\n",
            "(0.6415425065731815, 0.6415425065731815, 0.6415425065731815, None)\n",
            "\n"
          ]
        }
      ],
      "source": [
        "print(\"Precision-Recall-F1 - Test Data :\")\n",
        "print(precision_recall_fscore_support(true.numpy(), pred_label.numpy(), average='micro'))\n",
        "print()"
      ]
    },
    {
      "cell_type": "code",
      "execution_count": 709,
      "metadata": {
        "colab": {
          "base_uri": "https://localhost:8080/"
        },
        "id": "W4Tp1qZzn63i",
        "outputId": "55325bd1-6313-4419-d9d0-88f64f4a27d6"
      },
      "outputs": [
        {
          "name": "stdout",
          "output_type": "stream",
          "text": [
            "              precision    recall  f1-score   support\n",
            "\n",
            "           0       0.71      0.73      0.72      1065\n",
            "           1       0.47      0.19      0.27       296\n",
            "           2       0.59      0.68      0.63       921\n",
            "\n",
            "    accuracy                           0.64      2282\n",
            "   macro avg       0.59      0.54      0.54      2282\n",
            "weighted avg       0.63      0.64      0.63      2282\n",
            "\n"
          ]
        }
      ],
      "source": [
        "print(classification_report(true.numpy(), pred_label.numpy()))"
      ]
    },
    {
      "cell_type": "code",
      "execution_count": 710,
      "metadata": {
        "id": "D5OWhpS9fOpZ"
      },
      "outputs": [],
      "source": [
        "prob = F.softmax(pred, dim=1)\n",
        "pred_proba = []\n",
        "for i in prob:\n",
        "  pred_proba.append(i.tolist())"
      ]
    },
    {
      "cell_type": "code",
      "execution_count": 711,
      "metadata": {
        "colab": {
          "base_uri": "https://localhost:8080/"
        },
        "id": "AWCY94YTNCtF",
        "outputId": "fb34ea41-651c-43a0-ecfb-cc53b95c1565"
      },
      "outputs": [
        {
          "name": "stdout",
          "output_type": "stream",
          "text": [
            "One-vs-One ROC AUC scores:\n",
            "0.778982 (macro),\n",
            "0.785546 (weighted by prevalence)\n",
            "\n",
            "One-vs-Rest ROC AUC scores:\n",
            "0.793916 (macro),\n",
            "0.793266 (weighted by prevalence)\n"
          ]
        }
      ],
      "source": [
        "macro_roc_auc_ovo = roc_auc_score(true.tolist(), pred_proba, multi_class=\"ovo\", average=\"macro\")\n",
        "weighted_roc_auc_ovo = roc_auc_score(true.tolist(), pred_proba, multi_class=\"ovo\", average=\"weighted\")\n",
        "macro_roc_auc_ovr = roc_auc_score(true.tolist(), pred_proba, multi_class=\"ovr\", average=\"macro\")\n",
        "weighted_roc_auc_ovr = roc_auc_score(true.tolist(), pred_proba, multi_class=\"ovr\", average=\"weighted\")\n",
        "print(\n",
        "    \"One-vs-One ROC AUC scores:\\n{:.6f} (macro),\\n{:.6f} \"\n",
        "    \"(weighted by prevalence)\".format(macro_roc_auc_ovo, weighted_roc_auc_ovo)\n",
        ")\n",
        "print()\n",
        "print(\n",
        "    \"One-vs-Rest ROC AUC scores:\\n{:.6f} (macro),\\n{:.6f} \"\n",
        "    \"(weighted by prevalence)\".format(macro_roc_auc_ovr, weighted_roc_auc_ovr)\n",
        ")"
      ]
    },
    {
      "cell_type": "markdown",
      "metadata": {
        "id": "JucQf53RkPau"
      },
      "source": [
        "### Plots"
      ]
    },
    {
      "cell_type": "code",
      "execution_count": 712,
      "metadata": {
        "colab": {
          "base_uri": "https://localhost:8080/",
          "height": 423
        },
        "id": "UdlP0xdcU_p_",
        "outputId": "675bdb1c-9204-4f77-abd6-f13d51b807e8"
      },
      "outputs": [
        {
          "data": {
            "text/html": [
              "\n",
              "  <div id=\"df-af1272b0-5e6f-4e66-935a-51d90f4de83a\">\n",
              "    <div class=\"colab-df-container\">\n",
              "      <div>\n",
              "<style scoped>\n",
              "    .dataframe tbody tr th:only-of-type {\n",
              "        vertical-align: middle;\n",
              "    }\n",
              "\n",
              "    .dataframe tbody tr th {\n",
              "        vertical-align: top;\n",
              "    }\n",
              "\n",
              "    .dataframe thead th {\n",
              "        text-align: right;\n",
              "    }\n",
              "</style>\n",
              "<table border=\"1\" class=\"dataframe\">\n",
              "  <thead>\n",
              "    <tr style=\"text-align: right;\">\n",
              "      <th></th>\n",
              "      <th>0</th>\n",
              "      <th>1</th>\n",
              "      <th>2</th>\n",
              "    </tr>\n",
              "  </thead>\n",
              "  <tbody>\n",
              "    <tr>\n",
              "      <th>0</th>\n",
              "      <td>0.372304</td>\n",
              "      <td>0.404163</td>\n",
              "      <td>0.223533</td>\n",
              "    </tr>\n",
              "    <tr>\n",
              "      <th>1</th>\n",
              "      <td>0.504933</td>\n",
              "      <td>0.176520</td>\n",
              "      <td>0.318546</td>\n",
              "    </tr>\n",
              "    <tr>\n",
              "      <th>2</th>\n",
              "      <td>0.690295</td>\n",
              "      <td>0.054267</td>\n",
              "      <td>0.255438</td>\n",
              "    </tr>\n",
              "    <tr>\n",
              "      <th>3</th>\n",
              "      <td>0.391639</td>\n",
              "      <td>0.086329</td>\n",
              "      <td>0.522032</td>\n",
              "    </tr>\n",
              "    <tr>\n",
              "      <th>4</th>\n",
              "      <td>0.347850</td>\n",
              "      <td>0.148051</td>\n",
              "      <td>0.504098</td>\n",
              "    </tr>\n",
              "    <tr>\n",
              "      <th>...</th>\n",
              "      <td>...</td>\n",
              "      <td>...</td>\n",
              "      <td>...</td>\n",
              "    </tr>\n",
              "    <tr>\n",
              "      <th>2277</th>\n",
              "      <td>0.634147</td>\n",
              "      <td>0.054649</td>\n",
              "      <td>0.311204</td>\n",
              "    </tr>\n",
              "    <tr>\n",
              "      <th>2278</th>\n",
              "      <td>0.412039</td>\n",
              "      <td>0.283291</td>\n",
              "      <td>0.304670</td>\n",
              "    </tr>\n",
              "    <tr>\n",
              "      <th>2279</th>\n",
              "      <td>0.284376</td>\n",
              "      <td>0.072318</td>\n",
              "      <td>0.643306</td>\n",
              "    </tr>\n",
              "    <tr>\n",
              "      <th>2280</th>\n",
              "      <td>0.123067</td>\n",
              "      <td>0.040144</td>\n",
              "      <td>0.836789</td>\n",
              "    </tr>\n",
              "    <tr>\n",
              "      <th>2281</th>\n",
              "      <td>0.662156</td>\n",
              "      <td>0.047916</td>\n",
              "      <td>0.289928</td>\n",
              "    </tr>\n",
              "  </tbody>\n",
              "</table>\n",
              "<p>2282 rows × 3 columns</p>\n",
              "</div>\n",
              "      <button class=\"colab-df-convert\" onclick=\"convertToInteractive('df-af1272b0-5e6f-4e66-935a-51d90f4de83a')\"\n",
              "              title=\"Convert this dataframe to an interactive table.\"\n",
              "              style=\"display:none;\">\n",
              "        \n",
              "  <svg xmlns=\"http://www.w3.org/2000/svg\" height=\"24px\"viewBox=\"0 0 24 24\"\n",
              "       width=\"24px\">\n",
              "    <path d=\"M0 0h24v24H0V0z\" fill=\"none\"/>\n",
              "    <path d=\"M18.56 5.44l.94 2.06.94-2.06 2.06-.94-2.06-.94-.94-2.06-.94 2.06-2.06.94zm-11 1L8.5 8.5l.94-2.06 2.06-.94-2.06-.94L8.5 2.5l-.94 2.06-2.06.94zm10 10l.94 2.06.94-2.06 2.06-.94-2.06-.94-.94-2.06-.94 2.06-2.06.94z\"/><path d=\"M17.41 7.96l-1.37-1.37c-.4-.4-.92-.59-1.43-.59-.52 0-1.04.2-1.43.59L10.3 9.45l-7.72 7.72c-.78.78-.78 2.05 0 2.83L4 21.41c.39.39.9.59 1.41.59.51 0 1.02-.2 1.41-.59l7.78-7.78 2.81-2.81c.8-.78.8-2.07 0-2.86zM5.41 20L4 18.59l7.72-7.72 1.47 1.35L5.41 20z\"/>\n",
              "  </svg>\n",
              "      </button>\n",
              "      \n",
              "  <style>\n",
              "    .colab-df-container {\n",
              "      display:flex;\n",
              "      flex-wrap:wrap;\n",
              "      gap: 12px;\n",
              "    }\n",
              "\n",
              "    .colab-df-convert {\n",
              "      background-color: #E8F0FE;\n",
              "      border: none;\n",
              "      border-radius: 50%;\n",
              "      cursor: pointer;\n",
              "      display: none;\n",
              "      fill: #1967D2;\n",
              "      height: 32px;\n",
              "      padding: 0 0 0 0;\n",
              "      width: 32px;\n",
              "    }\n",
              "\n",
              "    .colab-df-convert:hover {\n",
              "      background-color: #E2EBFA;\n",
              "      box-shadow: 0px 1px 2px rgba(60, 64, 67, 0.3), 0px 1px 3px 1px rgba(60, 64, 67, 0.15);\n",
              "      fill: #174EA6;\n",
              "    }\n",
              "\n",
              "    [theme=dark] .colab-df-convert {\n",
              "      background-color: #3B4455;\n",
              "      fill: #D2E3FC;\n",
              "    }\n",
              "\n",
              "    [theme=dark] .colab-df-convert:hover {\n",
              "      background-color: #434B5C;\n",
              "      box-shadow: 0px 1px 3px 1px rgba(0, 0, 0, 0.15);\n",
              "      filter: drop-shadow(0px 1px 2px rgba(0, 0, 0, 0.3));\n",
              "      fill: #FFFFFF;\n",
              "    }\n",
              "  </style>\n",
              "\n",
              "      <script>\n",
              "        const buttonEl =\n",
              "          document.querySelector('#df-af1272b0-5e6f-4e66-935a-51d90f4de83a button.colab-df-convert');\n",
              "        buttonEl.style.display =\n",
              "          google.colab.kernel.accessAllowed ? 'block' : 'none';\n",
              "\n",
              "        async function convertToInteractive(key) {\n",
              "          const element = document.querySelector('#df-af1272b0-5e6f-4e66-935a-51d90f4de83a');\n",
              "          const dataTable =\n",
              "            await google.colab.kernel.invokeFunction('convertToInteractive',\n",
              "                                                     [key], {});\n",
              "          if (!dataTable) return;\n",
              "\n",
              "          const docLinkHtml = 'Like what you see? Visit the ' +\n",
              "            '<a target=\"_blank\" href=https://colab.research.google.com/notebooks/data_table.ipynb>data table notebook</a>'\n",
              "            + ' to learn more about interactive tables.';\n",
              "          element.innerHTML = '';\n",
              "          dataTable['output_type'] = 'display_data';\n",
              "          await google.colab.output.renderOutput(dataTable, element);\n",
              "          const docLink = document.createElement('div');\n",
              "          docLink.innerHTML = docLinkHtml;\n",
              "          element.appendChild(docLink);\n",
              "        }\n",
              "      </script>\n",
              "    </div>\n",
              "  </div>\n",
              "  "
            ],
            "text/plain": [
              "             0         1         2\n",
              "0     0.372304  0.404163  0.223533\n",
              "1     0.504933  0.176520  0.318546\n",
              "2     0.690295  0.054267  0.255438\n",
              "3     0.391639  0.086329  0.522032\n",
              "4     0.347850  0.148051  0.504098\n",
              "...        ...       ...       ...\n",
              "2277  0.634147  0.054649  0.311204\n",
              "2278  0.412039  0.283291  0.304670\n",
              "2279  0.284376  0.072318  0.643306\n",
              "2280  0.123067  0.040144  0.836789\n",
              "2281  0.662156  0.047916  0.289928\n",
              "\n",
              "[2282 rows x 3 columns]"
            ]
          },
          "execution_count": 712,
          "metadata": {},
          "output_type": "execute_result"
        }
      ],
      "source": [
        "# probabilities\n",
        "df_prob = pd.DataFrame(pred_proba)\n",
        "df_prob"
      ]
    },
    {
      "cell_type": "code",
      "execution_count": 713,
      "metadata": {
        "colab": {
          "base_uri": "https://localhost:8080/",
          "height": 295
        },
        "id": "aHGuBmfJqWBm",
        "outputId": "989912ca-1a22-4114-927b-d1eec597c37c"
      },
      "outputs": [
        {
          "data": {
            "image/png": "[encoded data removed]",
            "text/plain": [
              "<Figure size 432x288 with 1 Axes>"
            ]
          },
          "metadata": {
            "needs_background": "light"
          },
          "output_type": "display_data"
        }
      ],
      "source": [
        "# roc curve for classes\n",
        "fpr = {}\n",
        "tpr = {}\n",
        "thresh ={}\n",
        "\n",
        "n_class = 3\n",
        "\n",
        "for i in range(n_class):    \n",
        "    fpr[i], tpr[i], thresh[i] = roc_curve(true, df_prob[i], pos_label=i)\n",
        "    \n",
        "# plotting    \n",
        "plt.plot(fpr[0], tpr[0], linestyle='--',color='orange', label='Class 0 vs Rest')\n",
        "plt.plot(fpr[1], tpr[1], linestyle='--',color='green', label='Class 1 vs Rest')\n",
        "plt.plot(fpr[2], tpr[2], linestyle='--',color='blue', label='Class 2 vs Rest')\n",
        "plt.title('Multiclass ROC curve')\n",
        "plt.xlabel('False Positive Rate')\n",
        "plt.ylabel('True Positive rate')\n",
        "plt.legend(loc='best')\n",
        "plt.savefig('Multiclass ROC',dpi=300);  "
      ]
    },
    {
      "cell_type": "code",
      "execution_count": 714,
      "metadata": {
        "colab": {
          "base_uri": "https://localhost:8080/",
          "height": 733
        },
        "id": "foSvkW0ytpxF",
        "outputId": "c112fa68-ae10-4453-f867-f436a90794de"
      },
      "outputs": [
        {
          "data": {
            "image/png": "[encoded data removed]",
            "text/plain": [
              "<Figure size 864x864 with 1 Axes>"
            ]
          },
          "metadata": {
            "needs_background": "light"
          },
          "output_type": "display_data"
        }
      ],
      "source": [
        "def plot_graph_loss(epochs):\n",
        "    fig = plt.figure(figsize=(12,12))\n",
        "    plt.title(\"Train/Validation Loss\")\n",
        "    plt.plot(list(np.arange(epochs) + 1) , epoch_loss, label='train')\n",
        "    plt.plot(list(np.arange(epochs) + 1), epoch_loss_dev, label='validation')\n",
        "    plt.xlabel('num_epochs', fontsize=12)\n",
        "    plt.ylabel('loss', fontsize=12)\n",
        "    plt.legend(['train', 'validation']);\n",
        "\n",
        "plot_graph_loss(100)"
      ]
    },
    {
      "cell_type": "code",
      "execution_count": 715,
      "metadata": {
        "colab": {
          "base_uri": "https://localhost:8080/",
          "height": 733
        },
        "id": "71cJojWzkNQs",
        "outputId": "7e730db9-f2aa-4370-e8de-154fac82b330"
      },
      "outputs": [
        {
          "data": {
            "image/png": "[encoded data removed]",
            "text/plain": [
              "<Figure size 864x864 with 1 Axes>"
            ]
          },
          "metadata": {
            "needs_background": "light"
          },
          "output_type": "display_data"
        }
      ],
      "source": [
        "def plot_graph_acc(epochs):\n",
        "    fig = plt.figure(figsize=(12,12))\n",
        "    plt.title(\"Train/Validation Accuracy\")\n",
        "    plt.plot(list(np.arange(epochs) + 1) , epoch_acc, label='train')\n",
        "    plt.plot(list(np.arange(epochs) + 1), epoch_acc_dev, label='validation')\n",
        "    plt.xlabel('num_epochs', fontsize=12)\n",
        "    plt.ylabel('accuracy', fontsize=12)\n",
        "    plt.legend(['train', 'validation']);\n",
        "\n",
        "plot_graph_acc(100)    "
      ]
    },
    {
      "cell_type": "markdown",
      "metadata": {
        "id": "2GZAQd93xYXE"
      },
      "source": [
        "## Second Model"
      ]
    },
    {
      "cell_type": "code",
      "execution_count": 716,
      "metadata": {
        "id": "Nmu-PutrxYXG"
      },
      "outputs": [],
      "source": [
        "class Net2(nn.Module):\n",
        "    def __init__(self, D_in, H1, H2, H3, D_out):\n",
        "        super(Net2, self).__init__()\n",
        "        self.linear1 = nn.Linear(D_in, H1)\n",
        "        self.batchnorm1 = nn.BatchNorm1d(H1)\n",
        "        self.relu = nn.ReLU()\n",
        "        self.dropout = nn.Dropout(p=0.2)\n",
        "        self.linear2 = nn.Linear(H1, H2)\n",
        "        self.sigmoid = nn.Sigmoid()\n",
        "        self.linear3 = nn.Linear(H2, H3)\n",
        "        self.linear4 = nn.Linear(H3, D_out)\n",
        "        self.logsoftmax = nn.LogSoftmax(dim=1)\n",
        "        \n",
        "    def forward(self, x):\n",
        "        out = self.linear1(x)\n",
        "        out = self.batchnorm1(out)\n",
        "        out = self.relu(out)\n",
        "        out = self.dropout(out)\n",
        "        out = self.linear2(out)\n",
        "        out = self.sigmoid(out)\n",
        "        out = self.linear3(out)\n",
        "        out = self.logsoftmax(out)\n",
        "        return out"
      ]
    },
    {
      "cell_type": "code",
      "execution_count": 717,
      "metadata": {
        "id": "XsnnrIHHxYXG"
      },
      "outputs": [],
      "source": [
        "#Define layer sizes\n",
        "D_in = x.shape[1]\n",
        "H1 = 128\n",
        "H2 = 64\n",
        "H3 = 32\n",
        "D_out = 3\n",
        "\n",
        "#Define Hyperparameters\n",
        "learning_rate = 1e-4\n",
        "\n",
        "#Initialize model, optimizer, loss function\n",
        "model = Net2(D_in, H1, H2, H3, D_out)\n",
        "\n",
        "loss_func = nn.NLLLoss()                    # with softmax in output of model\n",
        "\n",
        "optimizer = optim.Adam(model.parameters(), lr=learning_rate)\n",
        "#optimizer = optim.SGD(model.parameters(), lr=learning_rate, momentum=0.2, weight_decay=0.01)\n",
        "#optimizer = optim.Adagrad(model.parameters(), lr=learning_rate)"
      ]
    },
    {
      "cell_type": "code",
      "execution_count": 718,
      "metadata": {
        "colab": {
          "base_uri": "https://localhost:8080/"
        },
        "id": "iQgFSLqbxYXH",
        "outputId": "4914d5f7-7f12-4fe5-dd90-6df50255d869"
      },
      "outputs": [
        {
          "data": {
            "text/plain": [
              "Net2(\n",
              "  (linear1): Linear(in_features=25, out_features=128, bias=True)\n",
              "  (batchnorm1): BatchNorm1d(128, eps=1e-05, momentum=0.1, affine=True, track_running_stats=True)\n",
              "  (relu): ReLU()\n",
              "  (dropout): Dropout(p=0.2, inplace=False)\n",
              "  (linear2): Linear(in_features=128, out_features=64, bias=True)\n",
              "  (sigmoid): Sigmoid()\n",
              "  (linear3): Linear(in_features=64, out_features=32, bias=True)\n",
              "  (linear4): Linear(in_features=32, out_features=3, bias=True)\n",
              "  (logsoftmax): LogSoftmax(dim=1)\n",
              ")"
            ]
          },
          "execution_count": 718,
          "metadata": {},
          "output_type": "execute_result"
        }
      ],
      "source": [
        "model"
      ]
    },
    {
      "cell_type": "code",
      "execution_count": 719,
      "metadata": {
        "colab": {
          "base_uri": "https://localhost:8080/"
        },
        "id": "v9TQMjNcxYXH",
        "outputId": "37e133db-40c6-4861-93e2-be9b851d4208"
      },
      "outputs": [
        {
          "name": "stdout",
          "output_type": "stream",
          "text": [
            "Epoch   0: | Train Loss = 2.91625 | Train Accuracy = 0.26560 | Validation Loss = 2.04246 | Validation Accuracy = 0.46713 \n",
            "Epoch   1: | Train Loss = 1.54754 | Train Accuracy = 0.48001 | Validation Loss = 1.23204 | Validation Accuracy = 0.51840 \n",
            "Epoch   2: | Train Loss = 1.12217 | Train Accuracy = 0.54165 | Validation Loss = 1.03615 | Validation Accuracy = 0.55828 \n",
            "Epoch   3: | Train Loss = 1.00270 | Train Accuracy = 0.56653 | Validation Loss = 0.96735 | Validation Accuracy = 0.57932 \n",
            "Epoch   4: | Train Loss = 0.95103 | Train Accuracy = 0.57912 | Validation Loss = 0.92814 | Validation Accuracy = 0.58545 \n",
            "Epoch   5: | Train Loss = 0.91868 | Train Accuracy = 0.59159 | Validation Loss = 0.90109 | Validation Accuracy = 0.59202 \n",
            "Epoch   6: | Train Loss = 0.89632 | Train Accuracy = 0.59795 | Validation Loss = 0.87967 | Validation Accuracy = 0.60605 \n",
            "Epoch   7: | Train Loss = 0.88115 | Train Accuracy = 0.60097 | Validation Loss = 0.86590 | Validation Accuracy = 0.60386 \n",
            "Epoch   8: | Train Loss = 0.86844 | Train Accuracy = 0.60468 | Validation Loss = 0.85499 | Validation Accuracy = 0.60561 \n",
            "Epoch   9: | Train Loss = 0.85842 | Train Accuracy = 0.60764 | Validation Loss = 0.84509 | Validation Accuracy = 0.60780 \n",
            "Epoch  10: | Train Loss = 0.85034 | Train Accuracy = 0.61079 | Validation Loss = 0.83665 | Validation Accuracy = 0.61437 \n",
            "Epoch  11: | Train Loss = 0.84567 | Train Accuracy = 0.61375 | Validation Loss = 0.83163 | Validation Accuracy = 0.61569 \n",
            "Epoch  12: | Train Loss = 0.83930 | Train Accuracy = 0.61312 | Validation Loss = 0.82866 | Validation Accuracy = 0.61087 \n",
            "Epoch  13: | Train Loss = 0.83503 | Train Accuracy = 0.61646 | Validation Loss = 0.82490 | Validation Accuracy = 0.61919 \n",
            "Epoch  14: | Train Loss = 0.83036 | Train Accuracy = 0.62080 | Validation Loss = 0.81795 | Validation Accuracy = 0.61437 \n",
            "Epoch  15: | Train Loss = 0.82721 | Train Accuracy = 0.62395 | Validation Loss = 0.81604 | Validation Accuracy = 0.62314 \n",
            "Epoch  16: | Train Loss = 0.82615 | Train Accuracy = 0.61829 | Validation Loss = 0.81418 | Validation Accuracy = 0.61876 \n",
            "Epoch  17: | Train Loss = 0.82427 | Train Accuracy = 0.62125 | Validation Loss = 0.81269 | Validation Accuracy = 0.61963 \n",
            "Epoch  18: | Train Loss = 0.82295 | Train Accuracy = 0.62282 | Validation Loss = 0.80919 | Validation Accuracy = 0.62138 \n",
            "Epoch  19: | Train Loss = 0.81829 | Train Accuracy = 0.62408 | Validation Loss = 0.80841 | Validation Accuracy = 0.62270 \n",
            "Epoch  20: | Train Loss = 0.81669 | Train Accuracy = 0.62358 | Validation Loss = 0.80425 | Validation Accuracy = 0.62577 \n",
            "Epoch  21: | Train Loss = 0.81330 | Train Accuracy = 0.62408 | Validation Loss = 0.80532 | Validation Accuracy = 0.62358 \n",
            "Epoch  22: | Train Loss = 0.81022 | Train Accuracy = 0.62647 | Validation Loss = 0.80155 | Validation Accuracy = 0.62708 \n",
            "Epoch  23: | Train Loss = 0.80824 | Train Accuracy = 0.62949 | Validation Loss = 0.80145 | Validation Accuracy = 0.62489 \n",
            "Epoch  24: | Train Loss = 0.80916 | Train Accuracy = 0.62874 | Validation Loss = 0.79856 | Validation Accuracy = 0.62489 \n",
            "Epoch  25: | Train Loss = 0.80488 | Train Accuracy = 0.63107 | Validation Loss = 0.79918 | Validation Accuracy = 0.62445 \n",
            "Epoch  26: | Train Loss = 0.80860 | Train Accuracy = 0.62710 | Validation Loss = 0.79432 | Validation Accuracy = 0.63103 \n",
            "Epoch  27: | Train Loss = 0.80636 | Train Accuracy = 0.62861 | Validation Loss = 0.79495 | Validation Accuracy = 0.62445 \n",
            "Epoch  28: | Train Loss = 0.80181 | Train Accuracy = 0.62830 | Validation Loss = 0.79222 | Validation Accuracy = 0.62577 \n",
            "Epoch  29: | Train Loss = 0.80104 | Train Accuracy = 0.63415 | Validation Loss = 0.79101 | Validation Accuracy = 0.62708 \n",
            "Epoch  30: | Train Loss = 0.80099 | Train Accuracy = 0.63113 | Validation Loss = 0.79077 | Validation Accuracy = 0.63190 \n",
            "Epoch  31: | Train Loss = 0.79898 | Train Accuracy = 0.63308 | Validation Loss = 0.79633 | Validation Accuracy = 0.63103 \n",
            "Epoch  32: | Train Loss = 0.79504 | Train Accuracy = 0.63359 | Validation Loss = 0.78914 | Validation Accuracy = 0.62883 \n",
            "Epoch  33: | Train Loss = 0.79633 | Train Accuracy = 0.63516 | Validation Loss = 0.78576 | Validation Accuracy = 0.63190 \n",
            "Epoch  34: | Train Loss = 0.79684 | Train Accuracy = 0.63491 | Validation Loss = 0.78644 | Validation Accuracy = 0.63234 \n",
            "Epoch  35: | Train Loss = 0.79593 | Train Accuracy = 0.63346 | Validation Loss = 0.78436 | Validation Accuracy = 0.63190 \n",
            "Epoch  36: | Train Loss = 0.79516 | Train Accuracy = 0.63617 | Validation Loss = 0.78505 | Validation Accuracy = 0.63891 \n",
            "Epoch  37: | Train Loss = 0.79480 | Train Accuracy = 0.63239 | Validation Loss = 0.78399 | Validation Accuracy = 0.63365 \n",
            "Epoch  38: | Train Loss = 0.79180 | Train Accuracy = 0.63705 | Validation Loss = 0.78223 | Validation Accuracy = 0.63190 \n",
            "Epoch  39: | Train Loss = 0.79295 | Train Accuracy = 0.63623 | Validation Loss = 0.78192 | Validation Accuracy = 0.63804 \n",
            "Epoch  40: | Train Loss = 0.79336 | Train Accuracy = 0.63535 | Validation Loss = 0.78257 | Validation Accuracy = 0.63365 \n",
            "Epoch  41: | Train Loss = 0.79189 | Train Accuracy = 0.63976 | Validation Loss = 0.78045 | Validation Accuracy = 0.63804 \n",
            "Epoch  42: | Train Loss = 0.79149 | Train Accuracy = 0.63516 | Validation Loss = 0.78058 | Validation Accuracy = 0.63190 \n",
            "Epoch  43: | Train Loss = 0.78942 | Train Accuracy = 0.63938 | Validation Loss = 0.77863 | Validation Accuracy = 0.63848 \n",
            "Epoch  44: | Train Loss = 0.78798 | Train Accuracy = 0.63995 | Validation Loss = 0.77773 | Validation Accuracy = 0.64023 \n",
            "Epoch  45: | Train Loss = 0.78580 | Train Accuracy = 0.64020 | Validation Loss = 0.77924 | Validation Accuracy = 0.63453 \n",
            "Epoch  46: | Train Loss = 0.78749 | Train Accuracy = 0.63743 | Validation Loss = 0.77703 | Validation Accuracy = 0.63497 \n",
            "Epoch  47: | Train Loss = 0.78637 | Train Accuracy = 0.64064 | Validation Loss = 0.77898 | Validation Accuracy = 0.63497 \n",
            "Epoch  48: | Train Loss = 0.78583 | Train Accuracy = 0.64190 | Validation Loss = 0.77903 | Validation Accuracy = 0.63716 \n",
            "Epoch  49: | Train Loss = 0.78292 | Train Accuracy = 0.64278 | Validation Loss = 0.77799 | Validation Accuracy = 0.63453 \n",
            "Epoch  50: | Train Loss = 0.78568 | Train Accuracy = 0.64454 | Validation Loss = 0.77466 | Validation Accuracy = 0.63760 \n",
            "Epoch  51: | Train Loss = 0.78364 | Train Accuracy = 0.64083 | Validation Loss = 0.77591 | Validation Accuracy = 0.63979 \n",
            "Epoch  52: | Train Loss = 0.78187 | Train Accuracy = 0.64322 | Validation Loss = 0.77440 | Validation Accuracy = 0.63541 \n",
            "Epoch  53: | Train Loss = 0.78465 | Train Accuracy = 0.64190 | Validation Loss = 0.77368 | Validation Accuracy = 0.63891 \n",
            "Epoch  54: | Train Loss = 0.78096 | Train Accuracy = 0.64209 | Validation Loss = 0.77386 | Validation Accuracy = 0.63891 \n",
            "Epoch  55: | Train Loss = 0.78056 | Train Accuracy = 0.64574 | Validation Loss = 0.77411 | Validation Accuracy = 0.63935 \n",
            "Epoch  56: | Train Loss = 0.78135 | Train Accuracy = 0.64140 | Validation Loss = 0.77386 | Validation Accuracy = 0.63891 \n",
            "Epoch  57: | Train Loss = 0.77916 | Train Accuracy = 0.64221 | Validation Loss = 0.77348 | Validation Accuracy = 0.63760 \n",
            "Epoch  58: | Train Loss = 0.78088 | Train Accuracy = 0.64555 | Validation Loss = 0.77555 | Validation Accuracy = 0.64110 \n",
            "Epoch  59: | Train Loss = 0.78005 | Train Accuracy = 0.64643 | Validation Loss = 0.77231 | Validation Accuracy = 0.64067 \n",
            "Epoch  60: | Train Loss = 0.77917 | Train Accuracy = 0.64687 | Validation Loss = 0.77165 | Validation Accuracy = 0.64330 \n",
            "Epoch  61: | Train Loss = 0.77624 | Train Accuracy = 0.64788 | Validation Loss = 0.77580 | Validation Accuracy = 0.64067 \n",
            "Epoch  62: | Train Loss = 0.77608 | Train Accuracy = 0.64675 | Validation Loss = 0.77145 | Validation Accuracy = 0.63804 \n",
            "Epoch  63: | Train Loss = 0.77597 | Train Accuracy = 0.64310 | Validation Loss = 0.77031 | Validation Accuracy = 0.64110 \n",
            "Epoch  64: | Train Loss = 0.77772 | Train Accuracy = 0.64379 | Validation Loss = 0.77100 | Validation Accuracy = 0.64198 \n",
            "Epoch  65: | Train Loss = 0.77450 | Train Accuracy = 0.64643 | Validation Loss = 0.76755 | Validation Accuracy = 0.64549 \n",
            "Epoch  66: | Train Loss = 0.77869 | Train Accuracy = 0.64133 | Validation Loss = 0.76860 | Validation Accuracy = 0.64505 \n",
            "Epoch  67: | Train Loss = 0.77550 | Train Accuracy = 0.64580 | Validation Loss = 0.76968 | Validation Accuracy = 0.64154 \n",
            "Epoch  68: | Train Loss = 0.77501 | Train Accuracy = 0.64650 | Validation Loss = 0.76846 | Validation Accuracy = 0.64855 \n",
            "Epoch  69: | Train Loss = 0.77588 | Train Accuracy = 0.64612 | Validation Loss = 0.77117 | Validation Accuracy = 0.64417 \n",
            "Epoch  70: | Train Loss = 0.77448 | Train Accuracy = 0.64486 | Validation Loss = 0.77014 | Validation Accuracy = 0.64812 \n",
            "Epoch  71: | Train Loss = 0.77474 | Train Accuracy = 0.64813 | Validation Loss = 0.76751 | Validation Accuracy = 0.64636 \n",
            "Epoch  72: | Train Loss = 0.77549 | Train Accuracy = 0.64807 | Validation Loss = 0.76796 | Validation Accuracy = 0.64286 \n",
            "Epoch  73: | Train Loss = 0.77241 | Train Accuracy = 0.64876 | Validation Loss = 0.76580 | Validation Accuracy = 0.64724 \n",
            "Epoch  74: | Train Loss = 0.77535 | Train Accuracy = 0.65015 | Validation Loss = 0.76865 | Validation Accuracy = 0.64154 \n",
            "Epoch  75: | Train Loss = 0.77152 | Train Accuracy = 0.64687 | Validation Loss = 0.76781 | Validation Accuracy = 0.64330 \n",
            "Epoch  76: | Train Loss = 0.77200 | Train Accuracy = 0.64713 | Validation Loss = 0.77037 | Validation Accuracy = 0.63979 \n",
            "Epoch  77: | Train Loss = 0.77380 | Train Accuracy = 0.64618 | Validation Loss = 0.76508 | Validation Accuracy = 0.63848 \n",
            "Epoch  78: | Train Loss = 0.77271 | Train Accuracy = 0.64920 | Validation Loss = 0.76594 | Validation Accuracy = 0.64768 \n",
            "Epoch  79: | Train Loss = 0.76895 | Train Accuracy = 0.65097 | Validation Loss = 0.76634 | Validation Accuracy = 0.64680 \n",
            "Epoch  80: | Train Loss = 0.76751 | Train Accuracy = 0.64958 | Validation Loss = 0.76838 | Validation Accuracy = 0.64549 \n",
            "Epoch  81: | Train Loss = 0.76601 | Train Accuracy = 0.65399 | Validation Loss = 0.76640 | Validation Accuracy = 0.64023 \n",
            "Epoch  82: | Train Loss = 0.77054 | Train Accuracy = 0.65311 | Validation Loss = 0.76587 | Validation Accuracy = 0.64855 \n",
            "Epoch  83: | Train Loss = 0.77221 | Train Accuracy = 0.64933 | Validation Loss = 0.76641 | Validation Accuracy = 0.64286 \n",
            "Epoch  84: | Train Loss = 0.76992 | Train Accuracy = 0.65582 | Validation Loss = 0.76546 | Validation Accuracy = 0.64943 \n",
            "Epoch  85: | Train Loss = 0.76737 | Train Accuracy = 0.65323 | Validation Loss = 0.76689 | Validation Accuracy = 0.64899 \n",
            "Epoch  86: | Train Loss = 0.76904 | Train Accuracy = 0.65065 | Validation Loss = 0.76295 | Validation Accuracy = 0.64680 \n",
            "Epoch  87: | Train Loss = 0.76928 | Train Accuracy = 0.64776 | Validation Loss = 0.76264 | Validation Accuracy = 0.64899 \n",
            "Epoch  88: | Train Loss = 0.76639 | Train Accuracy = 0.65223 | Validation Loss = 0.76694 | Validation Accuracy = 0.64592 \n",
            "Epoch  89: | Train Loss = 0.76726 | Train Accuracy = 0.65103 | Validation Loss = 0.76293 | Validation Accuracy = 0.64987 \n",
            "Epoch  90: | Train Loss = 0.76468 | Train Accuracy = 0.65210 | Validation Loss = 0.76388 | Validation Accuracy = 0.64461 \n",
            "Epoch  91: | Train Loss = 0.76546 | Train Accuracy = 0.64782 | Validation Loss = 0.76618 | Validation Accuracy = 0.64812 \n",
            "Epoch  92: | Train Loss = 0.76720 | Train Accuracy = 0.65059 | Validation Loss = 0.76493 | Validation Accuracy = 0.64505 \n",
            "Epoch  93: | Train Loss = 0.76435 | Train Accuracy = 0.65374 | Validation Loss = 0.76231 | Validation Accuracy = 0.64724 \n",
            "Epoch  94: | Train Loss = 0.76588 | Train Accuracy = 0.65525 | Validation Loss = 0.76182 | Validation Accuracy = 0.64549 \n",
            "Epoch  95: | Train Loss = 0.76767 | Train Accuracy = 0.64857 | Validation Loss = 0.76686 | Validation Accuracy = 0.64724 \n",
            "Epoch  96: | Train Loss = 0.76247 | Train Accuracy = 0.65789 | Validation Loss = 0.76470 | Validation Accuracy = 0.64461 \n",
            "Epoch  97: | Train Loss = 0.76527 | Train Accuracy = 0.65349 | Validation Loss = 0.76263 | Validation Accuracy = 0.64636 \n",
            "Epoch  98: | Train Loss = 0.76822 | Train Accuracy = 0.64820 | Validation Loss = 0.76136 | Validation Accuracy = 0.64373 \n",
            "Epoch  99: | Train Loss = 0.76322 | Train Accuracy = 0.65185 | Validation Loss = 0.76318 | Validation Accuracy = 0.64592 \n"
          ]
        }
      ],
      "source": [
        "epoch_loss = []\n",
        "epoch_loss_dev = []\n",
        "epoch_acc = []\n",
        "epoch_acc_dev = []\n",
        "\n",
        "for epoch in range(100):\n",
        "\n",
        "  batch_losses = []\n",
        "  batch_acc = 0\n",
        "  total = 0\n",
        "  total_dev = 0\n",
        "  loss = 0\n",
        "\n",
        "  # training\n",
        "  model.train()\n",
        "  for x_batch, y_batch in train_dataloader:  # for every batch\n",
        "    y_pred = model(x_batch).squeeze(1)\n",
        "    loss = loss_func(y_pred, y_batch)\n",
        "    batch_losses.append(loss)\n",
        "    #Delete previously stored gradients\n",
        "    optimizer.zero_grad()\n",
        "    #Perform backpropagation starting from the loss calculated in this epoch\n",
        "    loss.backward()\n",
        "    #Update model's weights based on the gradients calculated during backprop\n",
        "    optimizer.step()\n",
        "\n",
        "    # Total number of labels\n",
        "    total += y_batch.size(0)\n",
        "    # Total correct predictions\n",
        "    _,pred_label = torch.max(y_pred, dim = 1)\n",
        "    batch_acc += (pred_label == y_batch).sum()\n",
        "\n",
        "  # validation    \n",
        "  with torch.no_grad():\n",
        "    batch_losses_dev = []\n",
        "    batch_acc_dev = 0\n",
        "    model.eval()\n",
        "\n",
        "    for x_batch, y_batch in dev_dataloader:\n",
        "        y_dev_pred = model(x_batch).squeeze(1)\n",
        "        loss_dev = loss_func(y_dev_pred, y_batch)\n",
        "        batch_losses_dev.append(loss_dev)\n",
        "        # number of labels\n",
        "        total_dev += y_batch.size(0)\n",
        "        # correct predictions\n",
        "        _,pred_label = torch.max(y_dev_pred, dim = 1)  # get max probability\n",
        "        batch_acc_dev += (pred_label == y_batch).sum()\n",
        "\n",
        "  accuracy = batch_acc/total\n",
        "  accuracy_dev = batch_acc_dev/total_dev\n",
        "\n",
        "  train_loss = sum(batch_losses)/len(train_dataloader)\n",
        "  valid_loss = sum(batch_losses_dev)/len(dev_dataloader)\n",
        "\n",
        "  epoch_loss.append(train_loss)\n",
        "  epoch_loss_dev.append(valid_loss)\n",
        "  epoch_acc.append(accuracy)\n",
        "  epoch_acc_dev.append(accuracy_dev)\n",
        "\n",
        "  print(f\"Epoch {epoch:3}: | Train Loss = {train_loss:.5f} | Train Accuracy = {accuracy:.5f} | Validation Loss = {valid_loss:.5f} | Validation Accuracy = {accuracy_dev:.5f} \")"
      ]
    },
    {
      "cell_type": "markdown",
      "metadata": {
        "id": "lkg036AAxYXI"
      },
      "source": [
        "### Evaluation"
      ]
    },
    {
      "cell_type": "code",
      "execution_count": 720,
      "metadata": {
        "colab": {
          "base_uri": "https://localhost:8080/"
        },
        "id": "fPROsyHhhroX",
        "outputId": "bcb711a6-d016-49e5-bd18-d2945ea00a53"
      },
      "outputs": [
        {
          "name": "stdout",
          "output_type": "stream",
          "text": [
            "Test loss after Training 0.7625619769096375\n"
          ]
        }
      ],
      "source": [
        "model.eval()\n",
        "true = y_dev\n",
        "pred = model(x_dev).squeeze(1)\n",
        "after_train = criterion(pred, true) \n",
        "print('Test loss after Training' , after_train.item())"
      ]
    },
    {
      "cell_type": "code",
      "execution_count": 721,
      "metadata": {
        "id": "KesKVNODhrog"
      },
      "outputs": [],
      "source": [
        "_,pred_label = torch.max(pred, dim = 1)"
      ]
    },
    {
      "cell_type": "code",
      "execution_count": 722,
      "metadata": {
        "colab": {
          "base_uri": "https://localhost:8080/",
          "height": 279
        },
        "id": "JPE7KRl7xYXI",
        "outputId": "9c7f2cc6-3bf7-402c-e36a-1e8410723748"
      },
      "outputs": [
        {
          "data": {
            "image/png": "[encoded data removed]",
            "text/plain": [
              "<Figure size 432x288 with 2 Axes>"
            ]
          },
          "metadata": {
            "needs_background": "light"
          },
          "output_type": "display_data"
        }
      ],
      "source": [
        "target_names = ['neutral', 'anti-vax', 'pro-vax']\n",
        "df = pd.DataFrame({'true':true})\n",
        "df2 = pd.DataFrame({'pred':pred_label})\n",
        "cm = confusion_matrix(true, pred_label)\n",
        "disp = ConfusionMatrixDisplay(confusion_matrix=cm, display_labels=target_names)\n",
        "disp.plot()\n",
        "plt.show()"
      ]
    },
    {
      "cell_type": "code",
      "execution_count": 723,
      "metadata": {
        "colab": {
          "base_uri": "https://localhost:8080/"
        },
        "id": "d1AlvPI2xYXI",
        "outputId": "46153a54-3a85-45c6-cf50-12a383005185"
      },
      "outputs": [
        {
          "name": "stdout",
          "output_type": "stream",
          "text": [
            "Precision-Recall-F1 - Training Data :\n",
            "(0.6459246275197196, 0.6459246275197196, 0.6459246275197196, None)\n"
          ]
        }
      ],
      "source": [
        "print(\"Precision-Recall-F1 - Training Data :\")\n",
        "print(precision_recall_fscore_support(true, pred_label, average='micro'))"
      ]
    },
    {
      "cell_type": "code",
      "execution_count": 724,
      "metadata": {
        "colab": {
          "base_uri": "https://localhost:8080/"
        },
        "id": "3rZyYICtxYXJ",
        "outputId": "303e545b-b72c-4a85-dde5-5aa41f530b87"
      },
      "outputs": [
        {
          "name": "stdout",
          "output_type": "stream",
          "text": [
            "              precision    recall  f1-score   support\n",
            "\n",
            "           0       0.71      0.73      0.72      1065\n",
            "           1       0.54      0.20      0.29       296\n",
            "           2       0.59      0.69      0.64       921\n",
            "\n",
            "    accuracy                           0.65      2282\n",
            "   macro avg       0.61      0.54      0.55      2282\n",
            "weighted avg       0.64      0.65      0.63      2282\n",
            "\n"
          ]
        }
      ],
      "source": [
        "print(classification_report(true, pred_label))"
      ]
    },
    {
      "cell_type": "markdown",
      "metadata": {
        "id": "3SL-_dIexYXJ"
      },
      "source": [
        "### Plots"
      ]
    },
    {
      "cell_type": "code",
      "execution_count": 725,
      "metadata": {
        "colab": {
          "base_uri": "https://localhost:8080/",
          "height": 733
        },
        "id": "sAvYEyVoxYXK",
        "outputId": "866e455b-faf1-46d0-d7c7-a307d7f598a6"
      },
      "outputs": [
        {
          "data": {
            "image/png": "[encoded data removed]",
            "text/plain": [
              "<Figure size 864x864 with 1 Axes>"
            ]
          },
          "metadata": {
            "needs_background": "light"
          },
          "output_type": "display_data"
        }
      ],
      "source": [
        "def plot_graph_loss(epochs):\n",
        "    fig = plt.figure(figsize=(12,12))\n",
        "    plt.title(\"Train/Validation Loss\")\n",
        "    plt.plot(list(np.arange(epochs) + 1) , epoch_loss, label='train')\n",
        "    plt.plot(list(np.arange(epochs) + 1), epoch_loss_dev, label='validation')\n",
        "    plt.xlabel('num_epochs', fontsize=12)\n",
        "    plt.ylabel('loss', fontsize=12)\n",
        "    plt.legend(['train', 'validation']);\n",
        "plot_graph_loss(100)"
      ]
    },
    {
      "cell_type": "code",
      "execution_count": 726,
      "metadata": {
        "colab": {
          "base_uri": "https://localhost:8080/",
          "height": 733
        },
        "id": "dGmfTebrxYXK",
        "outputId": "defa63a3-4584-41f6-eb36-d959e5840f9a"
      },
      "outputs": [
        {
          "data": {
            "image/png": "[encoded data removed]",
            "text/plain": [
              "<Figure size 864x864 with 1 Axes>"
            ]
          },
          "metadata": {
            "needs_background": "light"
          },
          "output_type": "display_data"
        }
      ],
      "source": [
        "def plot_graph_acc(epochs):\n",
        "    fig = plt.figure(figsize=(12,12))\n",
        "    plt.title(\"Train/Validation Accuracy\")\n",
        "    plt.plot(list(np.arange(epochs) + 1) , epoch_acc, label='train')\n",
        "    plt.plot(list(np.arange(epochs) + 1), epoch_acc_dev, label='validation')\n",
        "    plt.xlabel('num_epochs', fontsize=12)\n",
        "    plt.ylabel('accuracy', fontsize=12)\n",
        "    plt.legend(['train', 'validation']);\n",
        "plot_graph_acc(100)    "
      ]
    }
  ],
  "metadata": {
    "colab": {
      "collapsed_sections": [],
      "name": "feedforward.ipynb",
      "provenance": []
    },
    "kernelspec": {
      "display_name": "Python 3",
      "name": "python3"
    },
    "language_info": {
      "name": "python"
    }
  },
  "nbformat": 4,
  "nbformat_minor": 0
}

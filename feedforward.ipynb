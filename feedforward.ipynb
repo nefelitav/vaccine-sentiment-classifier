{
  "nbformat": 4,
  "nbformat_minor": 0,
  "metadata": {
    "colab": {
      "name": "Vaccine.ipynb",
      "provenance": [],
      "collapsed_sections": []
    },
    "kernelspec": {
      "display_name": "Python 3",
      "name": "python3"
    },
    "language_info": {
      "name": "python"
    }
  },
  "cells": [
    {
      "cell_type": "markdown",
      "metadata": {
        "id": "EW34__zUBaFL"
      },
      "source": [
        "# Vaccine Sentiment Classification\n",
        "*by Nefeli Tavoulari*"
      ]
    },
    {
      "cell_type": "markdown",
      "metadata": {
        "id": "Jnk1un7nBfNR"
      },
      "source": [
        "#### In this notebook I classify tweets as Neutral, Pro-vax or Anti-vax."
      ]
    },
    {
      "cell_type": "markdown",
      "metadata": {
        "id": "kOXT2nsK1kOq"
      },
      "source": [
        "## Install Dependencies"
      ]
    },
    {
      "cell_type": "code",
      "metadata": {
        "colab": {
          "base_uri": "https://localhost:8080/"
        },
        "id": "jl8wlD1VRC3F",
        "outputId": "39c1033d-9347-4968-a874-39995d154448"
      },
      "source": [
        "!pip install -U torch==1.8.0 torchtext==0.9.0"
      ],
      "execution_count": 1,
      "outputs": [
        {
          "output_type": "stream",
          "name": "stdout",
          "text": [
            "Collecting torch==1.8.0\n",
            "  Downloading torch-1.8.0-cp37-cp37m-manylinux1_x86_64.whl (735.5 MB)\n",
            "\u001b[K     |████████████████████████████████| 735.5 MB 14 kB/s \n",
            "\u001b[?25hCollecting torchtext==0.9.0\n",
            "  Downloading torchtext-0.9.0-cp37-cp37m-manylinux1_x86_64.whl (7.1 MB)\n",
            "\u001b[K     |████████████████████████████████| 7.1 MB 10.2 MB/s \n",
            "\u001b[?25hRequirement already satisfied: numpy in /usr/local/lib/python3.7/dist-packages (from torch==1.8.0) (1.19.5)\n",
            "Requirement already satisfied: typing-extensions in /usr/local/lib/python3.7/dist-packages (from torch==1.8.0) (3.10.0.2)\n",
            "Requirement already satisfied: requests in /usr/local/lib/python3.7/dist-packages (from torchtext==0.9.0) (2.23.0)\n",
            "Requirement already satisfied: tqdm in /usr/local/lib/python3.7/dist-packages (from torchtext==0.9.0) (4.62.3)\n",
            "Requirement already satisfied: idna<3,>=2.5 in /usr/local/lib/python3.7/dist-packages (from requests->torchtext==0.9.0) (2.10)\n",
            "Requirement already satisfied: urllib3!=1.25.0,!=1.25.1,<1.26,>=1.21.1 in /usr/local/lib/python3.7/dist-packages (from requests->torchtext==0.9.0) (1.24.3)\n",
            "Requirement already satisfied: chardet<4,>=3.0.2 in /usr/local/lib/python3.7/dist-packages (from requests->torchtext==0.9.0) (3.0.4)\n",
            "Requirement already satisfied: certifi>=2017.4.17 in /usr/local/lib/python3.7/dist-packages (from requests->torchtext==0.9.0) (2021.10.8)\n",
            "Installing collected packages: torch, torchtext\n",
            "  Attempting uninstall: torch\n",
            "    Found existing installation: torch 1.10.0+cu111\n",
            "    Uninstalling torch-1.10.0+cu111:\n",
            "      Successfully uninstalled torch-1.10.0+cu111\n",
            "  Attempting uninstall: torchtext\n",
            "    Found existing installation: torchtext 0.11.0\n",
            "    Uninstalling torchtext-0.11.0:\n",
            "      Successfully uninstalled torchtext-0.11.0\n",
            "\u001b[31mERROR: pip's dependency resolver does not currently take into account all the packages that are installed. This behaviour is the source of the following dependency conflicts.\n",
            "torchvision 0.11.1+cu111 requires torch==1.10.0, but you have torch 1.8.0 which is incompatible.\n",
            "torchaudio 0.10.0+cu111 requires torch==1.10.0, but you have torch 1.8.0 which is incompatible.\u001b[0m\n",
            "Successfully installed torch-1.8.0 torchtext-0.9.0\n"
          ]
        }
      ]
    },
    {
      "cell_type": "markdown",
      "metadata": {
        "id": "sYnNIsloBipg"
      },
      "source": [
        "## Import Packages"
      ]
    },
    {
      "cell_type": "code",
      "metadata": {
        "colab": {
          "base_uri": "https://localhost:8080/"
        },
        "id": "sB8j3615BTwM",
        "outputId": "0f3e0ef7-2eee-4654-d49c-f5e70b8a34da"
      },
      "source": [
        "%matplotlib inline\n",
        "import io\n",
        "import re\n",
        "import csv\n",
        "\n",
        "import numpy as np\n",
        "import pandas as pd\n",
        "import matplotlib.pyplot as plt\n",
        "from google.colab import files\n",
        "from wordcloud import WordCloud\n",
        "import nltk\n",
        "import re\n",
        "import csv\n",
        "from nltk.stem import WordNetLemmatizer\n",
        "from nltk.corpus import stopwords \n",
        "\n",
        "import torch\n",
        "import torch.nn as nn\n",
        "from torchtext.legacy import data   \n",
        "from torchtext.vocab import GloVe\n",
        "from torchtext.legacy.data import BucketIterator\n",
        "from torch.utils.data import Dataset, DataLoader, TensorDataset\n",
        "import torch.nn.functional as F\n",
        "import torch.optim as optim\n",
        "\n",
        "import torchvision.transforms as transforms\n",
        "import torchvision.datasets as dsets\n",
        "\n",
        "from sklearn.metrics import precision_recall_fscore_support, confusion_matrix, ConfusionMatrixDisplay\n",
        "from sklearn.metrics import classification_report, roc_curve, roc_auc_score\n",
        "from sklearn.metrics import roc_curve, accuracy_score, mean_absolute_error\n",
        "\n",
        "SEED = 1234\n",
        "torch.manual_seed(SEED)\n",
        "torch.cuda.manual_seed(SEED)\n",
        "torch.backends.cudnn.deterministic = True\n",
        "nltk.download('stopwords')\n",
        "nltk.download('wordnet')\n",
        "stop_words = set(stopwords.words('english'))\n",
        "lemmatizer = WordNetLemmatizer()"
      ],
      "execution_count": 2,
      "outputs": [
        {
          "output_type": "stream",
          "name": "stdout",
          "text": [
            "[nltk_data] Downloading package stopwords to /root/nltk_data...\n",
            "[nltk_data]   Unzipping corpora/stopwords.zip.\n",
            "[nltk_data] Downloading package wordnet to /root/nltk_data...\n",
            "[nltk_data]   Unzipping corpora/wordnet.zip.\n"
          ]
        }
      ]
    },
    {
      "cell_type": "markdown",
      "metadata": {
        "id": "SwQ1dAaDBrKg"
      },
      "source": [
        "## Upload dataset - Create dataframe"
      ]
    },
    {
      "cell_type": "code",
      "metadata": {
        "id": "1mBmlpIlBt84",
        "colab": {
          "resources": {
            "http://localhost:8080/nbextensions/google.colab/files.js": {
              "data": "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",
              "ok": true,
              "headers": [
                [
                  "content-type",
                  "application/javascript"
                ]
              ],
              "status": 200,
              "status_text": ""
            }
          },
          "base_uri": "https://localhost:8080/",
          "height": 73
        },
        "outputId": "60f2f905-c335-48ea-c4a3-ab332123f380"
      },
      "source": [
        "upload_train = files.upload()"
      ],
      "execution_count": 3,
      "outputs": [
        {
          "output_type": "display_data",
          "data": {
            "text/html": [
              "\n",
              "     <input type=\"file\" id=\"files-03b8b86e-f16e-4cf6-923d-4725a7831f38\" name=\"files[]\" multiple disabled\n",
              "        style=\"border:none\" />\n",
              "     <output id=\"result-03b8b86e-f16e-4cf6-923d-4725a7831f38\">\n",
              "      Upload widget is only available when the cell has been executed in the\n",
              "      current browser session. Please rerun this cell to enable.\n",
              "      </output>\n",
              "      <script src=\"/nbextensions/google.colab/files.js\"></script> "
            ],
            "text/plain": [
              "<IPython.core.display.HTML object>"
            ]
          },
          "metadata": {}
        },
        {
          "output_type": "stream",
          "name": "stdout",
          "text": [
            "Saving vs_train.csv to vs_train.csv\n"
          ]
        }
      ]
    },
    {
      "cell_type": "code",
      "metadata": {
        "id": "gqzdiqaTBv_E",
        "colab": {
          "resources": {
            "http://localhost:8080/nbextensions/google.colab/files.js": {
              "data": "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",
              "ok": true,
              "headers": [
                [
                  "content-type",
                  "application/javascript"
                ]
              ],
              "status": 200,
              "status_text": ""
            }
          },
          "base_uri": "https://localhost:8080/",
          "height": 73
        },
        "outputId": "1bb0bf87-a283-4f9f-f2d1-a61677ff0bc1"
      },
      "source": [
        "upload_dev = files.upload()"
      ],
      "execution_count": 5,
      "outputs": [
        {
          "output_type": "display_data",
          "data": {
            "text/html": [
              "\n",
              "     <input type=\"file\" id=\"files-54b945ca-f641-4f5b-8d7f-8795a59ba85f\" name=\"files[]\" multiple disabled\n",
              "        style=\"border:none\" />\n",
              "     <output id=\"result-54b945ca-f641-4f5b-8d7f-8795a59ba85f\">\n",
              "      Upload widget is only available when the cell has been executed in the\n",
              "      current browser session. Please rerun this cell to enable.\n",
              "      </output>\n",
              "      <script src=\"/nbextensions/google.colab/files.js\"></script> "
            ],
            "text/plain": [
              "<IPython.core.display.HTML object>"
            ]
          },
          "metadata": {}
        },
        {
          "output_type": "stream",
          "name": "stdout",
          "text": [
            "Saving vs_dev.csv to vs_dev.csv\n"
          ]
        }
      ]
    },
    {
      "cell_type": "code",
      "metadata": {
        "id": "crl8Sc9YByK9"
      },
      "source": [
        "train_df = pd.read_csv(io.BytesIO(upload_train['vs_train.csv']))\n",
        "dev_df = pd.read_csv(io.BytesIO(upload_dev['vs_dev.csv']))"
      ],
      "execution_count": 610,
      "outputs": []
    },
    {
      "cell_type": "code",
      "metadata": {
        "id": "OKStHo66Bz8t",
        "colab": {
          "base_uri": "https://localhost:8080/"
        },
        "outputId": "5527e86a-3b59-4199-831d-95be1aedef51"
      },
      "source": [
        "print(train_df) # training data"
      ],
      "execution_count": 8,
      "outputs": [
        {
          "output_type": "stream",
          "name": "stdout",
          "text": [
            "       Unnamed: 0                                              tweet  label\n",
            "0               0  Sip N Shop Come thru right now #Marjais #Popul...      0\n",
            "1               1  I don't know about you but My family and I wil...      1\n",
            "2               2  @MSignorile Immunizations should be mandatory....      2\n",
            "3               3  President Obama spoke in favor of vaccination ...      0\n",
            "4               4  \"@myfoxla: Arizona monitoring hundreds for mea...      0\n",
            "...           ...                                                ...    ...\n",
            "15971       15971  @Salon if u believe the anti-vax nutcases caus...      1\n",
            "15972       15972  How do you feel about parents who don't #vacci...      0\n",
            "15973       15973  70 Preschoolers Tested for Measles in Simi Val...      0\n",
            "15974       15974  Finance Minister: Budget offers room to procur...      0\n",
            "15975       15975  Are you up to date on vaccines? Take CDC’s vac...      2\n",
            "\n",
            "[15976 rows x 3 columns]\n"
          ]
        }
      ]
    },
    {
      "cell_type": "code",
      "metadata": {
        "id": "2W3hygNmB05X",
        "colab": {
          "base_uri": "https://localhost:8080/"
        },
        "outputId": "018dcc0f-939b-451b-fb3e-d48fb144fd5b"
      },
      "source": [
        "print(dev_df) # validation data"
      ],
      "execution_count": 9,
      "outputs": [
        {
          "output_type": "stream",
          "name": "stdout",
          "text": [
            "      Unnamed: 0                                              tweet  label\n",
            "0              0  @user They had a massive surge in with covid d...      1\n",
            "1              1  Required vaccines for school: Parents and guar...      0\n",
            "2              2  “@KCStar: Two more Johnson County children hav...      0\n",
            "3              3  NV can do better. Which states are the best (a...      2\n",
            "4              4  Nothing like killing ourselves w/ our own fear...      2\n",
            "...          ...                                                ...    ...\n",
            "2277        2277  RT @abc7: Number of measles cases reported in ...      0\n",
            "2278        2278  Evidence points to the idea that \"measles affe...      0\n",
            "2279        2279  Where's @SavedYouAClick \"@voxdotcom: Why you s...      2\n",
            "2280        2280  Some of my favorite people have autism. If tha...      2\n",
            "2281        2281  Coronavirus: The married couple behind the suc...      0\n",
            "\n",
            "[2282 rows x 3 columns]\n"
          ]
        }
      ]
    },
    {
      "cell_type": "markdown",
      "metadata": {
        "id": "PrknN4jRbeN6"
      },
      "source": [
        "## Upload Glove Embeddings"
      ]
    },
    {
      "cell_type": "code",
      "metadata": {
        "id": "A8v30jvy8JOx"
      },
      "source": [
        "def load_glove_model(File):\n",
        "    print(\"Loading Glove Model\")\n",
        "    glove_model = {}\n",
        "    with open(File,'r') as f:\n",
        "        for line in f:\n",
        "            split_line = line.split()\n",
        "            word = split_line[0]\n",
        "            embedding = np.array(split_line[1:], dtype=np.float64)\n",
        "            glove_model[word] = embedding\n",
        "    print(f\"{len(glove_model)} words loaded!\")\n",
        "    return glove_model"
      ],
      "execution_count": 10,
      "outputs": []
    },
    {
      "cell_type": "code",
      "metadata": {
        "id": "xukjiAFj86dI",
        "colab": {
          "base_uri": "https://localhost:8080/"
        },
        "outputId": "8c87ba3b-65fc-4b5b-a731-c29ae3b0474e"
      },
      "source": [
        "!wget https://nlp.stanford.edu/data/glove.twitter.27B.zip\n",
        "!unzip glove.twitter.27B.zip\n",
        "# free some space\n",
        "!rm glove.twitter.27B.zip"
      ],
      "execution_count": 11,
      "outputs": [
        {
          "output_type": "stream",
          "name": "stdout",
          "text": [
            "--2021-12-06 16:45:24--  https://nlp.stanford.edu/data/glove.twitter.27B.zip\n",
            "Resolving nlp.stanford.edu (nlp.stanford.edu)... 171.64.67.140\n",
            "Connecting to nlp.stanford.edu (nlp.stanford.edu)|171.64.67.140|:443... connected.\n",
            "HTTP request sent, awaiting response... 301 Moved Permanently\n",
            "Location: http://downloads.cs.stanford.edu/nlp/data/glove.twitter.27B.zip [following]\n",
            "--2021-12-06 16:45:24--  http://downloads.cs.stanford.edu/nlp/data/glove.twitter.27B.zip\n",
            "Resolving downloads.cs.stanford.edu (downloads.cs.stanford.edu)... 171.64.64.22\n",
            "Connecting to downloads.cs.stanford.edu (downloads.cs.stanford.edu)|171.64.64.22|:80... connected.\n",
            "HTTP request sent, awaiting response... 200 OK\n",
            "Length: 1520408563 (1.4G) [application/zip]\n",
            "Saving to: ‘glove.twitter.27B.zip’\n",
            "\n",
            "glove.twitter.27B.z 100%[===================>]   1.42G  5.05MB/s    in 4m 45s  \n",
            "\n",
            "2021-12-06 16:50:09 (5.08 MB/s) - ‘glove.twitter.27B.zip’ saved [1520408563/1520408563]\n",
            "\n",
            "Archive:  glove.twitter.27B.zip\n",
            "  inflating: glove.twitter.27B.25d.txt  \n",
            "  inflating: glove.twitter.27B.50d.txt  \n",
            "  inflating: glove.twitter.27B.100d.txt  \n",
            "  inflating: glove.twitter.27B.200d.txt  \n"
          ]
        }
      ]
    },
    {
      "cell_type": "code",
      "metadata": {
        "id": "OLj-OVw0mFuv",
        "colab": {
          "base_uri": "https://localhost:8080/"
        },
        "outputId": "50f3d70f-24c6-4ba0-dfb0-a2c709ded4ab"
      },
      "source": [
        "gloveModel = load_glove_model(\"glove.twitter.27B.25d.txt\")\n",
        "dim = 25"
      ],
      "execution_count": 608,
      "outputs": [
        {
          "output_type": "stream",
          "name": "stdout",
          "text": [
            "Loading Glove Model\n",
            "1193514 words loaded!\n"
          ]
        }
      ]
    },
    {
      "cell_type": "markdown",
      "metadata": {
        "id": "ztXIRmkHGXVN"
      },
      "source": [
        "## Remove empty / duplicate tweets"
      ]
    },
    {
      "cell_type": "code",
      "metadata": {
        "id": "m_A522pkGZLn",
        "colab": {
          "base_uri": "https://localhost:8080/"
        },
        "outputId": "56e437bf-eb1d-40f6-b435-5f6942b03d68"
      },
      "source": [
        "train_df.dropna(subset = [\"tweet\"], inplace=True)\n",
        "train_df.drop_duplicates(subset = [\"tweet\"], inplace=True)\n",
        "\n",
        "dev_df.dropna(subset = [\"tweet\"], inplace=True)\n",
        "\n",
        "train_df.drop(['Unnamed: 0'], axis=1, inplace = True) \n",
        "dev_df.drop(['Unnamed: 0'], axis=1, inplace = True) \n",
        "\n",
        "print(train_df.shape)\n",
        "print(dev_df.shape)"
      ],
      "execution_count": 611,
      "outputs": [
        {
          "output_type": "stream",
          "name": "stdout",
          "text": [
            "(15881, 2)\n",
            "(2282, 2)\n"
          ]
        }
      ]
    },
    {
      "cell_type": "markdown",
      "metadata": {
        "id": "fK5Qud3-cAYm"
      },
      "source": [
        "## Clean text"
      ]
    },
    {
      "cell_type": "code",
      "metadata": {
        "id": "Gco1RADEpk1w"
      },
      "source": [
        "def clean_text(text):\n",
        "  text = text.lower()                                           # lowercase\n",
        "  text = text.strip()                                           # remove white spaces\n",
        "  #text = ' '.join(re.sub(\"(@[A-Za-z0-9]+)\",\" \",text).split())   # remove twitter user accounts\n",
        "  text = re.sub(r'http\\S+', ' ', text)                          # remove urls\n",
        "  text = re.sub('[^A-Za-z0-9]+', ' ', text)                     # remove special characters\n",
        "  # perform lemmatization\n",
        "  cleaned_text = \"\"\n",
        "  for word in text.split() :\n",
        "    if word in stop_words:                                      # remove stopwords\n",
        "      continue\n",
        "    temp = lemmatizer.lemmatize(word)                           # lemmatize\n",
        "    #temp = snowball.stem(word)\n",
        "    #temp = lancaster.stem(word)\n",
        "    #temp = porter.stem(word)\n",
        "    cleaned_text += (temp + \" \")\n",
        "  return cleaned_text"
      ],
      "execution_count": 612,
      "outputs": []
    },
    {
      "cell_type": "code",
      "metadata": {
        "id": "yvL7F6BKcT5c"
      },
      "source": [
        "cleaned_text = []                                  # clean training data\n",
        "for line in train_df[\"tweet\"]:\n",
        "  cleaned_text.append(clean_text(line))\n",
        "cleaned_text_val = []                              # clean validation data\n",
        "for line in dev_df[\"tweet\"]:\n",
        "  cleaned_text_val.append(clean_text(line))\n",
        "\n",
        "train_df = train_df.assign(clean_tweet = lambda x: cleaned_text)\n",
        "dev_df = dev_df.assign(clean_tweet = lambda x: cleaned_text_val)\n",
        "\n",
        "train_df.drop(['tweet'], axis=1, inplace = True) \n",
        "dev_df.drop(['tweet'], axis=1, inplace = True) "
      ],
      "execution_count": 613,
      "outputs": []
    },
    {
      "cell_type": "code",
      "metadata": {
        "id": "4up9Sn_dYHIZ",
        "colab": {
          "base_uri": "https://localhost:8080/"
        },
        "outputId": "9af97d59-1f63-4daa-a829-db242a4a471a"
      },
      "source": [
        "total_df = train_df.append(dev_df)\n",
        "total_df.shape"
      ],
      "execution_count": 614,
      "outputs": [
        {
          "output_type": "execute_result",
          "data": {
            "text/plain": [
              "(18163, 2)"
            ]
          },
          "metadata": {},
          "execution_count": 614
        }
      ]
    },
    {
      "cell_type": "markdown",
      "metadata": {
        "id": "rs10h234cr4V"
      },
      "source": [
        "## Use Word Embeddings"
      ]
    },
    {
      "cell_type": "code",
      "metadata": {
        "id": "dQrnaHErAf9I"
      },
      "source": [
        "vocab = {}\n",
        "for row in range(0, total_df.shape[0]):\n",
        "  vocab[row] = []\n",
        "i = 0\n",
        "for tweet in total_df[\"clean_tweet\"]: # each tweet\n",
        "  count = np.zeros(dim)  \n",
        "  for word in tweet.split():\n",
        "    if (word in gloveModel):\n",
        "      count += gloveModel[word]\n",
        "  for num in count/dim:\n",
        "    vocab[i].append(num)\n",
        "  i += 1"
      ],
      "execution_count": 615,
      "outputs": []
    },
    {
      "cell_type": "code",
      "metadata": {
        "id": "sD9rqxzcFCZj",
        "colab": {
          "base_uri": "https://localhost:8080/",
          "height": 443
        },
        "outputId": "8f080c7a-95bc-4304-b0d0-546f63983c02"
      },
      "source": [
        "df = pd.DataFrame.from_dict(vocab, orient='index')\n",
        "#df = df.transpose()\n",
        "df"
      ],
      "execution_count": 616,
      "outputs": [
        {
          "output_type": "execute_result",
          "data": {
            "text/html": [
              "<div>\n",
              "<style scoped>\n",
              "    .dataframe tbody tr th:only-of-type {\n",
              "        vertical-align: middle;\n",
              "    }\n",
              "\n",
              "    .dataframe tbody tr th {\n",
              "        vertical-align: top;\n",
              "    }\n",
              "\n",
              "    .dataframe thead th {\n",
              "        text-align: right;\n",
              "    }\n",
              "</style>\n",
              "<table border=\"1\" class=\"dataframe\">\n",
              "  <thead>\n",
              "    <tr style=\"text-align: right;\">\n",
              "      <th></th>\n",
              "      <th>0</th>\n",
              "      <th>1</th>\n",
              "      <th>2</th>\n",
              "      <th>3</th>\n",
              "      <th>4</th>\n",
              "      <th>5</th>\n",
              "      <th>6</th>\n",
              "      <th>7</th>\n",
              "      <th>8</th>\n",
              "      <th>9</th>\n",
              "      <th>10</th>\n",
              "      <th>11</th>\n",
              "      <th>12</th>\n",
              "      <th>13</th>\n",
              "      <th>14</th>\n",
              "      <th>15</th>\n",
              "      <th>16</th>\n",
              "      <th>17</th>\n",
              "      <th>18</th>\n",
              "      <th>19</th>\n",
              "      <th>20</th>\n",
              "      <th>21</th>\n",
              "      <th>22</th>\n",
              "      <th>23</th>\n",
              "      <th>24</th>\n",
              "    </tr>\n",
              "  </thead>\n",
              "  <tbody>\n",
              "    <tr>\n",
              "      <th>0</th>\n",
              "      <td>-0.074209</td>\n",
              "      <td>0.174633</td>\n",
              "      <td>-0.018545</td>\n",
              "      <td>-0.030889</td>\n",
              "      <td>-0.051354</td>\n",
              "      <td>-0.050267</td>\n",
              "      <td>0.174427</td>\n",
              "      <td>0.031691</td>\n",
              "      <td>-0.011138</td>\n",
              "      <td>0.126046</td>\n",
              "      <td>-0.059712</td>\n",
              "      <td>-0.051399</td>\n",
              "      <td>-0.903162</td>\n",
              "      <td>-0.034106</td>\n",
              "      <td>-0.020152</td>\n",
              "      <td>-0.055038</td>\n",
              "      <td>0.026370</td>\n",
              "      <td>-0.129461</td>\n",
              "      <td>-0.080249</td>\n",
              "      <td>-0.004640</td>\n",
              "      <td>-0.054612</td>\n",
              "      <td>-0.052254</td>\n",
              "      <td>0.154567</td>\n",
              "      <td>0.132431</td>\n",
              "      <td>0.081430</td>\n",
              "    </tr>\n",
              "    <tr>\n",
              "      <th>1</th>\n",
              "      <td>-0.096885</td>\n",
              "      <td>0.198095</td>\n",
              "      <td>-0.036882</td>\n",
              "      <td>-0.027684</td>\n",
              "      <td>-0.064159</td>\n",
              "      <td>-0.100399</td>\n",
              "      <td>0.301494</td>\n",
              "      <td>-0.063744</td>\n",
              "      <td>-0.024514</td>\n",
              "      <td>0.023850</td>\n",
              "      <td>-0.076308</td>\n",
              "      <td>0.067945</td>\n",
              "      <td>-0.922091</td>\n",
              "      <td>0.012661</td>\n",
              "      <td>0.092259</td>\n",
              "      <td>0.003399</td>\n",
              "      <td>0.080930</td>\n",
              "      <td>-0.173531</td>\n",
              "      <td>0.035397</td>\n",
              "      <td>-0.089007</td>\n",
              "      <td>-0.018312</td>\n",
              "      <td>0.031987</td>\n",
              "      <td>-0.018892</td>\n",
              "      <td>0.075888</td>\n",
              "      <td>-0.009154</td>\n",
              "    </tr>\n",
              "    <tr>\n",
              "      <th>2</th>\n",
              "      <td>-0.040021</td>\n",
              "      <td>0.258818</td>\n",
              "      <td>-0.079311</td>\n",
              "      <td>-0.117769</td>\n",
              "      <td>-0.042948</td>\n",
              "      <td>-0.029355</td>\n",
              "      <td>0.461787</td>\n",
              "      <td>-0.403149</td>\n",
              "      <td>-0.017695</td>\n",
              "      <td>0.054543</td>\n",
              "      <td>-0.156850</td>\n",
              "      <td>0.092332</td>\n",
              "      <td>-1.501643</td>\n",
              "      <td>0.117023</td>\n",
              "      <td>0.250349</td>\n",
              "      <td>0.064133</td>\n",
              "      <td>0.097205</td>\n",
              "      <td>-0.161577</td>\n",
              "      <td>0.073152</td>\n",
              "      <td>-0.167225</td>\n",
              "      <td>-0.092468</td>\n",
              "      <td>0.156980</td>\n",
              "      <td>0.077036</td>\n",
              "      <td>-0.134057</td>\n",
              "      <td>-0.034076</td>\n",
              "    </tr>\n",
              "    <tr>\n",
              "      <th>3</th>\n",
              "      <td>0.035770</td>\n",
              "      <td>0.332920</td>\n",
              "      <td>-0.080705</td>\n",
              "      <td>-0.037391</td>\n",
              "      <td>0.115634</td>\n",
              "      <td>-0.350312</td>\n",
              "      <td>0.212475</td>\n",
              "      <td>-0.222832</td>\n",
              "      <td>0.052082</td>\n",
              "      <td>-0.137239</td>\n",
              "      <td>0.060121</td>\n",
              "      <td>0.017058</td>\n",
              "      <td>-1.428052</td>\n",
              "      <td>0.010468</td>\n",
              "      <td>0.194881</td>\n",
              "      <td>-0.033724</td>\n",
              "      <td>-0.066033</td>\n",
              "      <td>-0.011467</td>\n",
              "      <td>0.148273</td>\n",
              "      <td>-0.270828</td>\n",
              "      <td>0.099840</td>\n",
              "      <td>0.127823</td>\n",
              "      <td>-0.090725</td>\n",
              "      <td>-0.291199</td>\n",
              "      <td>-0.178715</td>\n",
              "    </tr>\n",
              "    <tr>\n",
              "      <th>4</th>\n",
              "      <td>0.010700</td>\n",
              "      <td>0.106362</td>\n",
              "      <td>-0.045609</td>\n",
              "      <td>-0.027944</td>\n",
              "      <td>-0.061994</td>\n",
              "      <td>-0.040095</td>\n",
              "      <td>0.175118</td>\n",
              "      <td>-0.341968</td>\n",
              "      <td>-0.027564</td>\n",
              "      <td>0.030356</td>\n",
              "      <td>0.145610</td>\n",
              "      <td>0.041177</td>\n",
              "      <td>-0.824256</td>\n",
              "      <td>0.154942</td>\n",
              "      <td>0.065042</td>\n",
              "      <td>-0.105719</td>\n",
              "      <td>0.084132</td>\n",
              "      <td>0.015968</td>\n",
              "      <td>0.198163</td>\n",
              "      <td>-0.051885</td>\n",
              "      <td>-0.170522</td>\n",
              "      <td>-0.036614</td>\n",
              "      <td>-0.022403</td>\n",
              "      <td>-0.270810</td>\n",
              "      <td>-0.051687</td>\n",
              "    </tr>\n",
              "    <tr>\n",
              "      <th>...</th>\n",
              "      <td>...</td>\n",
              "      <td>...</td>\n",
              "      <td>...</td>\n",
              "      <td>...</td>\n",
              "      <td>...</td>\n",
              "      <td>...</td>\n",
              "      <td>...</td>\n",
              "      <td>...</td>\n",
              "      <td>...</td>\n",
              "      <td>...</td>\n",
              "      <td>...</td>\n",
              "      <td>...</td>\n",
              "      <td>...</td>\n",
              "      <td>...</td>\n",
              "      <td>...</td>\n",
              "      <td>...</td>\n",
              "      <td>...</td>\n",
              "      <td>...</td>\n",
              "      <td>...</td>\n",
              "      <td>...</td>\n",
              "      <td>...</td>\n",
              "      <td>...</td>\n",
              "      <td>...</td>\n",
              "      <td>...</td>\n",
              "      <td>...</td>\n",
              "    </tr>\n",
              "    <tr>\n",
              "      <th>18158</th>\n",
              "      <td>0.068196</td>\n",
              "      <td>0.232128</td>\n",
              "      <td>0.084904</td>\n",
              "      <td>-0.170493</td>\n",
              "      <td>0.003719</td>\n",
              "      <td>-0.088877</td>\n",
              "      <td>0.527260</td>\n",
              "      <td>0.026907</td>\n",
              "      <td>-0.020015</td>\n",
              "      <td>0.118675</td>\n",
              "      <td>-0.070675</td>\n",
              "      <td>0.160058</td>\n",
              "      <td>-1.776028</td>\n",
              "      <td>0.137248</td>\n",
              "      <td>0.220457</td>\n",
              "      <td>-0.129746</td>\n",
              "      <td>0.188813</td>\n",
              "      <td>-0.176381</td>\n",
              "      <td>0.013349</td>\n",
              "      <td>-0.074251</td>\n",
              "      <td>-0.018184</td>\n",
              "      <td>0.080001</td>\n",
              "      <td>0.130804</td>\n",
              "      <td>-0.048743</td>\n",
              "      <td>-0.079874</td>\n",
              "    </tr>\n",
              "    <tr>\n",
              "      <th>18159</th>\n",
              "      <td>0.135183</td>\n",
              "      <td>0.103666</td>\n",
              "      <td>-0.183617</td>\n",
              "      <td>0.069301</td>\n",
              "      <td>0.194723</td>\n",
              "      <td>-0.035908</td>\n",
              "      <td>0.397737</td>\n",
              "      <td>-0.391050</td>\n",
              "      <td>0.025930</td>\n",
              "      <td>0.104589</td>\n",
              "      <td>0.088990</td>\n",
              "      <td>0.076809</td>\n",
              "      <td>-1.422444</td>\n",
              "      <td>0.272032</td>\n",
              "      <td>0.283920</td>\n",
              "      <td>0.007851</td>\n",
              "      <td>0.152214</td>\n",
              "      <td>0.103808</td>\n",
              "      <td>0.302962</td>\n",
              "      <td>-0.237584</td>\n",
              "      <td>-0.146742</td>\n",
              "      <td>0.087779</td>\n",
              "      <td>0.016166</td>\n",
              "      <td>-0.096209</td>\n",
              "      <td>-0.205875</td>\n",
              "    </tr>\n",
              "    <tr>\n",
              "      <th>18160</th>\n",
              "      <td>0.012991</td>\n",
              "      <td>0.094557</td>\n",
              "      <td>0.045770</td>\n",
              "      <td>0.002997</td>\n",
              "      <td>-0.000554</td>\n",
              "      <td>-0.057806</td>\n",
              "      <td>0.143313</td>\n",
              "      <td>-0.167676</td>\n",
              "      <td>-0.063106</td>\n",
              "      <td>-0.008966</td>\n",
              "      <td>-0.018790</td>\n",
              "      <td>0.015629</td>\n",
              "      <td>-0.523774</td>\n",
              "      <td>0.007312</td>\n",
              "      <td>0.009046</td>\n",
              "      <td>-0.010261</td>\n",
              "      <td>0.048903</td>\n",
              "      <td>-0.101382</td>\n",
              "      <td>0.002362</td>\n",
              "      <td>-0.044212</td>\n",
              "      <td>-0.071073</td>\n",
              "      <td>0.078687</td>\n",
              "      <td>0.016030</td>\n",
              "      <td>-0.094016</td>\n",
              "      <td>-0.049905</td>\n",
              "    </tr>\n",
              "    <tr>\n",
              "      <th>18161</th>\n",
              "      <td>-0.094936</td>\n",
              "      <td>0.232104</td>\n",
              "      <td>-0.101476</td>\n",
              "      <td>0.067977</td>\n",
              "      <td>0.059048</td>\n",
              "      <td>-0.099540</td>\n",
              "      <td>0.410378</td>\n",
              "      <td>-0.217557</td>\n",
              "      <td>-0.181291</td>\n",
              "      <td>0.041748</td>\n",
              "      <td>-0.102457</td>\n",
              "      <td>0.161872</td>\n",
              "      <td>-1.260708</td>\n",
              "      <td>-0.074044</td>\n",
              "      <td>0.073398</td>\n",
              "      <td>0.053315</td>\n",
              "      <td>0.095231</td>\n",
              "      <td>-0.091243</td>\n",
              "      <td>0.197620</td>\n",
              "      <td>-0.116799</td>\n",
              "      <td>0.012127</td>\n",
              "      <td>0.090565</td>\n",
              "      <td>-0.012347</td>\n",
              "      <td>-0.159820</td>\n",
              "      <td>-0.066846</td>\n",
              "    </tr>\n",
              "    <tr>\n",
              "      <th>18162</th>\n",
              "      <td>-0.215949</td>\n",
              "      <td>0.276299</td>\n",
              "      <td>-0.063673</td>\n",
              "      <td>-0.081093</td>\n",
              "      <td>0.109579</td>\n",
              "      <td>-0.254964</td>\n",
              "      <td>0.326560</td>\n",
              "      <td>-0.403375</td>\n",
              "      <td>0.059703</td>\n",
              "      <td>-0.071088</td>\n",
              "      <td>0.176514</td>\n",
              "      <td>0.187138</td>\n",
              "      <td>-1.594836</td>\n",
              "      <td>0.096895</td>\n",
              "      <td>0.039772</td>\n",
              "      <td>0.060045</td>\n",
              "      <td>0.172573</td>\n",
              "      <td>-0.128602</td>\n",
              "      <td>0.081719</td>\n",
              "      <td>-0.102285</td>\n",
              "      <td>-0.036974</td>\n",
              "      <td>0.163457</td>\n",
              "      <td>-0.324558</td>\n",
              "      <td>-0.501477</td>\n",
              "      <td>-0.139040</td>\n",
              "    </tr>\n",
              "  </tbody>\n",
              "</table>\n",
              "<p>18163 rows × 25 columns</p>\n",
              "</div>"
            ],
            "text/plain": [
              "             0         1         2   ...        22        23        24\n",
              "0     -0.074209  0.174633 -0.018545  ...  0.154567  0.132431  0.081430\n",
              "1     -0.096885  0.198095 -0.036882  ... -0.018892  0.075888 -0.009154\n",
              "2     -0.040021  0.258818 -0.079311  ...  0.077036 -0.134057 -0.034076\n",
              "3      0.035770  0.332920 -0.080705  ... -0.090725 -0.291199 -0.178715\n",
              "4      0.010700  0.106362 -0.045609  ... -0.022403 -0.270810 -0.051687\n",
              "...         ...       ...       ...  ...       ...       ...       ...\n",
              "18158  0.068196  0.232128  0.084904  ...  0.130804 -0.048743 -0.079874\n",
              "18159  0.135183  0.103666 -0.183617  ...  0.016166 -0.096209 -0.205875\n",
              "18160  0.012991  0.094557  0.045770  ...  0.016030 -0.094016 -0.049905\n",
              "18161 -0.094936  0.232104 -0.101476  ... -0.012347 -0.159820 -0.066846\n",
              "18162 -0.215949  0.276299 -0.063673  ... -0.324558 -0.501477 -0.139040\n",
              "\n",
              "[18163 rows x 25 columns]"
            ]
          },
          "metadata": {},
          "execution_count": 616
        }
      ]
    },
    {
      "cell_type": "code",
      "metadata": {
        "id": "jKSYQD9YMcHd"
      },
      "source": [
        "train = df.iloc[:train_df.shape[0], :]\n",
        "dev = df.iloc[train_df.shape[0]:, :]\n",
        "\n",
        "x = torch.tensor(df.values, dtype=torch.float)\n",
        "y = torch.tensor(total_df['label'].values)\n",
        "\n",
        "x_train = torch.tensor(train.values, dtype=torch.float)\n",
        "y_train = torch.tensor(train_df['label'].values)\n",
        "\n",
        "x_dev = torch.tensor(dev.values, dtype=torch.float)\n",
        "y_dev = torch.tensor(dev_df['label'].values)\n",
        "\n",
        "# Initialize dataloaders\n",
        "train_dataset = TensorDataset(x_train, y_train)\n",
        "train_dataloader = DataLoader(train_dataset, batch_size=64, shuffle=True)\n",
        "\n",
        "dev_dataset = TensorDataset(x_dev, y_dev)\n",
        "dev_dataloader = DataLoader(dev_dataset, batch_size=64, shuffle=True)"
      ],
      "execution_count": 617,
      "outputs": []
    },
    {
      "cell_type": "markdown",
      "metadata": {
        "id": "pBYKnos9o6qR"
      },
      "source": [
        "## Model"
      ]
    },
    {
      "cell_type": "code",
      "metadata": {
        "id": "AkBnnj16ZTC5"
      },
      "source": [
        "class Net(nn.Module):\n",
        "    def __init__(self, D_in, H1, H2, D_out):\n",
        "        super(Net, self).__init__()\n",
        "        self.linear1 = nn.Linear(D_in, H1)\n",
        "        self.batchnorm1 = nn.BatchNorm1d(H1)\n",
        "        self.relu = nn.ReLU()\n",
        "        self.linear2 = nn.Linear(H1, H2)\n",
        "        self.sigmoid = nn.Sigmoid()\n",
        "        self.linear3 = nn.Linear(H2, D_out)\n",
        "        \n",
        "        #self.batchnorm2 = nn.BatchNorm1d(H2)\n",
        "        #self.batchnorm3 = nn.BatchNorm1d(D_out)\n",
        "        #self.linear4 = nn.Linear(H3, D_out)\n",
        "        #self.linear5 = nn.Linear(H4, D_out)\n",
        "        #self.dropout = nn.Dropout(p=0.2)\n",
        "        #self.softmax = nn.Softmax(dim=1)\n",
        "        # self.logsoftmax = nn.LogSoftmax()\n",
        "        # self.softmin = nn.Softmin()\n",
        "        \n",
        "    def forward(self, x):\n",
        "        out = self.linear1(x)\n",
        "        out = self.batchnorm1(out)\n",
        "        out = self.relu(out)\n",
        "        out = self.linear2(out)\n",
        "        out = self.sigmoid(out)\n",
        "        out = self.linear3(out)\n",
        "\n",
        "        # out = self.relu(out)\n",
        "        # out = self.linear4(out)\n",
        "        #out = self.batchnorm3(out)\n",
        "        #out = self.relu(out)\n",
        "        #out = self.batchnorm2(out)\n",
        "        #out = self.relu(out)    \n",
        "        #out = self.softmax(out)\n",
        "        #out = self.softmin(out)\n",
        "        return out"
      ],
      "execution_count": 618,
      "outputs": []
    },
    {
      "cell_type": "code",
      "metadata": {
        "id": "ZW7kkrK-ZZ3e"
      },
      "source": [
        "#Define layer sizes\n",
        "D_in = x.shape[1]\n",
        "H1 = 128\n",
        "H2 = 64\n",
        "D_out = 3\n",
        "\n",
        "#Define Hyperparameters\n",
        "learning_rate = 1e-4\n",
        "\n",
        "#Initialize model, optimizer\n",
        "model = Net(D_in, H1, H2, D_out)\n",
        "\n",
        "optimizer = optim.Adam(model.parameters(), lr=learning_rate)\n",
        "#optimizer = optim.SGD(model.parameters(), lr=learning_rate, momentum=0.2, weight_decay=0.01)\n",
        "#optimizer = optim.Adagrad(model.parameters(), lr=learning_rate)"
      ],
      "execution_count": 619,
      "outputs": []
    },
    {
      "cell_type": "code",
      "metadata": {
        "id": "VvAyCpStZ3j1",
        "colab": {
          "base_uri": "https://localhost:8080/"
        },
        "outputId": "f210c10a-2d48-49c5-c7d4-50a00f06061f"
      },
      "source": [
        "model"
      ],
      "execution_count": 620,
      "outputs": [
        {
          "output_type": "execute_result",
          "data": {
            "text/plain": [
              "Net(\n",
              "  (linear1): Linear(in_features=25, out_features=128, bias=True)\n",
              "  (batchnorm1): BatchNorm1d(128, eps=1e-05, momentum=0.1, affine=True, track_running_stats=True)\n",
              "  (relu): ReLU()\n",
              "  (linear2): Linear(in_features=128, out_features=64, bias=True)\n",
              "  (sigmoid): Sigmoid()\n",
              "  (linear3): Linear(in_features=64, out_features=3, bias=True)\n",
              ")"
            ]
          },
          "metadata": {},
          "execution_count": 620
        }
      ]
    },
    {
      "cell_type": "code",
      "metadata": {
        "id": "vtP2ZPiMZ5-A",
        "colab": {
          "base_uri": "https://localhost:8080/"
        },
        "outputId": "e9d34f34-6508-41eb-b6e8-b088fc7782a9"
      },
      "source": [
        "epoch_loss = []\n",
        "epoch_loss_dev = []\n",
        "epoch_acc = []\n",
        "epoch_acc_dev = []\n",
        "\n",
        "for epoch in range(100):\n",
        "\n",
        "  batch_losses = []\n",
        "  batch_acc = 0\n",
        "  total = 0\n",
        "  total_dev = 0\n",
        "  loss = 0\n",
        "  pred = []\n",
        "  true = []\n",
        "  pred_dev = []\n",
        "  true_dev = []\n",
        "  pred_proba = []\n",
        "\n",
        "  # training\n",
        "  model.train()\n",
        "  for x_batch, y_batch in train_dataloader:  # for every batch\n",
        "    y_pred = model(x_batch).squeeze(1)\n",
        "    loss = F.cross_entropy(y_pred, y_batch)\n",
        "    # loss = nn.NLLLoss()                    # with softmax in output of model\n",
        "    # loss_dev = loss(y_dev_pred, y_batch)\n",
        "    batch_losses.append(loss)\n",
        "    #Delete previously stored gradients\n",
        "    optimizer.zero_grad()\n",
        "    #Perform backpropagation starting from the loss calculated in this epoch\n",
        "    loss.backward()\n",
        "    #Update model's weights based on the gradients calculated during backprop\n",
        "    optimizer.step()\n",
        "\n",
        "    # Total number of labels\n",
        "    total += y_batch.size(0)\n",
        "    # Total correct predictions\n",
        "    _,pred_label = torch.max(y_pred, dim = 1)\n",
        "    batch_acc += (pred_label == y_batch).sum()\n",
        "    for i in pred_label:\n",
        "      pred.append(i)\n",
        "    for i in y_batch:\n",
        "      true.append(i.item())\n",
        "\n",
        "  # validation    \n",
        "  with torch.no_grad():\n",
        "    batch_losses_dev = []\n",
        "    batch_acc_dev = 0\n",
        "    model.eval()\n",
        "\n",
        "    for x_batch, y_batch in dev_dataloader:\n",
        "        y_dev_pred = model(x_batch).squeeze(1)\n",
        "        prob = F.softmax(y_dev_pred, dim=1)   # probability that an instance belogs to each class\n",
        "        for i in prob:\n",
        "          pred_proba.append(i.tolist())\n",
        "        loss_dev = F.cross_entropy(y_dev_pred, y_batch)\n",
        "        # loss = nn.NLLLoss()\n",
        "        # loss_dev = loss(y_dev_pred, y_batch)\n",
        "        batch_losses_dev.append(loss_dev)\n",
        "        # number of labels\n",
        "        total_dev += y_batch.size(0)\n",
        "        # correct predictions\n",
        "        _,pred_label = torch.max(y_dev_pred, dim = 1)  # get max probability\n",
        "        batch_acc_dev += (pred_label == y_batch).sum()\n",
        "        for i in pred_label:\n",
        "          pred_dev.append(i)\n",
        "        for i in y_batch:\n",
        "          true_dev.append(i.item())\n",
        "\n",
        "\n",
        "  accuracy = batch_acc/total\n",
        "  accuracy_dev = batch_acc_dev/total_dev\n",
        "\n",
        "  train_loss = sum(batch_losses)/len(train_dataloader)\n",
        "  valid_loss = sum(batch_losses_dev)/len(dev_dataloader)\n",
        "\n",
        "  epoch_loss.append(train_loss)\n",
        "  epoch_loss_dev.append(valid_loss)\n",
        "  epoch_acc.append(accuracy)\n",
        "  epoch_acc_dev.append(accuracy_dev)\n",
        "\n",
        "  print(f\"Epoch {epoch:3}: | Train Loss = {train_loss:.5f} | Train Accuracy = {accuracy:.5f} | Validation Loss = {valid_loss:.5f} | Validation Accuracy = {accuracy_dev:.5f} \")"
      ],
      "execution_count": 621,
      "outputs": [
        {
          "output_type": "stream",
          "name": "stdout",
          "text": [
            "Epoch   0: | Train Loss = 1.03636 | Train Accuracy = 0.44582 | Validation Loss = 0.95381 | Validation Accuracy = 0.52585 \n",
            "Epoch   1: | Train Loss = 0.93604 | Train Accuracy = 0.54474 | Validation Loss = 0.90543 | Validation Accuracy = 0.57055 \n",
            "Epoch   2: | Train Loss = 0.89540 | Train Accuracy = 0.57994 | Validation Loss = 0.87207 | Validation Accuracy = 0.60167 \n",
            "Epoch   3: | Train Loss = 0.86950 | Train Accuracy = 0.59776 | Validation Loss = 0.85244 | Validation Accuracy = 0.61087 \n",
            "Epoch   4: | Train Loss = 0.85448 | Train Accuracy = 0.60683 | Validation Loss = 0.84007 | Validation Accuracy = 0.61087 \n",
            "Epoch   5: | Train Loss = 0.84547 | Train Accuracy = 0.60802 | Validation Loss = 0.83475 | Validation Accuracy = 0.61043 \n",
            "Epoch   6: | Train Loss = 0.83627 | Train Accuracy = 0.61180 | Validation Loss = 0.82609 | Validation Accuracy = 0.61350 \n",
            "Epoch   7: | Train Loss = 0.83173 | Train Accuracy = 0.61665 | Validation Loss = 0.81714 | Validation Accuracy = 0.61437 \n",
            "Epoch   8: | Train Loss = 0.82649 | Train Accuracy = 0.62005 | Validation Loss = 0.81509 | Validation Accuracy = 0.61832 \n",
            "Epoch   9: | Train Loss = 0.82064 | Train Accuracy = 0.62118 | Validation Loss = 0.81159 | Validation Accuracy = 0.61481 \n",
            "Epoch  10: | Train Loss = 0.81880 | Train Accuracy = 0.62225 | Validation Loss = 0.80788 | Validation Accuracy = 0.61832 \n",
            "Epoch  11: | Train Loss = 0.81420 | Train Accuracy = 0.62572 | Validation Loss = 0.80454 | Validation Accuracy = 0.62577 \n",
            "Epoch  12: | Train Loss = 0.81258 | Train Accuracy = 0.63038 | Validation Loss = 0.80191 | Validation Accuracy = 0.62182 \n",
            "Epoch  13: | Train Loss = 0.80886 | Train Accuracy = 0.63025 | Validation Loss = 0.80124 | Validation Accuracy = 0.62401 \n",
            "Epoch  14: | Train Loss = 0.80889 | Train Accuracy = 0.62949 | Validation Loss = 0.79866 | Validation Accuracy = 0.62752 \n",
            "Epoch  15: | Train Loss = 0.80480 | Train Accuracy = 0.63113 | Validation Loss = 0.79603 | Validation Accuracy = 0.62752 \n",
            "Epoch  16: | Train Loss = 0.80317 | Train Accuracy = 0.63258 | Validation Loss = 0.79241 | Validation Accuracy = 0.62752 \n",
            "Epoch  17: | Train Loss = 0.80262 | Train Accuracy = 0.63226 | Validation Loss = 0.79236 | Validation Accuracy = 0.62840 \n",
            "Epoch  18: | Train Loss = 0.79851 | Train Accuracy = 0.63459 | Validation Loss = 0.79134 | Validation Accuracy = 0.62796 \n",
            "Epoch  19: | Train Loss = 0.79582 | Train Accuracy = 0.63724 | Validation Loss = 0.79114 | Validation Accuracy = 0.63015 \n",
            "Epoch  20: | Train Loss = 0.79674 | Train Accuracy = 0.63623 | Validation Loss = 0.79250 | Validation Accuracy = 0.62971 \n",
            "Epoch  21: | Train Loss = 0.79568 | Train Accuracy = 0.63850 | Validation Loss = 0.78910 | Validation Accuracy = 0.62840 \n",
            "Epoch  22: | Train Loss = 0.79219 | Train Accuracy = 0.63680 | Validation Loss = 0.78630 | Validation Accuracy = 0.62840 \n",
            "Epoch  23: | Train Loss = 0.79103 | Train Accuracy = 0.63743 | Validation Loss = 0.78457 | Validation Accuracy = 0.63409 \n",
            "Epoch  24: | Train Loss = 0.78786 | Train Accuracy = 0.63881 | Validation Loss = 0.78786 | Validation Accuracy = 0.63585 \n",
            "Epoch  25: | Train Loss = 0.78950 | Train Accuracy = 0.64051 | Validation Loss = 0.78609 | Validation Accuracy = 0.63234 \n",
            "Epoch  26: | Train Loss = 0.78750 | Train Accuracy = 0.63774 | Validation Loss = 0.78151 | Validation Accuracy = 0.63760 \n",
            "Epoch  27: | Train Loss = 0.78584 | Train Accuracy = 0.64121 | Validation Loss = 0.77966 | Validation Accuracy = 0.63672 \n",
            "Epoch  28: | Train Loss = 0.78536 | Train Accuracy = 0.64203 | Validation Loss = 0.77801 | Validation Accuracy = 0.64067 \n",
            "Epoch  29: | Train Loss = 0.78356 | Train Accuracy = 0.64505 | Validation Loss = 0.78189 | Validation Accuracy = 0.63541 \n",
            "Epoch  30: | Train Loss = 0.78316 | Train Accuracy = 0.64221 | Validation Loss = 0.77949 | Validation Accuracy = 0.63979 \n",
            "Epoch  31: | Train Loss = 0.77964 | Train Accuracy = 0.64801 | Validation Loss = 0.77826 | Validation Accuracy = 0.64461 \n",
            "Epoch  32: | Train Loss = 0.78117 | Train Accuracy = 0.64561 | Validation Loss = 0.77790 | Validation Accuracy = 0.64636 \n",
            "Epoch  33: | Train Loss = 0.78182 | Train Accuracy = 0.64530 | Validation Loss = 0.77715 | Validation Accuracy = 0.64592 \n",
            "Epoch  34: | Train Loss = 0.77848 | Train Accuracy = 0.64379 | Validation Loss = 0.77754 | Validation Accuracy = 0.64724 \n",
            "Epoch  35: | Train Loss = 0.77614 | Train Accuracy = 0.64920 | Validation Loss = 0.77626 | Validation Accuracy = 0.64812 \n",
            "Epoch  36: | Train Loss = 0.77833 | Train Accuracy = 0.64952 | Validation Loss = 0.77679 | Validation Accuracy = 0.64680 \n",
            "Epoch  37: | Train Loss = 0.77566 | Train Accuracy = 0.64618 | Validation Loss = 0.77350 | Validation Accuracy = 0.64373 \n",
            "Epoch  38: | Train Loss = 0.77486 | Train Accuracy = 0.64990 | Validation Loss = 0.77237 | Validation Accuracy = 0.64812 \n",
            "Epoch  39: | Train Loss = 0.77439 | Train Accuracy = 0.64990 | Validation Loss = 0.77548 | Validation Accuracy = 0.64154 \n",
            "Epoch  40: | Train Loss = 0.77239 | Train Accuracy = 0.65166 | Validation Loss = 0.77104 | Validation Accuracy = 0.64680 \n",
            "Epoch  41: | Train Loss = 0.77185 | Train Accuracy = 0.64964 | Validation Loss = 0.77448 | Validation Accuracy = 0.64987 \n",
            "Epoch  42: | Train Loss = 0.77212 | Train Accuracy = 0.65122 | Validation Loss = 0.77527 | Validation Accuracy = 0.64680 \n",
            "Epoch  43: | Train Loss = 0.77198 | Train Accuracy = 0.64857 | Validation Loss = 0.77103 | Validation Accuracy = 0.64812 \n",
            "Epoch  44: | Train Loss = 0.76778 | Train Accuracy = 0.65317 | Validation Loss = 0.77188 | Validation Accuracy = 0.64680 \n",
            "Epoch  45: | Train Loss = 0.76910 | Train Accuracy = 0.65241 | Validation Loss = 0.77137 | Validation Accuracy = 0.64680 \n",
            "Epoch  46: | Train Loss = 0.76985 | Train Accuracy = 0.65235 | Validation Loss = 0.76974 | Validation Accuracy = 0.65031 \n",
            "Epoch  47: | Train Loss = 0.76694 | Train Accuracy = 0.65607 | Validation Loss = 0.77320 | Validation Accuracy = 0.64855 \n",
            "Epoch  48: | Train Loss = 0.76823 | Train Accuracy = 0.65405 | Validation Loss = 0.76922 | Validation Accuracy = 0.65469 \n",
            "Epoch  49: | Train Loss = 0.76421 | Train Accuracy = 0.65512 | Validation Loss = 0.77142 | Validation Accuracy = 0.64636 \n",
            "Epoch  50: | Train Loss = 0.76532 | Train Accuracy = 0.65531 | Validation Loss = 0.77115 | Validation Accuracy = 0.65031 \n",
            "Epoch  51: | Train Loss = 0.76738 | Train Accuracy = 0.65487 | Validation Loss = 0.77153 | Validation Accuracy = 0.65206 \n",
            "Epoch  52: | Train Loss = 0.76417 | Train Accuracy = 0.65500 | Validation Loss = 0.77031 | Validation Accuracy = 0.65557 \n",
            "Epoch  53: | Train Loss = 0.76326 | Train Accuracy = 0.65399 | Validation Loss = 0.76892 | Validation Accuracy = 0.65206 \n",
            "Epoch  54: | Train Loss = 0.76516 | Train Accuracy = 0.65827 | Validation Loss = 0.76861 | Validation Accuracy = 0.65294 \n",
            "Epoch  55: | Train Loss = 0.76286 | Train Accuracy = 0.65588 | Validation Loss = 0.77102 | Validation Accuracy = 0.64812 \n",
            "Epoch  56: | Train Loss = 0.76236 | Train Accuracy = 0.65651 | Validation Loss = 0.76892 | Validation Accuracy = 0.65118 \n",
            "Epoch  57: | Train Loss = 0.76155 | Train Accuracy = 0.65733 | Validation Loss = 0.77114 | Validation Accuracy = 0.65074 \n",
            "Epoch  58: | Train Loss = 0.75894 | Train Accuracy = 0.65682 | Validation Loss = 0.76901 | Validation Accuracy = 0.64899 \n",
            "Epoch  59: | Train Loss = 0.76049 | Train Accuracy = 0.65701 | Validation Loss = 0.76771 | Validation Accuracy = 0.65118 \n",
            "Epoch  60: | Train Loss = 0.75863 | Train Accuracy = 0.65651 | Validation Loss = 0.76602 | Validation Accuracy = 0.65250 \n",
            "Epoch  61: | Train Loss = 0.75754 | Train Accuracy = 0.65903 | Validation Loss = 0.76764 | Validation Accuracy = 0.64987 \n",
            "Epoch  62: | Train Loss = 0.76189 | Train Accuracy = 0.65833 | Validation Loss = 0.76842 | Validation Accuracy = 0.65162 \n",
            "Epoch  63: | Train Loss = 0.75870 | Train Accuracy = 0.65519 | Validation Loss = 0.77105 | Validation Accuracy = 0.64812 \n",
            "Epoch  64: | Train Loss = 0.75847 | Train Accuracy = 0.66016 | Validation Loss = 0.76674 | Validation Accuracy = 0.65819 \n",
            "Epoch  65: | Train Loss = 0.75802 | Train Accuracy = 0.65796 | Validation Loss = 0.77270 | Validation Accuracy = 0.65206 \n",
            "Epoch  66: | Train Loss = 0.75615 | Train Accuracy = 0.65871 | Validation Loss = 0.76461 | Validation Accuracy = 0.65381 \n",
            "Epoch  67: | Train Loss = 0.75651 | Train Accuracy = 0.66155 | Validation Loss = 0.76400 | Validation Accuracy = 0.65469 \n",
            "Epoch  68: | Train Loss = 0.75344 | Train Accuracy = 0.65985 | Validation Loss = 0.76793 | Validation Accuracy = 0.65118 \n",
            "Epoch  69: | Train Loss = 0.75670 | Train Accuracy = 0.65859 | Validation Loss = 0.76572 | Validation Accuracy = 0.65557 \n",
            "Epoch  70: | Train Loss = 0.75513 | Train Accuracy = 0.66117 | Validation Loss = 0.76587 | Validation Accuracy = 0.65644 \n",
            "Epoch  71: | Train Loss = 0.75638 | Train Accuracy = 0.66085 | Validation Loss = 0.76648 | Validation Accuracy = 0.65425 \n",
            "Epoch  72: | Train Loss = 0.75356 | Train Accuracy = 0.66180 | Validation Loss = 0.76621 | Validation Accuracy = 0.65206 \n",
            "Epoch  73: | Train Loss = 0.75260 | Train Accuracy = 0.66060 | Validation Loss = 0.76738 | Validation Accuracy = 0.65074 \n",
            "Epoch  74: | Train Loss = 0.75332 | Train Accuracy = 0.65670 | Validation Loss = 0.76409 | Validation Accuracy = 0.65294 \n",
            "Epoch  75: | Train Loss = 0.75284 | Train Accuracy = 0.66167 | Validation Loss = 0.76676 | Validation Accuracy = 0.65381 \n",
            "Epoch  76: | Train Loss = 0.75249 | Train Accuracy = 0.66173 | Validation Loss = 0.76463 | Validation Accuracy = 0.65513 \n",
            "Epoch  77: | Train Loss = 0.75331 | Train Accuracy = 0.66375 | Validation Loss = 0.76676 | Validation Accuracy = 0.65337 \n",
            "Epoch  78: | Train Loss = 0.74984 | Train Accuracy = 0.66325 | Validation Loss = 0.76689 | Validation Accuracy = 0.64636 \n",
            "Epoch  79: | Train Loss = 0.75171 | Train Accuracy = 0.65953 | Validation Loss = 0.76525 | Validation Accuracy = 0.65600 \n",
            "Epoch  80: | Train Loss = 0.75146 | Train Accuracy = 0.66306 | Validation Loss = 0.76601 | Validation Accuracy = 0.65118 \n",
            "Epoch  81: | Train Loss = 0.75025 | Train Accuracy = 0.66350 | Validation Loss = 0.76774 | Validation Accuracy = 0.65337 \n",
            "Epoch  82: | Train Loss = 0.74957 | Train Accuracy = 0.66117 | Validation Loss = 0.76590 | Validation Accuracy = 0.65074 \n",
            "Epoch  83: | Train Loss = 0.74926 | Train Accuracy = 0.66513 | Validation Loss = 0.76683 | Validation Accuracy = 0.65907 \n",
            "Epoch  84: | Train Loss = 0.74507 | Train Accuracy = 0.66539 | Validation Loss = 0.76418 | Validation Accuracy = 0.65337 \n",
            "Epoch  85: | Train Loss = 0.74703 | Train Accuracy = 0.66513 | Validation Loss = 0.76527 | Validation Accuracy = 0.65557 \n",
            "Epoch  86: | Train Loss = 0.74714 | Train Accuracy = 0.66904 | Validation Loss = 0.76615 | Validation Accuracy = 0.64899 \n",
            "Epoch  87: | Train Loss = 0.74665 | Train Accuracy = 0.66388 | Validation Loss = 0.76640 | Validation Accuracy = 0.65294 \n",
            "Epoch  88: | Train Loss = 0.74512 | Train Accuracy = 0.66683 | Validation Loss = 0.76352 | Validation Accuracy = 0.65381 \n",
            "Epoch  89: | Train Loss = 0.74899 | Train Accuracy = 0.66369 | Validation Loss = 0.76381 | Validation Accuracy = 0.65557 \n",
            "Epoch  90: | Train Loss = 0.74643 | Train Accuracy = 0.66394 | Validation Loss = 0.76437 | Validation Accuracy = 0.65250 \n",
            "Epoch  91: | Train Loss = 0.74908 | Train Accuracy = 0.66318 | Validation Loss = 0.76562 | Validation Accuracy = 0.65732 \n",
            "Epoch  92: | Train Loss = 0.74301 | Train Accuracy = 0.66891 | Validation Loss = 0.76446 | Validation Accuracy = 0.64899 \n",
            "Epoch  93: | Train Loss = 0.74237 | Train Accuracy = 0.66677 | Validation Loss = 0.76576 | Validation Accuracy = 0.65294 \n",
            "Epoch  94: | Train Loss = 0.74352 | Train Accuracy = 0.66734 | Validation Loss = 0.76570 | Validation Accuracy = 0.65688 \n",
            "Epoch  95: | Train Loss = 0.74197 | Train Accuracy = 0.66740 | Validation Loss = 0.76473 | Validation Accuracy = 0.65557 \n",
            "Epoch  96: | Train Loss = 0.74215 | Train Accuracy = 0.66772 | Validation Loss = 0.77279 | Validation Accuracy = 0.65074 \n",
            "Epoch  97: | Train Loss = 0.74150 | Train Accuracy = 0.66872 | Validation Loss = 0.76639 | Validation Accuracy = 0.65513 \n",
            "Epoch  98: | Train Loss = 0.73948 | Train Accuracy = 0.66923 | Validation Loss = 0.76636 | Validation Accuracy = 0.65031 \n",
            "Epoch  99: | Train Loss = 0.74209 | Train Accuracy = 0.66702 | Validation Loss = 0.76568 | Validation Accuracy = 0.65250 \n"
          ]
        }
      ]
    },
    {
      "cell_type": "markdown",
      "metadata": {
        "id": "uHPPRYbdkTLJ"
      },
      "source": [
        "## Evaluation"
      ]
    },
    {
      "cell_type": "code",
      "metadata": {
        "id": "xyaNtxfgn2fj",
        "colab": {
          "base_uri": "https://localhost:8080/",
          "height": 279
        },
        "outputId": "6a633ad2-b236-4272-91d3-7a981ab458b8"
      },
      "source": [
        "target_names = ['neutral', 'anti-vax', 'pro-vax']\n",
        "df = pd.DataFrame({'true':true})\n",
        "df2 = pd.DataFrame({'pred':pred})\n",
        "cm = confusion_matrix(true, pred)\n",
        "disp = ConfusionMatrixDisplay(confusion_matrix=cm, display_labels=target_names)\n",
        "disp.plot()\n",
        "plt.show()"
      ],
      "execution_count": 622,
      "outputs": [
        {
          "output_type": "display_data",
          "data": {
            "image/png": "[encoded data removed]",
            "text/plain": [
              "<Figure size 432x288 with 2 Axes>"
            ]
          },
          "metadata": {
            "needs_background": "light"
          }
        }
      ]
    },
    {
      "cell_type": "code",
      "metadata": {
        "colab": {
          "base_uri": "https://localhost:8080/"
        },
        "id": "7pR4Ze3Mn9lj",
        "outputId": "93369d57-230b-46db-c15a-fc005937ce06"
      },
      "source": [
        "print(\"Precision-Recall-F1 - Training Data :\")\n",
        "print(precision_recall_fscore_support(true, pred, average='micro'))\n",
        "print()\n",
        "print(\"Precision-Recall-F1 - Test Data :\")\n",
        "print(precision_recall_fscore_support(true_dev, pred_dev, average='micro'))\n",
        "print()"
      ],
      "execution_count": 623,
      "outputs": [
        {
          "output_type": "stream",
          "name": "stdout",
          "text": [
            "Precision-Recall-F1 - Training Data :\n",
            "(0.6670234871859455, 0.6670234871859455, 0.6670234871859455, None)\n",
            "\n",
            "Precision-Recall-F1 - Test Data :\n",
            "(0.6524978089395267, 0.6524978089395267, 0.6524978089395267, None)\n",
            "\n"
          ]
        }
      ]
    },
    {
      "cell_type": "code",
      "metadata": {
        "colab": {
          "base_uri": "https://localhost:8080/"
        },
        "id": "W4Tp1qZzn63i",
        "outputId": "c4cbff78-deed-4b8e-febc-04233e387c86"
      },
      "source": [
        "print(classification_report(true, pred))"
      ],
      "execution_count": 624,
      "outputs": [
        {
          "output_type": "stream",
          "name": "stdout",
          "text": [
            "              precision    recall  f1-score   support\n",
            "\n",
            "           0       0.72      0.76      0.74      7385\n",
            "           1       0.50      0.21      0.29      2070\n",
            "           2       0.63      0.71      0.67      6426\n",
            "\n",
            "    accuracy                           0.67     15881\n",
            "   macro avg       0.62      0.56      0.57     15881\n",
            "weighted avg       0.66      0.67      0.65     15881\n",
            "\n"
          ]
        }
      ]
    },
    {
      "cell_type": "code",
      "metadata": {
        "id": "AWCY94YTNCtF",
        "colab": {
          "base_uri": "https://localhost:8080/"
        },
        "outputId": "e7078d20-6e43-4dd9-d17c-ed5c526f2cad"
      },
      "source": [
        "macro_roc_auc_ovo = roc_auc_score(true_dev, pred_proba, multi_class=\"ovo\", average=\"macro\")\n",
        "weighted_roc_auc_ovo = roc_auc_score(true_dev, pred_proba, multi_class=\"ovo\", average=\"weighted\")\n",
        "macro_roc_auc_ovr = roc_auc_score(true_dev, pred_proba, multi_class=\"ovr\", average=\"macro\")\n",
        "weighted_roc_auc_ovr = roc_auc_score(true_dev, pred_proba, multi_class=\"ovr\", average=\"weighted\")\n",
        "print(\n",
        "    \"One-vs-One ROC AUC scores:\\n{:.6f} (macro),\\n{:.6f} \"\n",
        "    \"(weighted by prevalence)\".format(macro_roc_auc_ovo, weighted_roc_auc_ovo)\n",
        ")\n",
        "print()\n",
        "print(\n",
        "    \"One-vs-Rest ROC AUC scores:\\n{:.6f} (macro),\\n{:.6f} \"\n",
        "    \"(weighted by prevalence)\".format(macro_roc_auc_ovr, weighted_roc_auc_ovr)\n",
        ")"
      ],
      "execution_count": 625,
      "outputs": [
        {
          "output_type": "stream",
          "name": "stdout",
          "text": [
            "One-vs-One ROC AUC scores:\n",
            "0.785486 (macro),\n",
            "0.791694 (weighted by prevalence)\n",
            "\n",
            "One-vs-Rest ROC AUC scores:\n",
            "0.799733 (macro),\n",
            "0.798877 (weighted by prevalence)\n"
          ]
        }
      ]
    },
    {
      "cell_type": "markdown",
      "metadata": {
        "id": "JucQf53RkPau"
      },
      "source": [
        "## Plots"
      ]
    },
    {
      "cell_type": "code",
      "metadata": {
        "id": "UdlP0xdcU_p_",
        "colab": {
          "base_uri": "https://localhost:8080/",
          "height": 423
        },
        "outputId": "0ffcc323-12ec-4edc-fb76-e184bed3b45e"
      },
      "source": [
        "# probabilities\n",
        "df_prob = pd.DataFrame(pred_proba)\n",
        "df_prob"
      ],
      "execution_count": 626,
      "outputs": [
        {
          "output_type": "execute_result",
          "data": {
            "text/html": [
              "<div>\n",
              "<style scoped>\n",
              "    .dataframe tbody tr th:only-of-type {\n",
              "        vertical-align: middle;\n",
              "    }\n",
              "\n",
              "    .dataframe tbody tr th {\n",
              "        vertical-align: top;\n",
              "    }\n",
              "\n",
              "    .dataframe thead th {\n",
              "        text-align: right;\n",
              "    }\n",
              "</style>\n",
              "<table border=\"1\" class=\"dataframe\">\n",
              "  <thead>\n",
              "    <tr style=\"text-align: right;\">\n",
              "      <th></th>\n",
              "      <th>0</th>\n",
              "      <th>1</th>\n",
              "      <th>2</th>\n",
              "    </tr>\n",
              "  </thead>\n",
              "  <tbody>\n",
              "    <tr>\n",
              "      <th>0</th>\n",
              "      <td>0.504648</td>\n",
              "      <td>0.324584</td>\n",
              "      <td>0.170768</td>\n",
              "    </tr>\n",
              "    <tr>\n",
              "      <th>1</th>\n",
              "      <td>0.057320</td>\n",
              "      <td>0.394511</td>\n",
              "      <td>0.548169</td>\n",
              "    </tr>\n",
              "    <tr>\n",
              "      <th>2</th>\n",
              "      <td>0.691980</td>\n",
              "      <td>0.097829</td>\n",
              "      <td>0.210192</td>\n",
              "    </tr>\n",
              "    <tr>\n",
              "      <th>3</th>\n",
              "      <td>0.733632</td>\n",
              "      <td>0.046762</td>\n",
              "      <td>0.219606</td>\n",
              "    </tr>\n",
              "    <tr>\n",
              "      <th>4</th>\n",
              "      <td>0.959071</td>\n",
              "      <td>0.003829</td>\n",
              "      <td>0.037100</td>\n",
              "    </tr>\n",
              "    <tr>\n",
              "      <th>...</th>\n",
              "      <td>...</td>\n",
              "      <td>...</td>\n",
              "      <td>...</td>\n",
              "    </tr>\n",
              "    <tr>\n",
              "      <th>2277</th>\n",
              "      <td>0.907535</td>\n",
              "      <td>0.003782</td>\n",
              "      <td>0.088683</td>\n",
              "    </tr>\n",
              "    <tr>\n",
              "      <th>2278</th>\n",
              "      <td>0.960737</td>\n",
              "      <td>0.010049</td>\n",
              "      <td>0.029215</td>\n",
              "    </tr>\n",
              "    <tr>\n",
              "      <th>2279</th>\n",
              "      <td>0.654206</td>\n",
              "      <td>0.177556</td>\n",
              "      <td>0.168238</td>\n",
              "    </tr>\n",
              "    <tr>\n",
              "      <th>2280</th>\n",
              "      <td>0.453556</td>\n",
              "      <td>0.370621</td>\n",
              "      <td>0.175823</td>\n",
              "    </tr>\n",
              "    <tr>\n",
              "      <th>2281</th>\n",
              "      <td>0.036584</td>\n",
              "      <td>0.543579</td>\n",
              "      <td>0.419837</td>\n",
              "    </tr>\n",
              "  </tbody>\n",
              "</table>\n",
              "<p>2282 rows × 3 columns</p>\n",
              "</div>"
            ],
            "text/plain": [
              "             0         1         2\n",
              "0     0.504648  0.324584  0.170768\n",
              "1     0.057320  0.394511  0.548169\n",
              "2     0.691980  0.097829  0.210192\n",
              "3     0.733632  0.046762  0.219606\n",
              "4     0.959071  0.003829  0.037100\n",
              "...        ...       ...       ...\n",
              "2277  0.907535  0.003782  0.088683\n",
              "2278  0.960737  0.010049  0.029215\n",
              "2279  0.654206  0.177556  0.168238\n",
              "2280  0.453556  0.370621  0.175823\n",
              "2281  0.036584  0.543579  0.419837\n",
              "\n",
              "[2282 rows x 3 columns]"
            ]
          },
          "metadata": {},
          "execution_count": 626
        }
      ]
    },
    {
      "cell_type": "code",
      "metadata": {
        "id": "aHGuBmfJqWBm",
        "colab": {
          "base_uri": "https://localhost:8080/",
          "height": 295
        },
        "outputId": "125cdd7c-7b60-4343-e55e-1853ae80cb7c"
      },
      "source": [
        "# roc curve for classes\n",
        "fpr = {}\n",
        "tpr = {}\n",
        "thresh ={}\n",
        "\n",
        "n_class = 3\n",
        "\n",
        "for i in range(n_class):    \n",
        "    fpr[i], tpr[i], thresh[i] = roc_curve(true_dev, df_prob[i], pos_label=i)\n",
        "    \n",
        "# plotting    \n",
        "plt.plot(fpr[0], tpr[0], linestyle='--',color='orange', label='Class 0 vs Rest')\n",
        "plt.plot(fpr[1], tpr[1], linestyle='--',color='green', label='Class 1 vs Rest')\n",
        "plt.plot(fpr[2], tpr[2], linestyle='--',color='blue', label='Class 2 vs Rest')\n",
        "plt.title('Multiclass ROC curve')\n",
        "plt.xlabel('False Positive Rate')\n",
        "plt.ylabel('True Positive rate')\n",
        "plt.legend(loc='best')\n",
        "plt.savefig('Multiclass ROC',dpi=300);  "
      ],
      "execution_count": 627,
      "outputs": [
        {
          "output_type": "display_data",
          "data": {
            "image/png": "[encoded data removed]",
            "text/plain": [
              "<Figure size 432x288 with 1 Axes>"
            ]
          },
          "metadata": {
            "needs_background": "light"
          }
        }
      ]
    },
    {
      "cell_type": "code",
      "metadata": {
        "id": "foSvkW0ytpxF",
        "colab": {
          "base_uri": "https://localhost:8080/",
          "height": 733
        },
        "outputId": "cca5e856-250a-4e02-e8d1-1009ea50556a"
      },
      "source": [
        "def plot_graph_loss(epochs):\n",
        "    fig = plt.figure(figsize=(12,12))\n",
        "    plt.title(\"Train/Validation Loss\")\n",
        "    plt.plot(list(np.arange(epochs) + 1) , epoch_loss, label='train')\n",
        "    plt.plot(list(np.arange(epochs) + 1), epoch_loss_dev, label='validation')\n",
        "    plt.xlabel('num_epochs', fontsize=12)\n",
        "    plt.ylabel('loss', fontsize=12)\n",
        "plot_graph_loss(100)"
      ],
      "execution_count": 628,
      "outputs": [
        {
          "output_type": "display_data",
          "data": {
            "image/png": "[encoded data removed]",
            "text/plain": [
              "<Figure size 864x864 with 1 Axes>"
            ]
          },
          "metadata": {
            "needs_background": "light"
          }
        }
      ]
    },
    {
      "cell_type": "code",
      "metadata": {
        "colab": {
          "base_uri": "https://localhost:8080/",
          "height": 733
        },
        "id": "71cJojWzkNQs",
        "outputId": "6e7728c9-ca58-4d16-e3b9-4841ea1bce18"
      },
      "source": [
        "def plot_graph_acc(epochs):\n",
        "    fig = plt.figure(figsize=(12,12))\n",
        "    plt.title(\"Train/Validation Accuracy\")\n",
        "    plt.plot(list(np.arange(epochs) + 1) , epoch_acc, label='train')\n",
        "    plt.plot(list(np.arange(epochs) + 1), epoch_acc_dev, label='validation')\n",
        "    plt.xlabel('num_epochs', fontsize=12)\n",
        "    plt.ylabel('accuracy', fontsize=12)\n",
        "plot_graph_acc(100)    "
      ],
      "execution_count": 629,
      "outputs": [
        {
          "output_type": "display_data",
          "data": {
            "image/png": "[encoded data removed]",
            "text/plain": [
              "<Figure size 864x864 with 1 Axes>"
            ]
          },
          "metadata": {
            "needs_background": "light"
          }
        }
      ]
    }
  ]
}
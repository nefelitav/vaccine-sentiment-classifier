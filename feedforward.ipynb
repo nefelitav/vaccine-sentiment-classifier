{
  "nbformat": 4,
  "nbformat_minor": 0,
  "metadata": {
    "colab": {
      "name": "Vaccine.ipynb",
      "provenance": [],
      "collapsed_sections": []
    },
    "kernelspec": {
      "display_name": "Python 3",
      "name": "python3"
    },
    "language_info": {
      "name": "python"
    }
  },
  "cells": [
    {
      "cell_type": "markdown",
      "metadata": {
        "id": "EW34__zUBaFL"
      },
      "source": [
        "# Vaccine Sentiment Classification\n",
        "*by Nefeli Tavoulari*"
      ]
    },
    {
      "cell_type": "markdown",
      "metadata": {
        "id": "Jnk1un7nBfNR"
      },
      "source": [
        "#### In this notebook I classify tweets as Neutral, Pro-vax or Anti-vax."
      ]
    },
    {
      "cell_type": "markdown",
      "metadata": {
        "id": "kOXT2nsK1kOq"
      },
      "source": [
        "## Install Dependencies"
      ]
    },
    {
      "cell_type": "code",
      "metadata": {
        "colab": {
          "base_uri": "https://localhost:8080/"
        },
        "id": "jl8wlD1VRC3F",
        "outputId": "e69b7d34-ffc3-4348-831c-d8d5e4bf8221"
      },
      "source": [
        "!pip install -U torch==1.8.0 torchtext==0.9.0\n",
        "!pip install "
      ],
      "execution_count": 1,
      "outputs": [
        {
          "output_type": "stream",
          "name": "stdout",
          "text": [
            "Requirement already satisfied: torch==1.8.0 in /usr/local/lib/python3.7/dist-packages (1.8.0)\n",
            "Requirement already satisfied: torchtext==0.9.0 in /usr/local/lib/python3.7/dist-packages (0.9.0)\n",
            "Requirement already satisfied: numpy in /usr/local/lib/python3.7/dist-packages (from torch==1.8.0) (1.19.5)\n",
            "Requirement already satisfied: typing-extensions in /usr/local/lib/python3.7/dist-packages (from torch==1.8.0) (3.10.0.2)\n",
            "Requirement already satisfied: requests in /usr/local/lib/python3.7/dist-packages (from torchtext==0.9.0) (2.23.0)\n",
            "Requirement already satisfied: tqdm in /usr/local/lib/python3.7/dist-packages (from torchtext==0.9.0) (4.62.3)\n",
            "Requirement already satisfied: urllib3!=1.25.0,!=1.25.1,<1.26,>=1.21.1 in /usr/local/lib/python3.7/dist-packages (from requests->torchtext==0.9.0) (1.24.3)\n",
            "Requirement already satisfied: chardet<4,>=3.0.2 in /usr/local/lib/python3.7/dist-packages (from requests->torchtext==0.9.0) (3.0.4)\n",
            "Requirement already satisfied: idna<3,>=2.5 in /usr/local/lib/python3.7/dist-packages (from requests->torchtext==0.9.0) (2.10)\n",
            "Requirement already satisfied: certifi>=2017.4.17 in /usr/local/lib/python3.7/dist-packages (from requests->torchtext==0.9.0) (2021.10.8)\n",
            "\u001b[31mERROR: You must give at least one requirement to install (see \"pip help install\")\u001b[0m\n"
          ]
        }
      ]
    },
    {
      "cell_type": "markdown",
      "metadata": {
        "id": "sYnNIsloBipg"
      },
      "source": [
        "## Import Packages"
      ]
    },
    {
      "cell_type": "code",
      "metadata": {
        "colab": {
          "base_uri": "https://localhost:8080/"
        },
        "id": "sB8j3615BTwM",
        "outputId": "a04d2394-d512-481d-af52-452ad4176734"
      },
      "source": [
        "%matplotlib inline\n",
        "import io\n",
        "import re\n",
        "import csv\n",
        "\n",
        "import numpy as np\n",
        "import pandas as pd\n",
        "import matplotlib.pyplot as plt\n",
        "from google.colab import files\n",
        "from wordcloud import WordCloud\n",
        "import nltk\n",
        "import re\n",
        "import csv\n",
        "from nltk.stem import WordNetLemmatizer\n",
        "from nltk.corpus import stopwords \n",
        "\n",
        "import torch\n",
        "import torch.nn as nn\n",
        "from torchtext.legacy import data   \n",
        "from torchtext.vocab import GloVe\n",
        "from torchtext.legacy.data import BucketIterator\n",
        "from torch.utils.data import Dataset, DataLoader, TensorDataset\n",
        "import torch.nn.functional as F\n",
        "import torch.optim as optim\n",
        "\n",
        "import torchvision.transforms as transforms\n",
        "import torchvision.datasets as dsets\n",
        "\n",
        "from sklearn.metrics import precision_recall_fscore_support, confusion_matrix, ConfusionMatrixDisplay\n",
        "from sklearn.metrics import classification_report, roc_curve, roc_auc_score\n",
        "from sklearn.metrics import roc_curve, accuracy_score, mean_absolute_error\n",
        "\n",
        "SEED = 1234\n",
        "torch.manual_seed(SEED)\n",
        "torch.cuda.manual_seed(SEED)\n",
        "torch.backends.cudnn.deterministic = True\n",
        "nltk.download('stopwords')\n",
        "nltk.download('wordnet')\n",
        "stop_words = set(stopwords.words('english'))\n",
        "lemmatizer = WordNetLemmatizer()"
      ],
      "execution_count": 2,
      "outputs": [
        {
          "output_type": "stream",
          "name": "stdout",
          "text": [
            "[nltk_data] Downloading package stopwords to /root/nltk_data...\n",
            "[nltk_data]   Package stopwords is already up-to-date!\n",
            "[nltk_data] Downloading package wordnet to /root/nltk_data...\n",
            "[nltk_data]   Package wordnet is already up-to-date!\n"
          ]
        }
      ]
    },
    {
      "cell_type": "markdown",
      "metadata": {
        "id": "SwQ1dAaDBrKg"
      },
      "source": [
        "## Upload dataset - Create dataframe"
      ]
    },
    {
      "cell_type": "code",
      "metadata": {
        "id": "1mBmlpIlBt84"
      },
      "source": [
        "upload_train = files.upload()"
      ],
      "execution_count": null,
      "outputs": []
    },
    {
      "cell_type": "code",
      "metadata": {
        "id": "gqzdiqaTBv_E",
        "colab": {
          "resources": {
            "http://localhost:8080/nbextensions/google.colab/files.js": {
              "data": "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",
              "ok": true,
              "headers": [
                [
                  "content-type",
                  "application/javascript"
                ]
              ],
              "status": 200,
              "status_text": ""
            }
          },
          "base_uri": "https://localhost:8080/",
          "height": 73
        },
        "outputId": "03792672-c3ba-48cf-e213-4f2149a42bfb"
      },
      "source": [
        "upload_dev = files.upload()"
      ],
      "execution_count": 5,
      "outputs": [
        {
          "output_type": "display_data",
          "data": {
            "text/html": [
              "\n",
              "     <input type=\"file\" id=\"files-40ab7856-a9c7-4954-ba69-a2f5fdf11260\" name=\"files[]\" multiple disabled\n",
              "        style=\"border:none\" />\n",
              "     <output id=\"result-40ab7856-a9c7-4954-ba69-a2f5fdf11260\">\n",
              "      Upload widget is only available when the cell has been executed in the\n",
              "      current browser session. Please rerun this cell to enable.\n",
              "      </output>\n",
              "      <script src=\"/nbextensions/google.colab/files.js\"></script> "
            ],
            "text/plain": [
              "<IPython.core.display.HTML object>"
            ]
          },
          "metadata": {}
        },
        {
          "output_type": "stream",
          "name": "stdout",
          "text": [
            "Saving vs_dev.csv to vs_dev.csv\n"
          ]
        }
      ]
    },
    {
      "cell_type": "markdown",
      "metadata": {
        "id": "PrknN4jRbeN6"
      },
      "source": [
        "## Upload Glove Embeddings"
      ]
    },
    {
      "cell_type": "code",
      "metadata": {
        "id": "A8v30jvy8JOx"
      },
      "source": [
        "def load_glove_model(File):\n",
        "    print(\"Loading Glove Model\")\n",
        "    glove_model = {}\n",
        "    with open(File,'r') as f:\n",
        "        for line in f:\n",
        "            split_line = line.split()\n",
        "            word = split_line[0]\n",
        "            embedding = np.array(split_line[1:], dtype=np.float64)\n",
        "            glove_model[word] = embedding\n",
        "    print(f\"{len(glove_model)} words loaded!\")\n",
        "    return glove_model"
      ],
      "execution_count": 6,
      "outputs": []
    },
    {
      "cell_type": "code",
      "metadata": {
        "id": "xukjiAFj86dI",
        "colab": {
          "base_uri": "https://localhost:8080/"
        },
        "outputId": "742d7d5a-5fa7-44bf-ab66-dab857532dd1"
      },
      "source": [
        "!wget https://nlp.stanford.edu/data/glove.twitter.27B.zip\n",
        "!unzip glove.twitter.27B.zip\n",
        "# free some space\n",
        "!rm glove.twitter.27B.zip"
      ],
      "execution_count": 7,
      "outputs": [
        {
          "output_type": "stream",
          "name": "stdout",
          "text": [
            "--2021-12-07 22:08:44--  https://nlp.stanford.edu/data/glove.twitter.27B.zip\n",
            "Resolving nlp.stanford.edu (nlp.stanford.edu)... 171.64.67.140\n",
            "Connecting to nlp.stanford.edu (nlp.stanford.edu)|171.64.67.140|:443... connected.\n",
            "HTTP request sent, awaiting response... 301 Moved Permanently\n",
            "Location: http://downloads.cs.stanford.edu/nlp/data/glove.twitter.27B.zip [following]\n",
            "--2021-12-07 22:08:45--  http://downloads.cs.stanford.edu/nlp/data/glove.twitter.27B.zip\n",
            "Resolving downloads.cs.stanford.edu (downloads.cs.stanford.edu)... 171.64.64.22\n",
            "Connecting to downloads.cs.stanford.edu (downloads.cs.stanford.edu)|171.64.64.22|:80... connected.\n",
            "HTTP request sent, awaiting response... 200 OK\n",
            "Length: 1520408563 (1.4G) [application/zip]\n",
            "Saving to: ‘glove.twitter.27B.zip’\n",
            "\n",
            "glove.twitter.27B.z 100%[===================>]   1.42G   275KB/s    in 19m 29s \n",
            "\n",
            "2021-12-07 22:28:29 (1.24 MB/s) - ‘glove.twitter.27B.zip’ saved [1520408563/1520408563]\n",
            "\n",
            "Archive:  glove.twitter.27B.zip\n",
            "replace glove.twitter.27B.25d.txt? [y]es, [n]o, [A]ll, [N]one, [r]ename: n\n",
            "replace glove.twitter.27B.50d.txt? [y]es, [n]o, [A]ll, [N]one, [r]ename: n\n",
            "replace glove.twitter.27B.100d.txt? [y]es, [n]o, [A]ll, [N]one, [r]ename: n\n",
            "replace glove.twitter.27B.200d.txt? [y]es, [n]o, [A]ll, [N]one, [r]ename: n\n"
          ]
        }
      ]
    },
    {
      "cell_type": "code",
      "metadata": {
        "id": "OLj-OVw0mFuv",
        "colab": {
          "base_uri": "https://localhost:8080/"
        },
        "outputId": "6973e60f-cab3-4c05-f57a-71a2fcbb7fb7"
      },
      "source": [
        "gloveModel = load_glove_model(\"glove.twitter.27B.25d.txt\")\n",
        "dim = 25"
      ],
      "execution_count": 8,
      "outputs": [
        {
          "output_type": "stream",
          "name": "stdout",
          "text": [
            "Loading Glove Model\n",
            "1193514 words loaded!\n"
          ]
        }
      ]
    },
    {
      "cell_type": "code",
      "metadata": {
        "id": "crl8Sc9YByK9"
      },
      "source": [
        "train_df = pd.read_csv(io.BytesIO(upload_train['vs_train.csv']))\n",
        "dev_df = pd.read_csv(io.BytesIO(upload_dev['vs_dev.csv']))"
      ],
      "execution_count": 70,
      "outputs": []
    },
    {
      "cell_type": "code",
      "metadata": {
        "id": "OKStHo66Bz8t",
        "colab": {
          "base_uri": "https://localhost:8080/"
        },
        "outputId": "5820907f-bae1-4d3e-dc67-c5e683b8a517"
      },
      "source": [
        "print(train_df) # training data"
      ],
      "execution_count": 71,
      "outputs": [
        {
          "output_type": "stream",
          "name": "stdout",
          "text": [
            "       Unnamed: 0                                              tweet  label\n",
            "0               0  Sip N Shop Come thru right now #Marjais #Popul...      0\n",
            "1               1  I don't know about you but My family and I wil...      1\n",
            "2               2  @MSignorile Immunizations should be mandatory....      2\n",
            "3               3  President Obama spoke in favor of vaccination ...      0\n",
            "4               4  \"@myfoxla: Arizona monitoring hundreds for mea...      0\n",
            "...           ...                                                ...    ...\n",
            "15971       15971  @Salon if u believe the anti-vax nutcases caus...      1\n",
            "15972       15972  How do you feel about parents who don't #vacci...      0\n",
            "15973       15973  70 Preschoolers Tested for Measles in Simi Val...      0\n",
            "15974       15974  Finance Minister: Budget offers room to procur...      0\n",
            "15975       15975  Are you up to date on vaccines? Take CDC’s vac...      2\n",
            "\n",
            "[15976 rows x 3 columns]\n"
          ]
        }
      ]
    },
    {
      "cell_type": "code",
      "metadata": {
        "id": "2W3hygNmB05X",
        "colab": {
          "base_uri": "https://localhost:8080/"
        },
        "outputId": "8c5061a7-6dcf-42fe-c56c-b564777519af"
      },
      "source": [
        "print(dev_df) # validation data"
      ],
      "execution_count": 72,
      "outputs": [
        {
          "output_type": "stream",
          "name": "stdout",
          "text": [
            "      Unnamed: 0                                              tweet  label\n",
            "0              0  @user They had a massive surge in with covid d...      1\n",
            "1              1  Required vaccines for school: Parents and guar...      0\n",
            "2              2  “@KCStar: Two more Johnson County children hav...      0\n",
            "3              3  NV can do better. Which states are the best (a...      2\n",
            "4              4  Nothing like killing ourselves w/ our own fear...      2\n",
            "...          ...                                                ...    ...\n",
            "2277        2277  RT @abc7: Number of measles cases reported in ...      0\n",
            "2278        2278  Evidence points to the idea that \"measles affe...      0\n",
            "2279        2279  Where's @SavedYouAClick \"@voxdotcom: Why you s...      2\n",
            "2280        2280  Some of my favorite people have autism. If tha...      2\n",
            "2281        2281  Coronavirus: The married couple behind the suc...      0\n",
            "\n",
            "[2282 rows x 3 columns]\n"
          ]
        }
      ]
    },
    {
      "cell_type": "markdown",
      "metadata": {
        "id": "ztXIRmkHGXVN"
      },
      "source": [
        "## Remove empty / duplicate tweets"
      ]
    },
    {
      "cell_type": "code",
      "metadata": {
        "id": "m_A522pkGZLn",
        "colab": {
          "base_uri": "https://localhost:8080/"
        },
        "outputId": "ae746015-b0fe-4e95-aea3-a831c53b2e63"
      },
      "source": [
        "train_df.dropna(subset = [\"tweet\"], inplace=True)\n",
        "train_df.drop_duplicates(subset = [\"tweet\"], inplace=True)\n",
        "\n",
        "dev_df.dropna(subset = [\"tweet\"], inplace=True)\n",
        "\n",
        "train_df.drop(['Unnamed: 0'], axis=1, inplace = True) \n",
        "dev_df.drop(['Unnamed: 0'], axis=1, inplace = True) \n",
        "\n",
        "print(train_df.shape)\n",
        "print(dev_df.shape)"
      ],
      "execution_count": 73,
      "outputs": [
        {
          "output_type": "stream",
          "name": "stdout",
          "text": [
            "(15881, 2)\n",
            "(2282, 2)\n"
          ]
        }
      ]
    },
    {
      "cell_type": "markdown",
      "metadata": {
        "id": "fK5Qud3-cAYm"
      },
      "source": [
        "## Clean text"
      ]
    },
    {
      "cell_type": "code",
      "metadata": {
        "id": "Gco1RADEpk1w"
      },
      "source": [
        "def clean_text(text):\n",
        "  text = text.lower()                                           # lowercase\n",
        "  text = text.strip()                                           # remove white spaces\n",
        "  #text = ' '.join(re.sub(\"(@[A-Za-z0-9]+)\",\" \",text).split())   # remove twitter user accounts\n",
        "  text = re.sub(r'http\\S+', ' ', text)                          # remove urls\n",
        "  text = re.sub('[^A-Za-z0-9]+', ' ', text)                     # remove special characters\n",
        "  # perform lemmatization\n",
        "  cleaned_text = \"\"\n",
        "  for word in text.split() :\n",
        "    if word in stop_words:                                      # remove stopwords\n",
        "      continue\n",
        "    temp = lemmatizer.lemmatize(word)                           # lemmatize\n",
        "    #temp = snowball.stem(word)\n",
        "    #temp = lancaster.stem(word)\n",
        "    #temp = porter.stem(word)\n",
        "    cleaned_text += (temp + \" \")\n",
        "  return cleaned_text"
      ],
      "execution_count": 74,
      "outputs": []
    },
    {
      "cell_type": "code",
      "metadata": {
        "id": "yvL7F6BKcT5c"
      },
      "source": [
        "cleaned_text = []                                  # clean training data\n",
        "for line in train_df[\"tweet\"]:\n",
        "  cleaned_text.append(clean_text(line))\n",
        "cleaned_text_val = []                              # clean validation data\n",
        "for line in dev_df[\"tweet\"]:\n",
        "  cleaned_text_val.append(clean_text(line))\n",
        "\n",
        "train_df = train_df.assign(clean_tweet = lambda x: cleaned_text)\n",
        "dev_df = dev_df.assign(clean_tweet = lambda x: cleaned_text_val)\n",
        "\n",
        "train_df.drop(['tweet'], axis=1, inplace = True) \n",
        "dev_df.drop(['tweet'], axis=1, inplace = True) "
      ],
      "execution_count": 75,
      "outputs": []
    },
    {
      "cell_type": "code",
      "metadata": {
        "id": "4up9Sn_dYHIZ",
        "colab": {
          "base_uri": "https://localhost:8080/"
        },
        "outputId": "44816481-dd16-44a0-d64c-f47ec04ba5d3"
      },
      "source": [
        "total_df = train_df.append(dev_df)\n",
        "total_df.shape"
      ],
      "execution_count": 76,
      "outputs": [
        {
          "output_type": "execute_result",
          "data": {
            "text/plain": [
              "(18163, 2)"
            ]
          },
          "metadata": {},
          "execution_count": 76
        }
      ]
    },
    {
      "cell_type": "markdown",
      "metadata": {
        "id": "rs10h234cr4V"
      },
      "source": [
        "### Use Word Embeddings"
      ]
    },
    {
      "cell_type": "code",
      "metadata": {
        "id": "dQrnaHErAf9I"
      },
      "source": [
        "vocab = {}\n",
        "for row in range(0, total_df.shape[0]):\n",
        "  vocab[row] = []\n",
        "i = 0\n",
        "for tweet in total_df[\"clean_tweet\"]: # each tweet\n",
        "  count = np.zeros(dim)  \n",
        "  for word in tweet.split():\n",
        "    if (word in gloveModel):\n",
        "      count += gloveModel[word]\n",
        "  for num in count/dim:\n",
        "    vocab[i].append(num)\n",
        "  i += 1"
      ],
      "execution_count": 77,
      "outputs": []
    },
    {
      "cell_type": "code",
      "metadata": {
        "id": "sD9rqxzcFCZj",
        "colab": {
          "base_uri": "https://localhost:8080/",
          "height": 443
        },
        "outputId": "db2b02a6-14ef-4f17-cbc1-cf2f0834f9d6"
      },
      "source": [
        "df = pd.DataFrame.from_dict(vocab, orient='index')\n",
        "#df = df.transpose()\n",
        "df"
      ],
      "execution_count": 78,
      "outputs": [
        {
          "output_type": "execute_result",
          "data": {
            "text/html": [
              "<div>\n",
              "<style scoped>\n",
              "    .dataframe tbody tr th:only-of-type {\n",
              "        vertical-align: middle;\n",
              "    }\n",
              "\n",
              "    .dataframe tbody tr th {\n",
              "        vertical-align: top;\n",
              "    }\n",
              "\n",
              "    .dataframe thead th {\n",
              "        text-align: right;\n",
              "    }\n",
              "</style>\n",
              "<table border=\"1\" class=\"dataframe\">\n",
              "  <thead>\n",
              "    <tr style=\"text-align: right;\">\n",
              "      <th></th>\n",
              "      <th>0</th>\n",
              "      <th>1</th>\n",
              "      <th>2</th>\n",
              "      <th>3</th>\n",
              "      <th>4</th>\n",
              "      <th>5</th>\n",
              "      <th>6</th>\n",
              "      <th>7</th>\n",
              "      <th>8</th>\n",
              "      <th>9</th>\n",
              "      <th>10</th>\n",
              "      <th>11</th>\n",
              "      <th>12</th>\n",
              "      <th>13</th>\n",
              "      <th>14</th>\n",
              "      <th>15</th>\n",
              "      <th>16</th>\n",
              "      <th>17</th>\n",
              "      <th>18</th>\n",
              "      <th>19</th>\n",
              "      <th>20</th>\n",
              "      <th>21</th>\n",
              "      <th>22</th>\n",
              "      <th>23</th>\n",
              "      <th>24</th>\n",
              "    </tr>\n",
              "  </thead>\n",
              "  <tbody>\n",
              "    <tr>\n",
              "      <th>0</th>\n",
              "      <td>-0.074209</td>\n",
              "      <td>0.174633</td>\n",
              "      <td>-0.018545</td>\n",
              "      <td>-0.030889</td>\n",
              "      <td>-0.051354</td>\n",
              "      <td>-0.050267</td>\n",
              "      <td>0.174427</td>\n",
              "      <td>0.031691</td>\n",
              "      <td>-0.011138</td>\n",
              "      <td>0.126046</td>\n",
              "      <td>-0.059712</td>\n",
              "      <td>-0.051399</td>\n",
              "      <td>-0.903162</td>\n",
              "      <td>-0.034106</td>\n",
              "      <td>-0.020152</td>\n",
              "      <td>-0.055038</td>\n",
              "      <td>0.026370</td>\n",
              "      <td>-0.129461</td>\n",
              "      <td>-0.080249</td>\n",
              "      <td>-0.004640</td>\n",
              "      <td>-0.054612</td>\n",
              "      <td>-0.052254</td>\n",
              "      <td>0.154567</td>\n",
              "      <td>0.132431</td>\n",
              "      <td>0.081430</td>\n",
              "    </tr>\n",
              "    <tr>\n",
              "      <th>1</th>\n",
              "      <td>-0.096885</td>\n",
              "      <td>0.198095</td>\n",
              "      <td>-0.036882</td>\n",
              "      <td>-0.027684</td>\n",
              "      <td>-0.064159</td>\n",
              "      <td>-0.100399</td>\n",
              "      <td>0.301494</td>\n",
              "      <td>-0.063744</td>\n",
              "      <td>-0.024514</td>\n",
              "      <td>0.023850</td>\n",
              "      <td>-0.076308</td>\n",
              "      <td>0.067945</td>\n",
              "      <td>-0.922091</td>\n",
              "      <td>0.012661</td>\n",
              "      <td>0.092259</td>\n",
              "      <td>0.003399</td>\n",
              "      <td>0.080930</td>\n",
              "      <td>-0.173531</td>\n",
              "      <td>0.035397</td>\n",
              "      <td>-0.089007</td>\n",
              "      <td>-0.018312</td>\n",
              "      <td>0.031987</td>\n",
              "      <td>-0.018892</td>\n",
              "      <td>0.075888</td>\n",
              "      <td>-0.009154</td>\n",
              "    </tr>\n",
              "    <tr>\n",
              "      <th>2</th>\n",
              "      <td>-0.040021</td>\n",
              "      <td>0.258818</td>\n",
              "      <td>-0.079311</td>\n",
              "      <td>-0.117769</td>\n",
              "      <td>-0.042948</td>\n",
              "      <td>-0.029355</td>\n",
              "      <td>0.461787</td>\n",
              "      <td>-0.403149</td>\n",
              "      <td>-0.017695</td>\n",
              "      <td>0.054543</td>\n",
              "      <td>-0.156850</td>\n",
              "      <td>0.092332</td>\n",
              "      <td>-1.501643</td>\n",
              "      <td>0.117023</td>\n",
              "      <td>0.250349</td>\n",
              "      <td>0.064133</td>\n",
              "      <td>0.097205</td>\n",
              "      <td>-0.161577</td>\n",
              "      <td>0.073152</td>\n",
              "      <td>-0.167225</td>\n",
              "      <td>-0.092468</td>\n",
              "      <td>0.156980</td>\n",
              "      <td>0.077036</td>\n",
              "      <td>-0.134057</td>\n",
              "      <td>-0.034076</td>\n",
              "    </tr>\n",
              "    <tr>\n",
              "      <th>3</th>\n",
              "      <td>0.035770</td>\n",
              "      <td>0.332920</td>\n",
              "      <td>-0.080705</td>\n",
              "      <td>-0.037391</td>\n",
              "      <td>0.115634</td>\n",
              "      <td>-0.350312</td>\n",
              "      <td>0.212475</td>\n",
              "      <td>-0.222832</td>\n",
              "      <td>0.052082</td>\n",
              "      <td>-0.137239</td>\n",
              "      <td>0.060121</td>\n",
              "      <td>0.017058</td>\n",
              "      <td>-1.428052</td>\n",
              "      <td>0.010468</td>\n",
              "      <td>0.194881</td>\n",
              "      <td>-0.033724</td>\n",
              "      <td>-0.066033</td>\n",
              "      <td>-0.011467</td>\n",
              "      <td>0.148273</td>\n",
              "      <td>-0.270828</td>\n",
              "      <td>0.099840</td>\n",
              "      <td>0.127823</td>\n",
              "      <td>-0.090725</td>\n",
              "      <td>-0.291199</td>\n",
              "      <td>-0.178715</td>\n",
              "    </tr>\n",
              "    <tr>\n",
              "      <th>4</th>\n",
              "      <td>0.010700</td>\n",
              "      <td>0.106362</td>\n",
              "      <td>-0.045609</td>\n",
              "      <td>-0.027944</td>\n",
              "      <td>-0.061994</td>\n",
              "      <td>-0.040095</td>\n",
              "      <td>0.175118</td>\n",
              "      <td>-0.341968</td>\n",
              "      <td>-0.027564</td>\n",
              "      <td>0.030356</td>\n",
              "      <td>0.145610</td>\n",
              "      <td>0.041177</td>\n",
              "      <td>-0.824256</td>\n",
              "      <td>0.154942</td>\n",
              "      <td>0.065042</td>\n",
              "      <td>-0.105719</td>\n",
              "      <td>0.084132</td>\n",
              "      <td>0.015968</td>\n",
              "      <td>0.198163</td>\n",
              "      <td>-0.051885</td>\n",
              "      <td>-0.170522</td>\n",
              "      <td>-0.036614</td>\n",
              "      <td>-0.022403</td>\n",
              "      <td>-0.270810</td>\n",
              "      <td>-0.051687</td>\n",
              "    </tr>\n",
              "    <tr>\n",
              "      <th>...</th>\n",
              "      <td>...</td>\n",
              "      <td>...</td>\n",
              "      <td>...</td>\n",
              "      <td>...</td>\n",
              "      <td>...</td>\n",
              "      <td>...</td>\n",
              "      <td>...</td>\n",
              "      <td>...</td>\n",
              "      <td>...</td>\n",
              "      <td>...</td>\n",
              "      <td>...</td>\n",
              "      <td>...</td>\n",
              "      <td>...</td>\n",
              "      <td>...</td>\n",
              "      <td>...</td>\n",
              "      <td>...</td>\n",
              "      <td>...</td>\n",
              "      <td>...</td>\n",
              "      <td>...</td>\n",
              "      <td>...</td>\n",
              "      <td>...</td>\n",
              "      <td>...</td>\n",
              "      <td>...</td>\n",
              "      <td>...</td>\n",
              "      <td>...</td>\n",
              "    </tr>\n",
              "    <tr>\n",
              "      <th>18158</th>\n",
              "      <td>0.068196</td>\n",
              "      <td>0.232128</td>\n",
              "      <td>0.084904</td>\n",
              "      <td>-0.170493</td>\n",
              "      <td>0.003719</td>\n",
              "      <td>-0.088877</td>\n",
              "      <td>0.527260</td>\n",
              "      <td>0.026907</td>\n",
              "      <td>-0.020015</td>\n",
              "      <td>0.118675</td>\n",
              "      <td>-0.070675</td>\n",
              "      <td>0.160058</td>\n",
              "      <td>-1.776028</td>\n",
              "      <td>0.137248</td>\n",
              "      <td>0.220457</td>\n",
              "      <td>-0.129746</td>\n",
              "      <td>0.188813</td>\n",
              "      <td>-0.176381</td>\n",
              "      <td>0.013349</td>\n",
              "      <td>-0.074251</td>\n",
              "      <td>-0.018184</td>\n",
              "      <td>0.080001</td>\n",
              "      <td>0.130804</td>\n",
              "      <td>-0.048743</td>\n",
              "      <td>-0.079874</td>\n",
              "    </tr>\n",
              "    <tr>\n",
              "      <th>18159</th>\n",
              "      <td>0.135183</td>\n",
              "      <td>0.103666</td>\n",
              "      <td>-0.183617</td>\n",
              "      <td>0.069301</td>\n",
              "      <td>0.194723</td>\n",
              "      <td>-0.035908</td>\n",
              "      <td>0.397737</td>\n",
              "      <td>-0.391050</td>\n",
              "      <td>0.025930</td>\n",
              "      <td>0.104589</td>\n",
              "      <td>0.088990</td>\n",
              "      <td>0.076809</td>\n",
              "      <td>-1.422444</td>\n",
              "      <td>0.272032</td>\n",
              "      <td>0.283920</td>\n",
              "      <td>0.007851</td>\n",
              "      <td>0.152214</td>\n",
              "      <td>0.103808</td>\n",
              "      <td>0.302962</td>\n",
              "      <td>-0.237584</td>\n",
              "      <td>-0.146742</td>\n",
              "      <td>0.087779</td>\n",
              "      <td>0.016166</td>\n",
              "      <td>-0.096209</td>\n",
              "      <td>-0.205875</td>\n",
              "    </tr>\n",
              "    <tr>\n",
              "      <th>18160</th>\n",
              "      <td>0.012991</td>\n",
              "      <td>0.094557</td>\n",
              "      <td>0.045770</td>\n",
              "      <td>0.002997</td>\n",
              "      <td>-0.000554</td>\n",
              "      <td>-0.057806</td>\n",
              "      <td>0.143313</td>\n",
              "      <td>-0.167676</td>\n",
              "      <td>-0.063106</td>\n",
              "      <td>-0.008966</td>\n",
              "      <td>-0.018790</td>\n",
              "      <td>0.015629</td>\n",
              "      <td>-0.523774</td>\n",
              "      <td>0.007312</td>\n",
              "      <td>0.009046</td>\n",
              "      <td>-0.010261</td>\n",
              "      <td>0.048903</td>\n",
              "      <td>-0.101382</td>\n",
              "      <td>0.002362</td>\n",
              "      <td>-0.044212</td>\n",
              "      <td>-0.071073</td>\n",
              "      <td>0.078687</td>\n",
              "      <td>0.016030</td>\n",
              "      <td>-0.094016</td>\n",
              "      <td>-0.049905</td>\n",
              "    </tr>\n",
              "    <tr>\n",
              "      <th>18161</th>\n",
              "      <td>-0.094936</td>\n",
              "      <td>0.232104</td>\n",
              "      <td>-0.101476</td>\n",
              "      <td>0.067977</td>\n",
              "      <td>0.059048</td>\n",
              "      <td>-0.099540</td>\n",
              "      <td>0.410378</td>\n",
              "      <td>-0.217557</td>\n",
              "      <td>-0.181291</td>\n",
              "      <td>0.041748</td>\n",
              "      <td>-0.102457</td>\n",
              "      <td>0.161872</td>\n",
              "      <td>-1.260708</td>\n",
              "      <td>-0.074044</td>\n",
              "      <td>0.073398</td>\n",
              "      <td>0.053315</td>\n",
              "      <td>0.095231</td>\n",
              "      <td>-0.091243</td>\n",
              "      <td>0.197620</td>\n",
              "      <td>-0.116799</td>\n",
              "      <td>0.012127</td>\n",
              "      <td>0.090565</td>\n",
              "      <td>-0.012347</td>\n",
              "      <td>-0.159820</td>\n",
              "      <td>-0.066846</td>\n",
              "    </tr>\n",
              "    <tr>\n",
              "      <th>18162</th>\n",
              "      <td>-0.215949</td>\n",
              "      <td>0.276299</td>\n",
              "      <td>-0.063673</td>\n",
              "      <td>-0.081093</td>\n",
              "      <td>0.109579</td>\n",
              "      <td>-0.254964</td>\n",
              "      <td>0.326560</td>\n",
              "      <td>-0.403375</td>\n",
              "      <td>0.059703</td>\n",
              "      <td>-0.071088</td>\n",
              "      <td>0.176514</td>\n",
              "      <td>0.187138</td>\n",
              "      <td>-1.594836</td>\n",
              "      <td>0.096895</td>\n",
              "      <td>0.039772</td>\n",
              "      <td>0.060045</td>\n",
              "      <td>0.172573</td>\n",
              "      <td>-0.128602</td>\n",
              "      <td>0.081719</td>\n",
              "      <td>-0.102285</td>\n",
              "      <td>-0.036974</td>\n",
              "      <td>0.163457</td>\n",
              "      <td>-0.324558</td>\n",
              "      <td>-0.501477</td>\n",
              "      <td>-0.139040</td>\n",
              "    </tr>\n",
              "  </tbody>\n",
              "</table>\n",
              "<p>18163 rows × 25 columns</p>\n",
              "</div>"
            ],
            "text/plain": [
              "             0         1         2   ...        22        23        24\n",
              "0     -0.074209  0.174633 -0.018545  ...  0.154567  0.132431  0.081430\n",
              "1     -0.096885  0.198095 -0.036882  ... -0.018892  0.075888 -0.009154\n",
              "2     -0.040021  0.258818 -0.079311  ...  0.077036 -0.134057 -0.034076\n",
              "3      0.035770  0.332920 -0.080705  ... -0.090725 -0.291199 -0.178715\n",
              "4      0.010700  0.106362 -0.045609  ... -0.022403 -0.270810 -0.051687\n",
              "...         ...       ...       ...  ...       ...       ...       ...\n",
              "18158  0.068196  0.232128  0.084904  ...  0.130804 -0.048743 -0.079874\n",
              "18159  0.135183  0.103666 -0.183617  ...  0.016166 -0.096209 -0.205875\n",
              "18160  0.012991  0.094557  0.045770  ...  0.016030 -0.094016 -0.049905\n",
              "18161 -0.094936  0.232104 -0.101476  ... -0.012347 -0.159820 -0.066846\n",
              "18162 -0.215949  0.276299 -0.063673  ... -0.324558 -0.501477 -0.139040\n",
              "\n",
              "[18163 rows x 25 columns]"
            ]
          },
          "metadata": {},
          "execution_count": 78
        }
      ]
    },
    {
      "cell_type": "code",
      "metadata": {
        "id": "jKSYQD9YMcHd"
      },
      "source": [
        "train = df.iloc[:train_df.shape[0], :]\n",
        "dev = df.iloc[train_df.shape[0]:, :]\n",
        "\n",
        "x = torch.tensor(df.values, dtype=torch.float)\n",
        "y = torch.tensor(total_df['label'].values)\n",
        "\n",
        "x_train = torch.tensor(train.values, dtype=torch.float)\n",
        "y_train = torch.tensor(train_df['label'].values)\n",
        "\n",
        "x_dev = torch.tensor(dev.values, dtype=torch.float)\n",
        "y_dev = torch.tensor(dev_df['label'].values)\n",
        "\n",
        "# Initialize dataloaders\n",
        "train_dataset = TensorDataset(x_train, y_train)\n",
        "train_dataloader = DataLoader(train_dataset, batch_size=64, shuffle=True)\n",
        "\n",
        "dev_dataset = TensorDataset(x_dev, y_dev)\n",
        "dev_dataloader = DataLoader(dev_dataset, batch_size=64, shuffle=True)"
      ],
      "execution_count": 79,
      "outputs": []
    },
    {
      "cell_type": "markdown",
      "metadata": {
        "id": "pBYKnos9o6qR"
      },
      "source": [
        "## Model"
      ]
    },
    {
      "cell_type": "code",
      "metadata": {
        "id": "AkBnnj16ZTC5"
      },
      "source": [
        "class Net(nn.Module):\n",
        "    def __init__(self, D_in, H1, H2, D_out):\n",
        "        super(Net, self).__init__()\n",
        "        self.linear1 = nn.Linear(D_in, H1)\n",
        "        self.batchnorm1 = nn.BatchNorm1d(H1)\n",
        "        self.relu = nn.ReLU()\n",
        "        self.linear2 = nn.Linear(H1, H2)\n",
        "        self.sigmoid = nn.Sigmoid()\n",
        "        self.linear3 = nn.Linear(H2, D_out)\n",
        "        \n",
        "        #self.batchnorm2 = nn.BatchNorm1d(H2)\n",
        "        #self.batchnorm3 = nn.BatchNorm1d(D_out)\n",
        "        #self.linear4 = nn.Linear(H3, D_out)\n",
        "        #self.linear5 = nn.Linear(H4, D_out)\n",
        "        #self.dropout = nn.Dropout(p=0.2)\n",
        "        #self.softmax = nn.Softmax(dim=1)\n",
        "        # self.logsoftmax = nn.LogSoftmax()\n",
        "        # self.softmin = nn.Softmin()\n",
        "        \n",
        "    def forward(self, x):\n",
        "        out = self.linear1(x)\n",
        "        out = self.batchnorm1(out)\n",
        "        out = self.relu(out)\n",
        "        out = self.linear2(out)\n",
        "        out = self.sigmoid(out)\n",
        "        out = self.linear3(out)\n",
        "\n",
        "        # out = self.relu(out)\n",
        "        # out = self.linear4(out)\n",
        "        #out = self.batchnorm3(out)\n",
        "        #out = self.relu(out)\n",
        "        #out = self.batchnorm2(out)\n",
        "        #out = self.relu(out)    \n",
        "        #out = self.softmax(out)\n",
        "        #out = self.softmin(out)\n",
        "        return out"
      ],
      "execution_count": 80,
      "outputs": []
    },
    {
      "cell_type": "code",
      "metadata": {
        "id": "ZW7kkrK-ZZ3e"
      },
      "source": [
        "#Define layer sizes\n",
        "D_in = x.shape[1]\n",
        "H1 = 128\n",
        "H2 = 64\n",
        "D_out = 3\n",
        "\n",
        "#Define Hyperparameters\n",
        "learning_rate = 1e-4\n",
        "\n",
        "#Initialize model, optimizer\n",
        "model = Net(D_in, H1, H2, D_out)\n",
        "\n",
        "optimizer = optim.Adam(model.parameters(), lr=learning_rate)\n",
        "#optimizer = optim.SGD(model.parameters(), lr=learning_rate, momentum=0.2, weight_decay=0.01)\n",
        "#optimizer = optim.Adagrad(model.parameters(), lr=learning_rate)"
      ],
      "execution_count": 81,
      "outputs": []
    },
    {
      "cell_type": "code",
      "metadata": {
        "id": "VvAyCpStZ3j1",
        "colab": {
          "base_uri": "https://localhost:8080/"
        },
        "outputId": "3c38b7b0-efd2-4928-e29d-4594e8ea5e88"
      },
      "source": [
        "model"
      ],
      "execution_count": 82,
      "outputs": [
        {
          "output_type": "execute_result",
          "data": {
            "text/plain": [
              "Net(\n",
              "  (linear1): Linear(in_features=25, out_features=128, bias=True)\n",
              "  (batchnorm1): BatchNorm1d(128, eps=1e-05, momentum=0.1, affine=True, track_running_stats=True)\n",
              "  (relu): ReLU()\n",
              "  (linear2): Linear(in_features=128, out_features=64, bias=True)\n",
              "  (sigmoid): Sigmoid()\n",
              "  (linear3): Linear(in_features=64, out_features=3, bias=True)\n",
              ")"
            ]
          },
          "metadata": {},
          "execution_count": 82
        }
      ]
    },
    {
      "cell_type": "code",
      "metadata": {
        "id": "vtP2ZPiMZ5-A",
        "colab": {
          "base_uri": "https://localhost:8080/"
        },
        "outputId": "ff44562e-bfd6-47c5-977b-8f3de2474f29"
      },
      "source": [
        "epoch_loss = []\n",
        "epoch_loss_dev = []\n",
        "epoch_acc = []\n",
        "epoch_acc_dev = []\n",
        "\n",
        "for epoch in range(100):\n",
        "\n",
        "  batch_losses = []\n",
        "  batch_acc = 0\n",
        "  total = 0\n",
        "  total_dev = 0\n",
        "  loss = 0\n",
        "  pred = []\n",
        "  true = []\n",
        "  pred_dev = []\n",
        "  true_dev = []\n",
        "  pred_proba = []\n",
        "\n",
        "  # training\n",
        "  model.train()\n",
        "  for x_batch, y_batch in train_dataloader:  # for every batch\n",
        "    y_pred = model(x_batch).squeeze(1)\n",
        "    loss = F.cross_entropy(y_pred, y_batch)\n",
        "    # loss = nn.NLLLoss()                    # with softmax in output of model\n",
        "    # loss_dev = loss(y_dev_pred, y_batch)\n",
        "    batch_losses.append(loss)\n",
        "    #Delete previously stored gradients\n",
        "    optimizer.zero_grad()\n",
        "    #Perform backpropagation starting from the loss calculated in this epoch\n",
        "    loss.backward()\n",
        "    #Update model's weights based on the gradients calculated during backprop\n",
        "    optimizer.step()\n",
        "\n",
        "    # Total number of labels\n",
        "    total += y_batch.size(0)\n",
        "    # Total correct predictions\n",
        "    _,pred_label = torch.max(y_pred, dim = 1)\n",
        "    batch_acc += (pred_label == y_batch).sum()\n",
        "    for i in pred_label:\n",
        "      pred.append(i)\n",
        "    for i in y_batch:\n",
        "      true.append(i.item())\n",
        "\n",
        "  # validation    \n",
        "  with torch.no_grad():\n",
        "    batch_losses_dev = []\n",
        "    batch_acc_dev = 0\n",
        "    model.eval()\n",
        "\n",
        "    for x_batch, y_batch in dev_dataloader:\n",
        "        y_dev_pred = model(x_batch).squeeze(1)\n",
        "        prob = F.softmax(y_dev_pred, dim=1)   # probability that an instance belogs to each class\n",
        "        for i in prob:\n",
        "          pred_proba.append(i.tolist())\n",
        "        loss_dev = F.cross_entropy(y_dev_pred, y_batch)\n",
        "        # loss = nn.NLLLoss()\n",
        "        # loss_dev = loss(y_dev_pred, y_batch)\n",
        "        batch_losses_dev.append(loss_dev)\n",
        "        # number of labels\n",
        "        total_dev += y_batch.size(0)\n",
        "        # correct predictions\n",
        "        _,pred_label = torch.max(y_dev_pred, dim = 1)  # get max probability\n",
        "        batch_acc_dev += (pred_label == y_batch).sum()\n",
        "        for i in pred_label:\n",
        "          pred_dev.append(i)\n",
        "        for i in y_batch:\n",
        "          true_dev.append(i.item())\n",
        "\n",
        "\n",
        "  accuracy = batch_acc/total\n",
        "  accuracy_dev = batch_acc_dev/total_dev\n",
        "\n",
        "  train_loss = sum(batch_losses)/len(train_dataloader)\n",
        "  valid_loss = sum(batch_losses_dev)/len(dev_dataloader)\n",
        "\n",
        "  epoch_loss.append(train_loss)\n",
        "  epoch_loss_dev.append(valid_loss)\n",
        "  epoch_acc.append(accuracy)\n",
        "  epoch_acc_dev.append(accuracy_dev)\n",
        "\n",
        "  print(f\"Epoch {epoch:3}: | Train Loss = {train_loss:.5f} | Train Accuracy = {accuracy:.5f} | Validation Loss = {valid_loss:.5f} | Validation Accuracy = {accuracy_dev:.5f} \")"
      ],
      "execution_count": 83,
      "outputs": [
        {
          "output_type": "stream",
          "name": "stdout",
          "text": [
            "Epoch   0: | Train Loss = 0.98495 | Train Accuracy = 0.51193 | Validation Loss = 0.94013 | Validation Accuracy = 0.55127 \n",
            "Epoch   1: | Train Loss = 0.92205 | Train Accuracy = 0.56275 | Validation Loss = 0.89826 | Validation Accuracy = 0.57406 \n",
            "Epoch   2: | Train Loss = 0.88778 | Train Accuracy = 0.58825 | Validation Loss = 0.86952 | Validation Accuracy = 0.59290 \n",
            "Epoch   3: | Train Loss = 0.86470 | Train Accuracy = 0.59902 | Validation Loss = 0.85145 | Validation Accuracy = 0.60911 \n",
            "Epoch   4: | Train Loss = 0.84880 | Train Accuracy = 0.60764 | Validation Loss = 0.83593 | Validation Accuracy = 0.61394 \n",
            "Epoch   5: | Train Loss = 0.83899 | Train Accuracy = 0.60934 | Validation Loss = 0.82587 | Validation Accuracy = 0.61788 \n",
            "Epoch   6: | Train Loss = 0.83084 | Train Accuracy = 0.61507 | Validation Loss = 0.82017 | Validation Accuracy = 0.61656 \n",
            "Epoch   7: | Train Loss = 0.82633 | Train Accuracy = 0.61917 | Validation Loss = 0.81419 | Validation Accuracy = 0.62182 \n",
            "Epoch   8: | Train Loss = 0.82270 | Train Accuracy = 0.62131 | Validation Loss = 0.81325 | Validation Accuracy = 0.62445 \n",
            "Epoch   9: | Train Loss = 0.81849 | Train Accuracy = 0.62320 | Validation Loss = 0.80834 | Validation Accuracy = 0.62445 \n",
            "Epoch  10: | Train Loss = 0.81534 | Train Accuracy = 0.62395 | Validation Loss = 0.80560 | Validation Accuracy = 0.61744 \n",
            "Epoch  11: | Train Loss = 0.81252 | Train Accuracy = 0.62609 | Validation Loss = 0.80227 | Validation Accuracy = 0.62577 \n",
            "Epoch  12: | Train Loss = 0.80854 | Train Accuracy = 0.62830 | Validation Loss = 0.80191 | Validation Accuracy = 0.62840 \n",
            "Epoch  13: | Train Loss = 0.80633 | Train Accuracy = 0.62811 | Validation Loss = 0.79858 | Validation Accuracy = 0.62401 \n",
            "Epoch  14: | Train Loss = 0.80456 | Train Accuracy = 0.63233 | Validation Loss = 0.79418 | Validation Accuracy = 0.62752 \n",
            "Epoch  15: | Train Loss = 0.80373 | Train Accuracy = 0.63088 | Validation Loss = 0.79345 | Validation Accuracy = 0.62927 \n",
            "Epoch  16: | Train Loss = 0.80045 | Train Accuracy = 0.63176 | Validation Loss = 0.79286 | Validation Accuracy = 0.63234 \n",
            "Epoch  17: | Train Loss = 0.79896 | Train Accuracy = 0.63346 | Validation Loss = 0.79024 | Validation Accuracy = 0.63278 \n",
            "Epoch  18: | Train Loss = 0.79666 | Train Accuracy = 0.63686 | Validation Loss = 0.78939 | Validation Accuracy = 0.63409 \n",
            "Epoch  19: | Train Loss = 0.79592 | Train Accuracy = 0.63415 | Validation Loss = 0.78630 | Validation Accuracy = 0.63541 \n",
            "Epoch  20: | Train Loss = 0.79616 | Train Accuracy = 0.63692 | Validation Loss = 0.78527 | Validation Accuracy = 0.63234 \n",
            "Epoch  21: | Train Loss = 0.79264 | Train Accuracy = 0.63636 | Validation Loss = 0.78567 | Validation Accuracy = 0.63628 \n",
            "Epoch  22: | Train Loss = 0.79004 | Train Accuracy = 0.63919 | Validation Loss = 0.78374 | Validation Accuracy = 0.63497 \n",
            "Epoch  23: | Train Loss = 0.78822 | Train Accuracy = 0.63629 | Validation Loss = 0.78214 | Validation Accuracy = 0.63541 \n",
            "Epoch  24: | Train Loss = 0.78719 | Train Accuracy = 0.63875 | Validation Loss = 0.78375 | Validation Accuracy = 0.63322 \n",
            "Epoch  25: | Train Loss = 0.78687 | Train Accuracy = 0.64259 | Validation Loss = 0.78030 | Validation Accuracy = 0.63672 \n",
            "Epoch  26: | Train Loss = 0.78621 | Train Accuracy = 0.64070 | Validation Loss = 0.77985 | Validation Accuracy = 0.63365 \n",
            "Epoch  27: | Train Loss = 0.78427 | Train Accuracy = 0.64077 | Validation Loss = 0.78100 | Validation Accuracy = 0.63672 \n",
            "Epoch  28: | Train Loss = 0.78212 | Train Accuracy = 0.64303 | Validation Loss = 0.77766 | Validation Accuracy = 0.63760 \n",
            "Epoch  29: | Train Loss = 0.78137 | Train Accuracy = 0.64536 | Validation Loss = 0.77615 | Validation Accuracy = 0.63891 \n",
            "Epoch  30: | Train Loss = 0.78061 | Train Accuracy = 0.64373 | Validation Loss = 0.77647 | Validation Accuracy = 0.64154 \n",
            "Epoch  31: | Train Loss = 0.77857 | Train Accuracy = 0.64398 | Validation Loss = 0.77437 | Validation Accuracy = 0.64023 \n",
            "Epoch  32: | Train Loss = 0.77939 | Train Accuracy = 0.64278 | Validation Loss = 0.77487 | Validation Accuracy = 0.64242 \n",
            "Epoch  33: | Train Loss = 0.77742 | Train Accuracy = 0.64731 | Validation Loss = 0.77445 | Validation Accuracy = 0.64461 \n",
            "Epoch  34: | Train Loss = 0.77460 | Train Accuracy = 0.64637 | Validation Loss = 0.77273 | Validation Accuracy = 0.64286 \n",
            "Epoch  35: | Train Loss = 0.77640 | Train Accuracy = 0.64713 | Validation Loss = 0.77536 | Validation Accuracy = 0.64154 \n",
            "Epoch  36: | Train Loss = 0.77430 | Train Accuracy = 0.64832 | Validation Loss = 0.77255 | Validation Accuracy = 0.64592 \n",
            "Epoch  37: | Train Loss = 0.77635 | Train Accuracy = 0.64322 | Validation Loss = 0.77361 | Validation Accuracy = 0.64373 \n",
            "Epoch  38: | Train Loss = 0.77246 | Train Accuracy = 0.64946 | Validation Loss = 0.77370 | Validation Accuracy = 0.64636 \n",
            "Epoch  39: | Train Loss = 0.77142 | Train Accuracy = 0.64706 | Validation Loss = 0.77252 | Validation Accuracy = 0.64636 \n",
            "Epoch  40: | Train Loss = 0.77005 | Train Accuracy = 0.65122 | Validation Loss = 0.77063 | Validation Accuracy = 0.64899 \n",
            "Epoch  41: | Train Loss = 0.77205 | Train Accuracy = 0.65034 | Validation Loss = 0.77423 | Validation Accuracy = 0.64592 \n",
            "Epoch  42: | Train Loss = 0.76877 | Train Accuracy = 0.64763 | Validation Loss = 0.77134 | Validation Accuracy = 0.64943 \n",
            "Epoch  43: | Train Loss = 0.76980 | Train Accuracy = 0.64889 | Validation Loss = 0.77028 | Validation Accuracy = 0.65074 \n",
            "Epoch  44: | Train Loss = 0.76805 | Train Accuracy = 0.64939 | Validation Loss = 0.76898 | Validation Accuracy = 0.64855 \n",
            "Epoch  45: | Train Loss = 0.76686 | Train Accuracy = 0.65097 | Validation Loss = 0.77023 | Validation Accuracy = 0.65206 \n",
            "Epoch  46: | Train Loss = 0.76909 | Train Accuracy = 0.65009 | Validation Loss = 0.76906 | Validation Accuracy = 0.64943 \n",
            "Epoch  47: | Train Loss = 0.76709 | Train Accuracy = 0.65040 | Validation Loss = 0.77140 | Validation Accuracy = 0.64154 \n",
            "Epoch  48: | Train Loss = 0.76443 | Train Accuracy = 0.65078 | Validation Loss = 0.76962 | Validation Accuracy = 0.64724 \n",
            "Epoch  49: | Train Loss = 0.76184 | Train Accuracy = 0.65537 | Validation Loss = 0.77188 | Validation Accuracy = 0.65162 \n",
            "Epoch  50: | Train Loss = 0.76247 | Train Accuracy = 0.65626 | Validation Loss = 0.76995 | Validation Accuracy = 0.64899 \n",
            "Epoch  51: | Train Loss = 0.76454 | Train Accuracy = 0.65493 | Validation Loss = 0.76751 | Validation Accuracy = 0.65206 \n",
            "Epoch  52: | Train Loss = 0.76307 | Train Accuracy = 0.65210 | Validation Loss = 0.76831 | Validation Accuracy = 0.65425 \n",
            "Epoch  53: | Train Loss = 0.75894 | Train Accuracy = 0.65852 | Validation Loss = 0.76763 | Validation Accuracy = 0.65162 \n",
            "Epoch  54: | Train Loss = 0.76057 | Train Accuracy = 0.65437 | Validation Loss = 0.76594 | Validation Accuracy = 0.65162 \n",
            "Epoch  55: | Train Loss = 0.75833 | Train Accuracy = 0.65468 | Validation Loss = 0.76703 | Validation Accuracy = 0.65469 \n",
            "Epoch  56: | Train Loss = 0.75999 | Train Accuracy = 0.65594 | Validation Loss = 0.76681 | Validation Accuracy = 0.65031 \n",
            "Epoch  57: | Train Loss = 0.75708 | Train Accuracy = 0.65789 | Validation Loss = 0.76898 | Validation Accuracy = 0.65250 \n",
            "Epoch  58: | Train Loss = 0.75781 | Train Accuracy = 0.65651 | Validation Loss = 0.77037 | Validation Accuracy = 0.64505 \n",
            "Epoch  59: | Train Loss = 0.75680 | Train Accuracy = 0.65840 | Validation Loss = 0.76765 | Validation Accuracy = 0.64943 \n",
            "Epoch  60: | Train Loss = 0.75947 | Train Accuracy = 0.65556 | Validation Loss = 0.76603 | Validation Accuracy = 0.64987 \n",
            "Epoch  61: | Train Loss = 0.75417 | Train Accuracy = 0.65978 | Validation Loss = 0.76922 | Validation Accuracy = 0.64067 \n",
            "Epoch  62: | Train Loss = 0.75689 | Train Accuracy = 0.65783 | Validation Loss = 0.76646 | Validation Accuracy = 0.65644 \n",
            "Epoch  63: | Train Loss = 0.75454 | Train Accuracy = 0.66280 | Validation Loss = 0.76611 | Validation Accuracy = 0.65513 \n",
            "Epoch  64: | Train Loss = 0.75650 | Train Accuracy = 0.65777 | Validation Loss = 0.76662 | Validation Accuracy = 0.65250 \n",
            "Epoch  65: | Train Loss = 0.75523 | Train Accuracy = 0.65752 | Validation Loss = 0.76990 | Validation Accuracy = 0.64592 \n",
            "Epoch  66: | Train Loss = 0.75547 | Train Accuracy = 0.65915 | Validation Loss = 0.77319 | Validation Accuracy = 0.64636 \n",
            "Epoch  67: | Train Loss = 0.75205 | Train Accuracy = 0.66066 | Validation Loss = 0.76775 | Validation Accuracy = 0.65337 \n",
            "Epoch  68: | Train Loss = 0.75335 | Train Accuracy = 0.65915 | Validation Loss = 0.76651 | Validation Accuracy = 0.64987 \n",
            "Epoch  69: | Train Loss = 0.75295 | Train Accuracy = 0.66022 | Validation Loss = 0.76542 | Validation Accuracy = 0.65469 \n",
            "Epoch  70: | Train Loss = 0.75170 | Train Accuracy = 0.66098 | Validation Loss = 0.76603 | Validation Accuracy = 0.64855 \n",
            "Epoch  71: | Train Loss = 0.75032 | Train Accuracy = 0.66394 | Validation Loss = 0.76696 | Validation Accuracy = 0.65776 \n",
            "Epoch  72: | Train Loss = 0.75183 | Train Accuracy = 0.66369 | Validation Loss = 0.76853 | Validation Accuracy = 0.65425 \n",
            "Epoch  73: | Train Loss = 0.75044 | Train Accuracy = 0.66167 | Validation Loss = 0.76657 | Validation Accuracy = 0.64943 \n",
            "Epoch  74: | Train Loss = 0.74902 | Train Accuracy = 0.66243 | Validation Loss = 0.76481 | Validation Accuracy = 0.65863 \n",
            "Epoch  75: | Train Loss = 0.74887 | Train Accuracy = 0.66293 | Validation Loss = 0.76392 | Validation Accuracy = 0.65381 \n",
            "Epoch  76: | Train Loss = 0.74944 | Train Accuracy = 0.66255 | Validation Loss = 0.76521 | Validation Accuracy = 0.65513 \n",
            "Epoch  77: | Train Loss = 0.74857 | Train Accuracy = 0.66312 | Validation Loss = 0.76788 | Validation Accuracy = 0.64943 \n",
            "Epoch  78: | Train Loss = 0.74786 | Train Accuracy = 0.66356 | Validation Loss = 0.76620 | Validation Accuracy = 0.65118 \n",
            "Epoch  79: | Train Loss = 0.74883 | Train Accuracy = 0.66576 | Validation Loss = 0.76620 | Validation Accuracy = 0.65381 \n",
            "Epoch  80: | Train Loss = 0.74611 | Train Accuracy = 0.66721 | Validation Loss = 0.76620 | Validation Accuracy = 0.64812 \n",
            "Epoch  81: | Train Loss = 0.74623 | Train Accuracy = 0.66784 | Validation Loss = 0.76350 | Validation Accuracy = 0.65688 \n",
            "Epoch  82: | Train Loss = 0.74587 | Train Accuracy = 0.66551 | Validation Loss = 0.76514 | Validation Accuracy = 0.64899 \n",
            "Epoch  83: | Train Loss = 0.74440 | Train Accuracy = 0.66394 | Validation Loss = 0.76423 | Validation Accuracy = 0.64680 \n",
            "Epoch  84: | Train Loss = 0.74353 | Train Accuracy = 0.66652 | Validation Loss = 0.76555 | Validation Accuracy = 0.64855 \n",
            "Epoch  85: | Train Loss = 0.74644 | Train Accuracy = 0.66791 | Validation Loss = 0.76641 | Validation Accuracy = 0.65118 \n",
            "Epoch  86: | Train Loss = 0.74279 | Train Accuracy = 0.66671 | Validation Loss = 0.76755 | Validation Accuracy = 0.65031 \n",
            "Epoch  87: | Train Loss = 0.74383 | Train Accuracy = 0.66671 | Validation Loss = 0.76612 | Validation Accuracy = 0.64680 \n",
            "Epoch  88: | Train Loss = 0.74593 | Train Accuracy = 0.66753 | Validation Loss = 0.76582 | Validation Accuracy = 0.64812 \n",
            "Epoch  89: | Train Loss = 0.74199 | Train Accuracy = 0.66986 | Validation Loss = 0.76720 | Validation Accuracy = 0.65337 \n",
            "Epoch  90: | Train Loss = 0.74236 | Train Accuracy = 0.66765 | Validation Loss = 0.76363 | Validation Accuracy = 0.64417 \n",
            "Epoch  91: | Train Loss = 0.74188 | Train Accuracy = 0.66532 | Validation Loss = 0.76606 | Validation Accuracy = 0.64417 \n",
            "Epoch  92: | Train Loss = 0.74169 | Train Accuracy = 0.66828 | Validation Loss = 0.76684 | Validation Accuracy = 0.64680 \n",
            "Epoch  93: | Train Loss = 0.73998 | Train Accuracy = 0.67005 | Validation Loss = 0.76379 | Validation Accuracy = 0.65294 \n",
            "Epoch  94: | Train Loss = 0.74057 | Train Accuracy = 0.66929 | Validation Loss = 0.76686 | Validation Accuracy = 0.64680 \n",
            "Epoch  95: | Train Loss = 0.74072 | Train Accuracy = 0.67099 | Validation Loss = 0.76941 | Validation Accuracy = 0.64330 \n",
            "Epoch  96: | Train Loss = 0.74017 | Train Accuracy = 0.66860 | Validation Loss = 0.76707 | Validation Accuracy = 0.64592 \n",
            "Epoch  97: | Train Loss = 0.73953 | Train Accuracy = 0.66942 | Validation Loss = 0.76899 | Validation Accuracy = 0.64330 \n",
            "Epoch  98: | Train Loss = 0.74063 | Train Accuracy = 0.66872 | Validation Loss = 0.76464 | Validation Accuracy = 0.65074 \n",
            "Epoch  99: | Train Loss = 0.73884 | Train Accuracy = 0.67080 | Validation Loss = 0.76394 | Validation Accuracy = 0.64855 \n"
          ]
        }
      ]
    },
    {
      "cell_type": "markdown",
      "metadata": {
        "id": "uHPPRYbdkTLJ"
      },
      "source": [
        "### Evaluation"
      ]
    },
    {
      "cell_type": "code",
      "metadata": {
        "id": "xyaNtxfgn2fj",
        "colab": {
          "base_uri": "https://localhost:8080/",
          "height": 279
        },
        "outputId": "9de8c2a7-ef74-47b7-88cf-6bba8c6663f9"
      },
      "source": [
        "target_names = ['neutral', 'anti-vax', 'pro-vax']\n",
        "df = pd.DataFrame({'true':true})\n",
        "df2 = pd.DataFrame({'pred':pred})\n",
        "cm = confusion_matrix(true, pred)\n",
        "disp = ConfusionMatrixDisplay(confusion_matrix=cm, display_labels=target_names)\n",
        "disp.plot()\n",
        "plt.show()"
      ],
      "execution_count": 84,
      "outputs": [
        {
          "output_type": "display_data",
          "data": {
            "image/png": "[encoded data removed]",
            "text/plain": [
              "<Figure size 432x288 with 2 Axes>"
            ]
          },
          "metadata": {
            "needs_background": "light"
          }
        }
      ]
    },
    {
      "cell_type": "code",
      "metadata": {
        "colab": {
          "base_uri": "https://localhost:8080/"
        },
        "id": "7pR4Ze3Mn9lj",
        "outputId": "4194a4c9-d7ca-4820-bc32-d9d0fd7d9b83"
      },
      "source": [
        "print(\"Precision-Recall-F1 - Training Data :\")\n",
        "print(precision_recall_fscore_support(true, pred, average='micro'))\n",
        "print()\n",
        "print(\"Precision-Recall-F1 - Test Data :\")\n",
        "print(precision_recall_fscore_support(true_dev, pred_dev, average='micro'))\n",
        "print()"
      ],
      "execution_count": 85,
      "outputs": [
        {
          "output_type": "stream",
          "name": "stdout",
          "text": [
            "Precision-Recall-F1 - Training Data :\n",
            "(0.6708015868018387, 0.6708015868018387, 0.6708015868018387, None)\n",
            "\n",
            "Precision-Recall-F1 - Test Data :\n",
            "(0.6485539000876425, 0.6485539000876425, 0.6485539000876425, None)\n",
            "\n"
          ]
        }
      ]
    },
    {
      "cell_type": "code",
      "metadata": {
        "colab": {
          "base_uri": "https://localhost:8080/"
        },
        "id": "W4Tp1qZzn63i",
        "outputId": "7807af30-8fc3-475e-858d-2165e07022e2"
      },
      "source": [
        "print(classification_report(true, pred))"
      ],
      "execution_count": 86,
      "outputs": [
        {
          "output_type": "stream",
          "name": "stdout",
          "text": [
            "              precision    recall  f1-score   support\n",
            "\n",
            "           0       0.72      0.76      0.74      7385\n",
            "           1       0.51      0.22      0.31      2070\n",
            "           2       0.63      0.71      0.67      6426\n",
            "\n",
            "    accuracy                           0.67     15881\n",
            "   macro avg       0.62      0.56      0.57     15881\n",
            "weighted avg       0.66      0.67      0.66     15881\n",
            "\n"
          ]
        }
      ]
    },
    {
      "cell_type": "code",
      "metadata": {
        "id": "AWCY94YTNCtF",
        "colab": {
          "base_uri": "https://localhost:8080/"
        },
        "outputId": "d727474c-774b-4b02-ed93-73e7d25a7c68"
      },
      "source": [
        "macro_roc_auc_ovo = roc_auc_score(true_dev, pred_proba, multi_class=\"ovo\", average=\"macro\")\n",
        "weighted_roc_auc_ovo = roc_auc_score(true_dev, pred_proba, multi_class=\"ovo\", average=\"weighted\")\n",
        "macro_roc_auc_ovr = roc_auc_score(true_dev, pred_proba, multi_class=\"ovr\", average=\"macro\")\n",
        "weighted_roc_auc_ovr = roc_auc_score(true_dev, pred_proba, multi_class=\"ovr\", average=\"weighted\")\n",
        "print(\n",
        "    \"One-vs-One ROC AUC scores:\\n{:.6f} (macro),\\n{:.6f} \"\n",
        "    \"(weighted by prevalence)\".format(macro_roc_auc_ovo, weighted_roc_auc_ovo)\n",
        ")\n",
        "print()\n",
        "print(\n",
        "    \"One-vs-Rest ROC AUC scores:\\n{:.6f} (macro),\\n{:.6f} \"\n",
        "    \"(weighted by prevalence)\".format(macro_roc_auc_ovr, weighted_roc_auc_ovr)\n",
        ")"
      ],
      "execution_count": 87,
      "outputs": [
        {
          "output_type": "stream",
          "name": "stdout",
          "text": [
            "One-vs-One ROC AUC scores:\n",
            "0.783216 (macro),\n",
            "0.790205 (weighted by prevalence)\n",
            "\n",
            "One-vs-Rest ROC AUC scores:\n",
            "0.798997 (macro),\n",
            "0.798733 (weighted by prevalence)\n"
          ]
        }
      ]
    },
    {
      "cell_type": "markdown",
      "metadata": {
        "id": "JucQf53RkPau"
      },
      "source": [
        "### Plots"
      ]
    },
    {
      "cell_type": "code",
      "metadata": {
        "id": "UdlP0xdcU_p_",
        "colab": {
          "base_uri": "https://localhost:8080/",
          "height": 423
        },
        "outputId": "4e97b953-d149-4343-b88c-38b227e6da22"
      },
      "source": [
        "# probabilities\n",
        "df_prob = pd.DataFrame(pred_proba)\n",
        "df_prob"
      ],
      "execution_count": 88,
      "outputs": [
        {
          "output_type": "execute_result",
          "data": {
            "text/html": [
              "<div>\n",
              "<style scoped>\n",
              "    .dataframe tbody tr th:only-of-type {\n",
              "        vertical-align: middle;\n",
              "    }\n",
              "\n",
              "    .dataframe tbody tr th {\n",
              "        vertical-align: top;\n",
              "    }\n",
              "\n",
              "    .dataframe thead th {\n",
              "        text-align: right;\n",
              "    }\n",
              "</style>\n",
              "<table border=\"1\" class=\"dataframe\">\n",
              "  <thead>\n",
              "    <tr style=\"text-align: right;\">\n",
              "      <th></th>\n",
              "      <th>0</th>\n",
              "      <th>1</th>\n",
              "      <th>2</th>\n",
              "    </tr>\n",
              "  </thead>\n",
              "  <tbody>\n",
              "    <tr>\n",
              "      <th>0</th>\n",
              "      <td>0.839519</td>\n",
              "      <td>0.031793</td>\n",
              "      <td>0.128688</td>\n",
              "    </tr>\n",
              "    <tr>\n",
              "      <th>1</th>\n",
              "      <td>0.483441</td>\n",
              "      <td>0.072676</td>\n",
              "      <td>0.443883</td>\n",
              "    </tr>\n",
              "    <tr>\n",
              "      <th>2</th>\n",
              "      <td>0.405870</td>\n",
              "      <td>0.071718</td>\n",
              "      <td>0.522412</td>\n",
              "    </tr>\n",
              "    <tr>\n",
              "      <th>3</th>\n",
              "      <td>0.440877</td>\n",
              "      <td>0.431384</td>\n",
              "      <td>0.127739</td>\n",
              "    </tr>\n",
              "    <tr>\n",
              "      <th>4</th>\n",
              "      <td>0.337367</td>\n",
              "      <td>0.144875</td>\n",
              "      <td>0.517758</td>\n",
              "    </tr>\n",
              "    <tr>\n",
              "      <th>...</th>\n",
              "      <td>...</td>\n",
              "      <td>...</td>\n",
              "      <td>...</td>\n",
              "    </tr>\n",
              "    <tr>\n",
              "      <th>2277</th>\n",
              "      <td>0.636600</td>\n",
              "      <td>0.086615</td>\n",
              "      <td>0.276786</td>\n",
              "    </tr>\n",
              "    <tr>\n",
              "      <th>2278</th>\n",
              "      <td>0.933016</td>\n",
              "      <td>0.008792</td>\n",
              "      <td>0.058193</td>\n",
              "    </tr>\n",
              "    <tr>\n",
              "      <th>2279</th>\n",
              "      <td>0.419342</td>\n",
              "      <td>0.046678</td>\n",
              "      <td>0.533980</td>\n",
              "    </tr>\n",
              "    <tr>\n",
              "      <th>2280</th>\n",
              "      <td>0.035151</td>\n",
              "      <td>0.070569</td>\n",
              "      <td>0.894280</td>\n",
              "    </tr>\n",
              "    <tr>\n",
              "      <th>2281</th>\n",
              "      <td>0.056298</td>\n",
              "      <td>0.045806</td>\n",
              "      <td>0.897896</td>\n",
              "    </tr>\n",
              "  </tbody>\n",
              "</table>\n",
              "<p>2282 rows × 3 columns</p>\n",
              "</div>"
            ],
            "text/plain": [
              "             0         1         2\n",
              "0     0.839519  0.031793  0.128688\n",
              "1     0.483441  0.072676  0.443883\n",
              "2     0.405870  0.071718  0.522412\n",
              "3     0.440877  0.431384  0.127739\n",
              "4     0.337367  0.144875  0.517758\n",
              "...        ...       ...       ...\n",
              "2277  0.636600  0.086615  0.276786\n",
              "2278  0.933016  0.008792  0.058193\n",
              "2279  0.419342  0.046678  0.533980\n",
              "2280  0.035151  0.070569  0.894280\n",
              "2281  0.056298  0.045806  0.897896\n",
              "\n",
              "[2282 rows x 3 columns]"
            ]
          },
          "metadata": {},
          "execution_count": 88
        }
      ]
    },
    {
      "cell_type": "code",
      "metadata": {
        "id": "aHGuBmfJqWBm",
        "colab": {
          "base_uri": "https://localhost:8080/",
          "height": 295
        },
        "outputId": "d7236918-e8e7-4cc4-f7f6-0fef73b6b3ce"
      },
      "source": [
        "# roc curve for classes\n",
        "fpr = {}\n",
        "tpr = {}\n",
        "thresh ={}\n",
        "\n",
        "n_class = 3\n",
        "\n",
        "for i in range(n_class):    \n",
        "    fpr[i], tpr[i], thresh[i] = roc_curve(true_dev, df_prob[i], pos_label=i)\n",
        "    \n",
        "# plotting    \n",
        "plt.plot(fpr[0], tpr[0], linestyle='--',color='orange', label='Class 0 vs Rest')\n",
        "plt.plot(fpr[1], tpr[1], linestyle='--',color='green', label='Class 1 vs Rest')\n",
        "plt.plot(fpr[2], tpr[2], linestyle='--',color='blue', label='Class 2 vs Rest')\n",
        "plt.title('Multiclass ROC curve')\n",
        "plt.xlabel('False Positive Rate')\n",
        "plt.ylabel('True Positive rate')\n",
        "plt.legend(loc='best')\n",
        "plt.savefig('Multiclass ROC',dpi=300);  "
      ],
      "execution_count": 89,
      "outputs": [
        {
          "output_type": "display_data",
          "data": {
            "image/png": "[encoded data removed]",
            "text/plain": [
              "<Figure size 432x288 with 1 Axes>"
            ]
          },
          "metadata": {
            "needs_background": "light"
          }
        }
      ]
    },
    {
      "cell_type": "code",
      "metadata": {
        "id": "foSvkW0ytpxF",
        "colab": {
          "base_uri": "https://localhost:8080/",
          "height": 733
        },
        "outputId": "dcfa1793-bc33-4d4f-897f-87faa8844586"
      },
      "source": [
        "def plot_graph_loss(epochs):\n",
        "    fig = plt.figure(figsize=(12,12))\n",
        "    plt.title(\"Train/Validation Loss\")\n",
        "    plt.plot(list(np.arange(epochs) + 1) , epoch_loss, label='train')\n",
        "    plt.plot(list(np.arange(epochs) + 1), epoch_loss_dev, label='validation')\n",
        "    plt.xlabel('num_epochs', fontsize=12)\n",
        "    plt.ylabel('loss', fontsize=12)\n",
        "    plt.legend(['train', 'validation']);\n",
        "\n",
        "plot_graph_loss(100)"
      ],
      "execution_count": 90,
      "outputs": [
        {
          "output_type": "display_data",
          "data": {
            "image/png": "[encoded data removed]",
            "text/plain": [
              "<Figure size 864x864 with 1 Axes>"
            ]
          },
          "metadata": {
            "needs_background": "light"
          }
        }
      ]
    },
    {
      "cell_type": "code",
      "metadata": {
        "colab": {
          "base_uri": "https://localhost:8080/",
          "height": 733
        },
        "id": "71cJojWzkNQs",
        "outputId": "9b2951af-6bf1-4c78-8f85-d90ec1f287f0"
      },
      "source": [
        "def plot_graph_acc(epochs):\n",
        "    fig = plt.figure(figsize=(12,12))\n",
        "    plt.title(\"Train/Validation Accuracy\")\n",
        "    plt.plot(list(np.arange(epochs) + 1) , epoch_acc, label='train')\n",
        "    plt.plot(list(np.arange(epochs) + 1), epoch_acc_dev, label='validation')\n",
        "    plt.xlabel('num_epochs', fontsize=12)\n",
        "    plt.ylabel('accuracy', fontsize=12)\n",
        "    plt.legend(['train', 'validation']);\n",
        "\n",
        "plot_graph_acc(100)    "
      ],
      "execution_count": 91,
      "outputs": [
        {
          "output_type": "display_data",
          "data": {
            "image/png": "[encoded data removed]",
            "text/plain": [
              "<Figure size 864x864 with 1 Axes>"
            ]
          },
          "metadata": {
            "needs_background": "light"
          }
        }
      ]
    },
    {
      "cell_type": "markdown",
      "metadata": {
        "id": "2GZAQd93xYXE"
      },
      "source": [
        "## Second Model"
      ]
    },
    {
      "cell_type": "code",
      "metadata": {
        "id": "Nmu-PutrxYXG"
      },
      "source": [
        "class Net2(nn.Module):\n",
        "    def __init__(self, D_in, H1, H2, H3, D_out):\n",
        "        super(Net2, self).__init__()\n",
        "        self.linear1 = nn.Linear(D_in, H1)\n",
        "        self.batchnorm1 = nn.BatchNorm1d(H1)\n",
        "        self.relu = nn.ReLU()\n",
        "        self.dropout = nn.Dropout(p=0.2)\n",
        "        self.linear2 = nn.Linear(H1, H2)\n",
        "        self.sigmoid = nn.Sigmoid()\n",
        "        self.linear3 = nn.Linear(H2, H3)\n",
        "        self.linear4 = nn.Linear(H3, D_out)\n",
        "        self.logsoftmax = nn.LogSoftmax(dim=1)\n",
        "        \n",
        "    def forward(self, x):\n",
        "        out = self.linear1(x)\n",
        "        out = self.batchnorm1(out)\n",
        "        out = self.relu(out)\n",
        "        out = self.dropout(out)\n",
        "        out = self.linear2(out)\n",
        "        out = self.sigmoid(out)\n",
        "        out = self.linear3(out)\n",
        "        out = self.logsoftmax(out)\n",
        "        return out"
      ],
      "execution_count": 92,
      "outputs": []
    },
    {
      "cell_type": "code",
      "metadata": {
        "id": "XsnnrIHHxYXG"
      },
      "source": [
        "#Define layer sizes\n",
        "D_in = x.shape[1]\n",
        "H1 = 128\n",
        "H2 = 64\n",
        "H3 = 32\n",
        "D_out = 3\n",
        "\n",
        "#Define Hyperparameters\n",
        "learning_rate = 1e-4\n",
        "\n",
        "#Initialize model, optimizer, loss function\n",
        "model = Net2(D_in, H1, H2, H3, D_out)\n",
        "\n",
        "loss_func = nn.NLLLoss()                    # with softmax in output of model\n",
        "\n",
        "optimizer = optim.Adam(model.parameters(), lr=learning_rate)\n",
        "#optimizer = optim.SGD(model.parameters(), lr=learning_rate, momentum=0.2, weight_decay=0.01)\n",
        "#optimizer = optim.Adagrad(model.parameters(), lr=learning_rate)"
      ],
      "execution_count": 93,
      "outputs": []
    },
    {
      "cell_type": "code",
      "metadata": {
        "colab": {
          "base_uri": "https://localhost:8080/"
        },
        "id": "iQgFSLqbxYXH",
        "outputId": "e70c4975-ea26-4de7-c6db-6b3e575268ed"
      },
      "source": [
        "model"
      ],
      "execution_count": 94,
      "outputs": [
        {
          "output_type": "execute_result",
          "data": {
            "text/plain": [
              "Net2(\n",
              "  (linear1): Linear(in_features=25, out_features=128, bias=True)\n",
              "  (batchnorm1): BatchNorm1d(128, eps=1e-05, momentum=0.1, affine=True, track_running_stats=True)\n",
              "  (relu): ReLU()\n",
              "  (dropout): Dropout(p=0.2, inplace=False)\n",
              "  (linear2): Linear(in_features=128, out_features=64, bias=True)\n",
              "  (sigmoid): Sigmoid()\n",
              "  (linear3): Linear(in_features=64, out_features=32, bias=True)\n",
              "  (linear4): Linear(in_features=32, out_features=3, bias=True)\n",
              "  (logsoftmax): LogSoftmax(dim=1)\n",
              ")"
            ]
          },
          "metadata": {},
          "execution_count": 94
        }
      ]
    },
    {
      "cell_type": "code",
      "metadata": {
        "colab": {
          "base_uri": "https://localhost:8080/"
        },
        "id": "v9TQMjNcxYXH",
        "outputId": "47784595-2155-42ed-9981-a448e5fac122"
      },
      "source": [
        "epoch_loss = []\n",
        "epoch_loss_dev = []\n",
        "epoch_acc = []\n",
        "epoch_acc_dev = []\n",
        "\n",
        "for epoch in range(100):\n",
        "\n",
        "  batch_losses = []\n",
        "  batch_acc = 0\n",
        "  total = 0\n",
        "  total_dev = 0\n",
        "  loss = 0\n",
        "  pred = []\n",
        "  true = []\n",
        "  pred_dev = []\n",
        "  true_dev = []\n",
        "\n",
        "  # training\n",
        "  model.train()\n",
        "  for x_batch, y_batch in train_dataloader:  # for every batch\n",
        "    y_pred = model(x_batch).squeeze(1)\n",
        "    loss = loss_func(y_pred, y_batch)\n",
        "    batch_losses.append(loss)\n",
        "    #Delete previously stored gradients\n",
        "    optimizer.zero_grad()\n",
        "    #Perform backpropagation starting from the loss calculated in this epoch\n",
        "    loss.backward()\n",
        "    #Update model's weights based on the gradients calculated during backprop\n",
        "    optimizer.step()\n",
        "\n",
        "    # Total number of labels\n",
        "    total += y_batch.size(0)\n",
        "    # Total correct predictions\n",
        "    _,pred_label = torch.max(y_pred, dim = 1)\n",
        "    batch_acc += (pred_label == y_batch).sum()\n",
        "    for i in pred_label:\n",
        "      pred.append(i)\n",
        "    for i in y_batch:\n",
        "      true.append(i.item())\n",
        "\n",
        "  # validation    \n",
        "  with torch.no_grad():\n",
        "    batch_losses_dev = []\n",
        "    batch_acc_dev = 0\n",
        "    model.eval()\n",
        "\n",
        "    for x_batch, y_batch in dev_dataloader:\n",
        "        y_dev_pred = model(x_batch).squeeze(1)\n",
        "        loss_dev = loss_func(y_dev_pred, y_batch)\n",
        "        batch_losses_dev.append(loss_dev)\n",
        "        # number of labels\n",
        "        total_dev += y_batch.size(0)\n",
        "        # correct predictions\n",
        "        _,pred_label = torch.max(y_dev_pred, dim = 1)  # get max probability\n",
        "        batch_acc_dev += (pred_label == y_batch).sum()\n",
        "        for i in pred_label:\n",
        "          pred_dev.append(i)\n",
        "        for i in y_batch:\n",
        "          true_dev.append(i.item())\n",
        "\n",
        "\n",
        "  accuracy = batch_acc/total\n",
        "  accuracy_dev = batch_acc_dev/total_dev\n",
        "\n",
        "  train_loss = sum(batch_losses)/len(train_dataloader)\n",
        "  valid_loss = sum(batch_losses_dev)/len(dev_dataloader)\n",
        "\n",
        "  epoch_loss.append(train_loss)\n",
        "  epoch_loss_dev.append(valid_loss)\n",
        "  epoch_acc.append(accuracy)\n",
        "  epoch_acc_dev.append(accuracy_dev)\n",
        "\n",
        "  print(f\"Epoch {epoch:3}: | Train Loss = {train_loss:.5f} | Train Accuracy = {accuracy:.5f} | Validation Loss = {valid_loss:.5f} | Validation Accuracy = {accuracy_dev:.5f} \")"
      ],
      "execution_count": 95,
      "outputs": [
        {
          "output_type": "stream",
          "name": "stdout",
          "text": [
            "Epoch   0: | Train Loss = 2.58670 | Train Accuracy = 0.36603 | Validation Loss = 1.77466 | Validation Accuracy = 0.51621 \n",
            "Epoch   1: | Train Loss = 1.39140 | Train Accuracy = 0.53473 | Validation Loss = 1.17362 | Validation Accuracy = 0.55259 \n",
            "Epoch   2: | Train Loss = 1.08878 | Train Accuracy = 0.55028 | Validation Loss = 1.03126 | Validation Accuracy = 0.56442 \n",
            "Epoch   3: | Train Loss = 1.00038 | Train Accuracy = 0.56369 | Validation Loss = 0.97157 | Validation Accuracy = 0.57625 \n",
            "Epoch   4: | Train Loss = 0.95404 | Train Accuracy = 0.57811 | Validation Loss = 0.93111 | Validation Accuracy = 0.58589 \n",
            "Epoch   5: | Train Loss = 0.92152 | Train Accuracy = 0.58938 | Validation Loss = 0.90449 | Validation Accuracy = 0.59728 \n",
            "Epoch   6: | Train Loss = 0.89920 | Train Accuracy = 0.59480 | Validation Loss = 0.88447 | Validation Accuracy = 0.60167 \n",
            "Epoch   7: | Train Loss = 0.88293 | Train Accuracy = 0.60116 | Validation Loss = 0.86636 | Validation Accuracy = 0.60429 \n",
            "Epoch   8: | Train Loss = 0.86952 | Train Accuracy = 0.60764 | Validation Loss = 0.85525 | Validation Accuracy = 0.60824 \n",
            "Epoch   9: | Train Loss = 0.85698 | Train Accuracy = 0.60890 | Validation Loss = 0.84527 | Validation Accuracy = 0.60999 \n",
            "Epoch  10: | Train Loss = 0.84855 | Train Accuracy = 0.61136 | Validation Loss = 0.83816 | Validation Accuracy = 0.61174 \n",
            "Epoch  11: | Train Loss = 0.84308 | Train Accuracy = 0.61545 | Validation Loss = 0.83176 | Validation Accuracy = 0.61963 \n",
            "Epoch  12: | Train Loss = 0.83780 | Train Accuracy = 0.61791 | Validation Loss = 0.82746 | Validation Accuracy = 0.61218 \n",
            "Epoch  13: | Train Loss = 0.83429 | Train Accuracy = 0.62043 | Validation Loss = 0.82013 | Validation Accuracy = 0.62138 \n",
            "Epoch  14: | Train Loss = 0.83140 | Train Accuracy = 0.62156 | Validation Loss = 0.81703 | Validation Accuracy = 0.61700 \n",
            "Epoch  15: | Train Loss = 0.82490 | Train Accuracy = 0.62395 | Validation Loss = 0.81700 | Validation Accuracy = 0.62138 \n",
            "Epoch  16: | Train Loss = 0.82312 | Train Accuracy = 0.62458 | Validation Loss = 0.81151 | Validation Accuracy = 0.62401 \n",
            "Epoch  17: | Train Loss = 0.82217 | Train Accuracy = 0.62439 | Validation Loss = 0.81079 | Validation Accuracy = 0.62401 \n",
            "Epoch  18: | Train Loss = 0.82076 | Train Accuracy = 0.62376 | Validation Loss = 0.81013 | Validation Accuracy = 0.62577 \n",
            "Epoch  19: | Train Loss = 0.81650 | Train Accuracy = 0.62528 | Validation Loss = 0.80503 | Validation Accuracy = 0.62445 \n",
            "Epoch  20: | Train Loss = 0.81552 | Train Accuracy = 0.62263 | Validation Loss = 0.80238 | Validation Accuracy = 0.62621 \n",
            "Epoch  21: | Train Loss = 0.81291 | Train Accuracy = 0.62735 | Validation Loss = 0.80313 | Validation Accuracy = 0.62489 \n",
            "Epoch  22: | Train Loss = 0.81071 | Train Accuracy = 0.62603 | Validation Loss = 0.79994 | Validation Accuracy = 0.62445 \n",
            "Epoch  23: | Train Loss = 0.80986 | Train Accuracy = 0.63031 | Validation Loss = 0.79730 | Validation Accuracy = 0.62840 \n",
            "Epoch  24: | Train Loss = 0.80674 | Train Accuracy = 0.62918 | Validation Loss = 0.79479 | Validation Accuracy = 0.63103 \n",
            "Epoch  25: | Train Loss = 0.80448 | Train Accuracy = 0.63384 | Validation Loss = 0.79599 | Validation Accuracy = 0.62445 \n",
            "Epoch  26: | Train Loss = 0.80462 | Train Accuracy = 0.63233 | Validation Loss = 0.79314 | Validation Accuracy = 0.63059 \n",
            "Epoch  27: | Train Loss = 0.80392 | Train Accuracy = 0.63145 | Validation Loss = 0.79329 | Validation Accuracy = 0.63059 \n",
            "Epoch  28: | Train Loss = 0.80285 | Train Accuracy = 0.63101 | Validation Loss = 0.79283 | Validation Accuracy = 0.62883 \n",
            "Epoch  29: | Train Loss = 0.79962 | Train Accuracy = 0.63415 | Validation Loss = 0.79090 | Validation Accuracy = 0.62927 \n",
            "Epoch  30: | Train Loss = 0.79867 | Train Accuracy = 0.63359 | Validation Loss = 0.78882 | Validation Accuracy = 0.63365 \n",
            "Epoch  31: | Train Loss = 0.80013 | Train Accuracy = 0.63415 | Validation Loss = 0.78860 | Validation Accuracy = 0.63322 \n",
            "Epoch  32: | Train Loss = 0.79615 | Train Accuracy = 0.63579 | Validation Loss = 0.78812 | Validation Accuracy = 0.63322 \n",
            "Epoch  33: | Train Loss = 0.79859 | Train Accuracy = 0.63327 | Validation Loss = 0.78435 | Validation Accuracy = 0.63015 \n",
            "Epoch  34: | Train Loss = 0.79607 | Train Accuracy = 0.63781 | Validation Loss = 0.78341 | Validation Accuracy = 0.63409 \n",
            "Epoch  35: | Train Loss = 0.79376 | Train Accuracy = 0.63623 | Validation Loss = 0.78300 | Validation Accuracy = 0.63190 \n",
            "Epoch  36: | Train Loss = 0.79405 | Train Accuracy = 0.63806 | Validation Loss = 0.78221 | Validation Accuracy = 0.63585 \n",
            "Epoch  37: | Train Loss = 0.79063 | Train Accuracy = 0.63774 | Validation Loss = 0.78408 | Validation Accuracy = 0.64242 \n",
            "Epoch  38: | Train Loss = 0.78893 | Train Accuracy = 0.63837 | Validation Loss = 0.77996 | Validation Accuracy = 0.63322 \n",
            "Epoch  39: | Train Loss = 0.79169 | Train Accuracy = 0.63491 | Validation Loss = 0.77903 | Validation Accuracy = 0.63716 \n",
            "Epoch  40: | Train Loss = 0.78897 | Train Accuracy = 0.64203 | Validation Loss = 0.78104 | Validation Accuracy = 0.63497 \n",
            "Epoch  41: | Train Loss = 0.78918 | Train Accuracy = 0.64077 | Validation Loss = 0.77781 | Validation Accuracy = 0.63804 \n",
            "Epoch  42: | Train Loss = 0.78764 | Train Accuracy = 0.64247 | Validation Loss = 0.77879 | Validation Accuracy = 0.63672 \n",
            "Epoch  43: | Train Loss = 0.78784 | Train Accuracy = 0.64121 | Validation Loss = 0.77971 | Validation Accuracy = 0.63541 \n",
            "Epoch  44: | Train Loss = 0.78704 | Train Accuracy = 0.64045 | Validation Loss = 0.77799 | Validation Accuracy = 0.63804 \n",
            "Epoch  45: | Train Loss = 0.78463 | Train Accuracy = 0.64316 | Validation Loss = 0.77741 | Validation Accuracy = 0.63891 \n",
            "Epoch  46: | Train Loss = 0.78571 | Train Accuracy = 0.64253 | Validation Loss = 0.77816 | Validation Accuracy = 0.63365 \n",
            "Epoch  47: | Train Loss = 0.78391 | Train Accuracy = 0.64398 | Validation Loss = 0.77336 | Validation Accuracy = 0.63716 \n",
            "Epoch  48: | Train Loss = 0.78530 | Train Accuracy = 0.63982 | Validation Loss = 0.77417 | Validation Accuracy = 0.64198 \n",
            "Epoch  49: | Train Loss = 0.78136 | Train Accuracy = 0.64221 | Validation Loss = 0.77365 | Validation Accuracy = 0.63804 \n",
            "Epoch  50: | Train Loss = 0.78510 | Train Accuracy = 0.64373 | Validation Loss = 0.77348 | Validation Accuracy = 0.64023 \n",
            "Epoch  51: | Train Loss = 0.78179 | Train Accuracy = 0.64221 | Validation Loss = 0.77334 | Validation Accuracy = 0.63891 \n",
            "Epoch  52: | Train Loss = 0.78001 | Train Accuracy = 0.64385 | Validation Loss = 0.77118 | Validation Accuracy = 0.64373 \n",
            "Epoch  53: | Train Loss = 0.77829 | Train Accuracy = 0.64354 | Validation Loss = 0.76951 | Validation Accuracy = 0.64242 \n",
            "Epoch  54: | Train Loss = 0.77936 | Train Accuracy = 0.64203 | Validation Loss = 0.77051 | Validation Accuracy = 0.64592 \n",
            "Epoch  55: | Train Loss = 0.77524 | Train Accuracy = 0.64807 | Validation Loss = 0.76933 | Validation Accuracy = 0.64067 \n",
            "Epoch  56: | Train Loss = 0.78118 | Train Accuracy = 0.64511 | Validation Loss = 0.77085 | Validation Accuracy = 0.64110 \n",
            "Epoch  57: | Train Loss = 0.77832 | Train Accuracy = 0.64473 | Validation Loss = 0.76936 | Validation Accuracy = 0.64242 \n",
            "Epoch  58: | Train Loss = 0.77619 | Train Accuracy = 0.64895 | Validation Loss = 0.76837 | Validation Accuracy = 0.64286 \n",
            "Epoch  59: | Train Loss = 0.77758 | Train Accuracy = 0.64725 | Validation Loss = 0.76983 | Validation Accuracy = 0.64198 \n",
            "Epoch  60: | Train Loss = 0.77604 | Train Accuracy = 0.64310 | Validation Loss = 0.76916 | Validation Accuracy = 0.64198 \n",
            "Epoch  61: | Train Loss = 0.77663 | Train Accuracy = 0.64694 | Validation Loss = 0.76900 | Validation Accuracy = 0.64505 \n",
            "Epoch  62: | Train Loss = 0.77362 | Train Accuracy = 0.64876 | Validation Loss = 0.76836 | Validation Accuracy = 0.64023 \n",
            "Epoch  63: | Train Loss = 0.77488 | Train Accuracy = 0.64927 | Validation Loss = 0.76908 | Validation Accuracy = 0.64373 \n",
            "Epoch  64: | Train Loss = 0.77646 | Train Accuracy = 0.65229 | Validation Loss = 0.76732 | Validation Accuracy = 0.64330 \n",
            "Epoch  65: | Train Loss = 0.77163 | Train Accuracy = 0.64801 | Validation Loss = 0.76743 | Validation Accuracy = 0.64154 \n",
            "Epoch  66: | Train Loss = 0.77446 | Train Accuracy = 0.64801 | Validation Loss = 0.76906 | Validation Accuracy = 0.64505 \n",
            "Epoch  67: | Train Loss = 0.77120 | Train Accuracy = 0.64920 | Validation Loss = 0.76559 | Validation Accuracy = 0.64067 \n",
            "Epoch  68: | Train Loss = 0.77217 | Train Accuracy = 0.64813 | Validation Loss = 0.76699 | Validation Accuracy = 0.64110 \n",
            "Epoch  69: | Train Loss = 0.77262 | Train Accuracy = 0.64593 | Validation Loss = 0.76454 | Validation Accuracy = 0.64417 \n",
            "Epoch  70: | Train Loss = 0.77172 | Train Accuracy = 0.64958 | Validation Loss = 0.76369 | Validation Accuracy = 0.64330 \n",
            "Epoch  71: | Train Loss = 0.77132 | Train Accuracy = 0.64952 | Validation Loss = 0.76737 | Validation Accuracy = 0.64330 \n",
            "Epoch  72: | Train Loss = 0.77095 | Train Accuracy = 0.65097 | Validation Loss = 0.76314 | Validation Accuracy = 0.64549 \n",
            "Epoch  73: | Train Loss = 0.76832 | Train Accuracy = 0.65147 | Validation Loss = 0.76602 | Validation Accuracy = 0.64461 \n",
            "Epoch  74: | Train Loss = 0.77438 | Train Accuracy = 0.64360 | Validation Loss = 0.76311 | Validation Accuracy = 0.64592 \n",
            "Epoch  75: | Train Loss = 0.77158 | Train Accuracy = 0.64977 | Validation Loss = 0.76427 | Validation Accuracy = 0.64242 \n",
            "Epoch  76: | Train Loss = 0.76968 | Train Accuracy = 0.65065 | Validation Loss = 0.76238 | Validation Accuracy = 0.64680 \n",
            "Epoch  77: | Train Loss = 0.76860 | Train Accuracy = 0.65241 | Validation Loss = 0.76471 | Validation Accuracy = 0.64417 \n",
            "Epoch  78: | Train Loss = 0.76790 | Train Accuracy = 0.64895 | Validation Loss = 0.76346 | Validation Accuracy = 0.64724 \n",
            "Epoch  79: | Train Loss = 0.76755 | Train Accuracy = 0.64763 | Validation Loss = 0.76325 | Validation Accuracy = 0.64768 \n",
            "Epoch  80: | Train Loss = 0.76573 | Train Accuracy = 0.64996 | Validation Loss = 0.76431 | Validation Accuracy = 0.64768 \n",
            "Epoch  81: | Train Loss = 0.76727 | Train Accuracy = 0.65323 | Validation Loss = 0.76145 | Validation Accuracy = 0.64855 \n",
            "Epoch  82: | Train Loss = 0.76758 | Train Accuracy = 0.65002 | Validation Loss = 0.76218 | Validation Accuracy = 0.64943 \n",
            "Epoch  83: | Train Loss = 0.76931 | Train Accuracy = 0.65179 | Validation Loss = 0.76264 | Validation Accuracy = 0.64768 \n",
            "Epoch  84: | Train Loss = 0.76283 | Train Accuracy = 0.65525 | Validation Loss = 0.76242 | Validation Accuracy = 0.64636 \n",
            "Epoch  85: | Train Loss = 0.76564 | Train Accuracy = 0.65418 | Validation Loss = 0.76330 | Validation Accuracy = 0.65031 \n",
            "Epoch  86: | Train Loss = 0.76456 | Train Accuracy = 0.65223 | Validation Loss = 0.76194 | Validation Accuracy = 0.64987 \n",
            "Epoch  87: | Train Loss = 0.76607 | Train Accuracy = 0.65374 | Validation Loss = 0.76088 | Validation Accuracy = 0.64724 \n",
            "Epoch  88: | Train Loss = 0.76607 | Train Accuracy = 0.64889 | Validation Loss = 0.76347 | Validation Accuracy = 0.64110 \n",
            "Epoch  89: | Train Loss = 0.76493 | Train Accuracy = 0.65619 | Validation Loss = 0.76084 | Validation Accuracy = 0.64768 \n",
            "Epoch  90: | Train Loss = 0.76640 | Train Accuracy = 0.65500 | Validation Loss = 0.76324 | Validation Accuracy = 0.64899 \n",
            "Epoch  91: | Train Loss = 0.76559 | Train Accuracy = 0.65153 | Validation Loss = 0.76137 | Validation Accuracy = 0.64899 \n",
            "Epoch  92: | Train Loss = 0.76476 | Train Accuracy = 0.65141 | Validation Loss = 0.76120 | Validation Accuracy = 0.64812 \n",
            "Epoch  93: | Train Loss = 0.76362 | Train Accuracy = 0.65550 | Validation Loss = 0.76180 | Validation Accuracy = 0.64987 \n",
            "Epoch  94: | Train Loss = 0.76363 | Train Accuracy = 0.65443 | Validation Loss = 0.76184 | Validation Accuracy = 0.64899 \n",
            "Epoch  95: | Train Loss = 0.76174 | Train Accuracy = 0.65330 | Validation Loss = 0.76030 | Validation Accuracy = 0.65250 \n",
            "Epoch  96: | Train Loss = 0.76890 | Train Accuracy = 0.65361 | Validation Loss = 0.76106 | Validation Accuracy = 0.64943 \n",
            "Epoch  97: | Train Loss = 0.76279 | Train Accuracy = 0.65323 | Validation Loss = 0.76013 | Validation Accuracy = 0.65425 \n",
            "Epoch  98: | Train Loss = 0.76550 | Train Accuracy = 0.65235 | Validation Loss = 0.76213 | Validation Accuracy = 0.64461 \n",
            "Epoch  99: | Train Loss = 0.76223 | Train Accuracy = 0.65229 | Validation Loss = 0.76379 | Validation Accuracy = 0.64943 \n"
          ]
        }
      ]
    },
    {
      "cell_type": "markdown",
      "metadata": {
        "id": "lkg036AAxYXI"
      },
      "source": [
        "### Evaluation"
      ]
    },
    {
      "cell_type": "code",
      "metadata": {
        "colab": {
          "base_uri": "https://localhost:8080/",
          "height": 279
        },
        "id": "JPE7KRl7xYXI",
        "outputId": "182cecc9-9379-4358-8dc1-980171b40ec1"
      },
      "source": [
        "target_names = ['neutral', 'anti-vax', 'pro-vax']\n",
        "df = pd.DataFrame({'true':true})\n",
        "df2 = pd.DataFrame({'pred':pred})\n",
        "cm = confusion_matrix(true, pred)\n",
        "disp = ConfusionMatrixDisplay(confusion_matrix=cm, display_labels=target_names)\n",
        "disp.plot()\n",
        "plt.show()"
      ],
      "execution_count": 96,
      "outputs": [
        {
          "output_type": "display_data",
          "data": {
            "image/png": "[encoded data removed]",
            "text/plain": [
              "<Figure size 432x288 with 2 Axes>"
            ]
          },
          "metadata": {
            "needs_background": "light"
          }
        }
      ]
    },
    {
      "cell_type": "code",
      "metadata": {
        "id": "d1AlvPI2xYXI",
        "colab": {
          "base_uri": "https://localhost:8080/"
        },
        "outputId": "3e4a46f0-04ef-49bb-afdf-3e16ea0c3c06"
      },
      "source": [
        "print(\"Precision-Recall-F1 - Training Data :\")\n",
        "print(precision_recall_fscore_support(true, pred, average='micro'))\n",
        "print()\n",
        "print(\"Precision-Recall-F1 - Test Data :\")\n",
        "print(precision_recall_fscore_support(true_dev, pred_dev, average='micro'))\n",
        "print()"
      ],
      "execution_count": 97,
      "outputs": [
        {
          "output_type": "stream",
          "name": "stdout",
          "text": [
            "Precision-Recall-F1 - Training Data :\n",
            "(0.652288898683962, 0.652288898683962, 0.652288898683962, None)\n",
            "\n",
            "Precision-Recall-F1 - Test Data :\n",
            "(0.64943032427695, 0.64943032427695, 0.64943032427695, None)\n",
            "\n"
          ]
        }
      ]
    },
    {
      "cell_type": "code",
      "metadata": {
        "id": "3rZyYICtxYXJ",
        "colab": {
          "base_uri": "https://localhost:8080/"
        },
        "outputId": "2a821ecc-19cc-4527-def2-f57ce269b74a"
      },
      "source": [
        "print(classification_report(true, pred))"
      ],
      "execution_count": 98,
      "outputs": [
        {
          "output_type": "stream",
          "name": "stdout",
          "text": [
            "              precision    recall  f1-score   support\n",
            "\n",
            "           0       0.71      0.75      0.72      7385\n",
            "           1       0.49      0.20      0.29      2070\n",
            "           2       0.61      0.69      0.65      6426\n",
            "\n",
            "    accuracy                           0.65     15881\n",
            "   macro avg       0.60      0.55      0.55     15881\n",
            "weighted avg       0.64      0.65      0.64     15881\n",
            "\n"
          ]
        }
      ]
    },
    {
      "cell_type": "markdown",
      "metadata": {
        "id": "3SL-_dIexYXJ"
      },
      "source": [
        "### Plots"
      ]
    },
    {
      "cell_type": "code",
      "metadata": {
        "id": "sAvYEyVoxYXK",
        "colab": {
          "base_uri": "https://localhost:8080/",
          "height": 733
        },
        "outputId": "93a328e6-0de1-49db-d12f-c57927324bc1"
      },
      "source": [
        "def plot_graph_loss(epochs):\n",
        "    fig = plt.figure(figsize=(12,12))\n",
        "    plt.title(\"Train/Validation Loss\")\n",
        "    plt.plot(list(np.arange(epochs) + 1) , epoch_loss, label='train')\n",
        "    plt.plot(list(np.arange(epochs) + 1), epoch_loss_dev, label='validation')\n",
        "    plt.xlabel('num_epochs', fontsize=12)\n",
        "    plt.ylabel('loss', fontsize=12)\n",
        "    plt.legend(['train', 'validation']);\n",
        "plot_graph_loss(100)"
      ],
      "execution_count": 99,
      "outputs": [
        {
          "output_type": "display_data",
          "data": {
            "image/png": "[encoded data removed]",
            "text/plain": [
              "<Figure size 864x864 with 1 Axes>"
            ]
          },
          "metadata": {
            "needs_background": "light"
          }
        }
      ]
    },
    {
      "cell_type": "code",
      "metadata": {
        "id": "dGmfTebrxYXK",
        "colab": {
          "base_uri": "https://localhost:8080/",
          "height": 733
        },
        "outputId": "089d6f05-65a0-4ce1-b50f-ba6454c00928"
      },
      "source": [
        "def plot_graph_acc(epochs):\n",
        "    fig = plt.figure(figsize=(12,12))\n",
        "    plt.title(\"Train/Validation Accuracy\")\n",
        "    plt.plot(list(np.arange(epochs) + 1) , epoch_acc, label='train')\n",
        "    plt.plot(list(np.arange(epochs) + 1), epoch_acc_dev, label='validation')\n",
        "    plt.xlabel('num_epochs', fontsize=12)\n",
        "    plt.ylabel('accuracy', fontsize=12)\n",
        "    plt.legend(['train', 'validation']);\n",
        "plot_graph_acc(100)    "
      ],
      "execution_count": 100,
      "outputs": [
        {
          "output_type": "display_data",
          "data": {
            "image/png": "[encoded data removed]",
            "text/plain": [
              "<Figure size 864x864 with 1 Axes>"
            ]
          },
          "metadata": {
            "needs_background": "light"
          }
        }
      ]
    }
  ]
}